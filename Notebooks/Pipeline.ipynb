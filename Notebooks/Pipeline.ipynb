{
  "nbformat": 4,
  "nbformat_minor": 0,
  "metadata": {
    "colab": {
      "provenance": []
    },
    "kernelspec": {
      "name": "python3",
      "display_name": "Python 3"
    },
    "gpuClass": "standard"
  },
  "cells": [
    {
      "cell_type": "code",
      "metadata": {
        "id": "YYUgxQ8TQ0RM",
        "colab": {
          "base_uri": "https://localhost:8080/"
        },
        "outputId": "89fb4f75-f50c-4281-eef2-c763fcd99f3a"
      },
      "source": [
        "!pip install matplotlib==3.1.0"
      ],
      "execution_count": 1,
      "outputs": [
        {
          "output_type": "stream",
          "name": "stdout",
          "text": [
            "Looking in indexes: https://pypi.org/simple, https://us-python.pkg.dev/colab-wheels/public/simple/\n",
            "Requirement already satisfied: matplotlib==3.1.0 in /usr/local/lib/python3.8/dist-packages (3.1.0)\n",
            "Requirement already satisfied: cycler>=0.10 in /usr/local/lib/python3.8/dist-packages (from matplotlib==3.1.0) (0.11.0)\n",
            "Requirement already satisfied: kiwisolver>=1.0.1 in /usr/local/lib/python3.8/dist-packages (from matplotlib==3.1.0) (1.4.4)\n",
            "Requirement already satisfied: python-dateutil>=2.1 in /usr/local/lib/python3.8/dist-packages (from matplotlib==3.1.0) (2.8.2)\n",
            "Requirement already satisfied: pyparsing!=2.0.4,!=2.1.2,!=2.1.6,>=2.0.1 in /usr/local/lib/python3.8/dist-packages (from matplotlib==3.1.0) (3.0.9)\n",
            "Requirement already satisfied: numpy>=1.11 in /usr/local/lib/python3.8/dist-packages (from matplotlib==3.1.0) (1.21.6)\n",
            "Requirement already satisfied: six>=1.5 in /usr/local/lib/python3.8/dist-packages (from python-dateutil>=2.1->matplotlib==3.1.0) (1.15.0)\n"
          ]
        }
      ]
    },
    {
      "cell_type": "code",
      "metadata": {
        "id": "0yHgWvqWBAqS",
        "outputId": "c44ae78d-2078-4474-fb00-36bcc31349ad",
        "colab": {
          "base_uri": "https://localhost:8080/"
        }
      },
      "source": [
        "!pip install hazm\n",
        "!pip install stopwords_guilannlp"
      ],
      "execution_count": 2,
      "outputs": [
        {
          "output_type": "stream",
          "name": "stdout",
          "text": [
            "Looking in indexes: https://pypi.org/simple, https://us-python.pkg.dev/colab-wheels/public/simple/\n",
            "Collecting hazm\n",
            "  Downloading hazm-0.7.0-py3-none-any.whl (316 kB)\n",
            "\u001b[K     |████████████████████████████████| 316 kB 4.3 MB/s \n",
            "\u001b[?25hCollecting libwapiti>=0.2.1\n",
            "  Downloading libwapiti-0.2.1.tar.gz (233 kB)\n",
            "\u001b[K     |████████████████████████████████| 233 kB 45.5 MB/s \n",
            "\u001b[?25hCollecting nltk==3.3\n",
            "  Downloading nltk-3.3.0.zip (1.4 MB)\n",
            "\u001b[K     |████████████████████████████████| 1.4 MB 49.2 MB/s \n",
            "\u001b[?25hRequirement already satisfied: six in /usr/local/lib/python3.8/dist-packages (from nltk==3.3->hazm) (1.15.0)\n",
            "Building wheels for collected packages: nltk, libwapiti\n",
            "  Building wheel for nltk (setup.py) ... \u001b[?25l\u001b[?25hdone\n",
            "  Created wheel for nltk: filename=nltk-3.3-py3-none-any.whl size=1394488 sha256=20d6785266f1dc86c2dea88dfc1f02d6a51a10739fc13d06210ae44f9265c6af\n",
            "  Stored in directory: /root/.cache/pip/wheels/19/1d/3a/0a8c14c30132b4f9ffd796efbb6746f15b3d6bcfc1055a9346\n",
            "  Building wheel for libwapiti (setup.py) ... \u001b[?25l\u001b[?25hdone\n",
            "  Created wheel for libwapiti: filename=libwapiti-0.2.1-cp38-cp38-linux_x86_64.whl size=154968 sha256=b9eec3f32e625433a730e9337dbc5a9164bf2c30338af41df274e2dfbe440f55\n",
            "  Stored in directory: /root/.cache/pip/wheels/3c/d8/9f/59fd78b2b7d1e9ffcb68fb6de80c2e7c20b804c8cbc4d8fc23\n",
            "Successfully built nltk libwapiti\n",
            "Installing collected packages: nltk, libwapiti, hazm\n",
            "  Attempting uninstall: nltk\n",
            "    Found existing installation: nltk 3.7\n",
            "    Uninstalling nltk-3.7:\n",
            "      Successfully uninstalled nltk-3.7\n",
            "Successfully installed hazm-0.7.0 libwapiti-0.2.1 nltk-3.3\n",
            "Looking in indexes: https://pypi.org/simple, https://us-python.pkg.dev/colab-wheels/public/simple/\n",
            "Collecting stopwords_guilannlp\n",
            "  Downloading stopwords_guilannlp-13.2019.3.5-py3-none-any.whl (8.2 kB)\n",
            "Installing collected packages: stopwords-guilannlp\n",
            "Successfully installed stopwords-guilannlp-13.2019.3.5\n"
          ]
        }
      ]
    },
    {
      "cell_type": "code",
      "source": [
        "from google.colab import drive\n",
        "drive.mount('/content/drive')"
      ],
      "metadata": {
        "colab": {
          "base_uri": "https://localhost:8080/"
        },
        "id": "YtTBQFCBr5-y",
        "outputId": "a0984c28-0401-4f65-9940-af3a5d2772a7"
      },
      "execution_count": 3,
      "outputs": [
        {
          "output_type": "stream",
          "name": "stdout",
          "text": [
            "Mounted at /content/drive\n"
          ]
        }
      ]
    },
    {
      "cell_type": "markdown",
      "metadata": {
        "id": "CcZrLDljhnub"
      },
      "source": [
        "## Get FastText"
      ]
    },
    {
      "cell_type": "code",
      "metadata": {
        "id": "4wCOcr1ao1VX",
        "outputId": "b1fe1abe-2b88-4cd4-f8ba-b96cd67c638b",
        "colab": {
          "base_uri": "https://localhost:8080/"
        }
      },
      "source": [
        "!wget https://dl.fbaipublicfiles.com/fasttext/vectors-wiki/wiki.fa.vec"
      ],
      "execution_count": 4,
      "outputs": [
        {
          "output_type": "stream",
          "name": "stdout",
          "text": [
            "--2023-01-01 15:28:58--  https://dl.fbaipublicfiles.com/fasttext/vectors-wiki/wiki.fa.vec\n",
            "Resolving dl.fbaipublicfiles.com (dl.fbaipublicfiles.com)... 104.22.75.142, 104.22.74.142, 172.67.9.4, ...\n",
            "Connecting to dl.fbaipublicfiles.com (dl.fbaipublicfiles.com)|104.22.75.142|:443... connected.\n",
            "HTTP request sent, awaiting response... 200 OK\n",
            "Length: 1105157170 (1.0G) [binary/octet-stream]\n",
            "Saving to: ‘wiki.fa.vec’\n",
            "\n",
            "wiki.fa.vec         100%[===================>]   1.03G  16.1MB/s    in 58s     \n",
            "\n",
            "2023-01-01 15:29:57 (18.1 MB/s) - ‘wiki.fa.vec’ saved [1105157170/1105157170]\n",
            "\n"
          ]
        }
      ]
    },
    {
      "cell_type": "code",
      "metadata": {
        "id": "DyJ0hqR8nku1"
      },
      "source": [
        "import numpy as np\n",
        "import pandas as pd\n",
        "import codecs\n",
        "from google.colab import files\n",
        "import re\n",
        "from gensim.models import KeyedVectors\n",
        "import gensim\n",
        "\n",
        "from keras import optimizers\n",
        "from keras.models import Model, Sequential\n",
        "from keras.layers import Dense, Input, Embedding, Dropout\n",
        "from keras.layers import GlobalMaxPool1D, MaxPooling1D, GlobalMaxPooling1D\n",
        "from keras.layers import CuDNNLSTM, LSTM, Bidirectional\n",
        "from keras.layers.convolutional import Conv1D\n",
        "from keras.utils.np_utils import to_categorical\n",
        "from keras.metrics import categorical_accuracy\n",
        "from keras.utils import plot_model\n",
        "from keras.preprocessing.text import Tokenizer\n",
        "from keras_preprocessing.sequence import pad_sequences\n",
        "\n",
        "from stopwords_guilannlp import stopwords_output\n",
        "from hazm import *\n",
        "\n",
        "import matplotlib.pyplot as plt\n",
        "from keras.utils import plot_model\n",
        "\n",
        "from sklearn.metrics import f1_score"
      ],
      "execution_count": 5,
      "outputs": []
    },
    {
      "cell_type": "code",
      "metadata": {
        "id": "VvTYlRzbuwcd",
        "outputId": "00f9f4f6-b747-40e8-e624-b15d33b9c220",
        "colab": {
          "base_uri": "https://localhost:8080/",
          "height": 74
        }
      },
      "source": [
        "uploaded = files.upload()"
      ],
      "execution_count": 6,
      "outputs": [
        {
          "output_type": "display_data",
          "data": {
            "text/plain": [
              "<IPython.core.display.HTML object>"
            ],
            "text/html": [
              "\n",
              "     <input type=\"file\" id=\"files-fdf10bea-18ab-453f-a2ba-aa5e9fa17419\" name=\"files[]\" multiple disabled\n",
              "        style=\"border:none\" />\n",
              "     <output id=\"result-fdf10bea-18ab-453f-a2ba-aa5e9fa17419\">\n",
              "      Upload widget is only available when the cell has been executed in the\n",
              "      current browser session. Please rerun this cell to enable.\n",
              "      </output>\n",
              "      <script>// Copyright 2017 Google LLC\n",
              "//\n",
              "// Licensed under the Apache License, Version 2.0 (the \"License\");\n",
              "// you may not use this file except in compliance with the License.\n",
              "// You may obtain a copy of the License at\n",
              "//\n",
              "//      http://www.apache.org/licenses/LICENSE-2.0\n",
              "//\n",
              "// Unless required by applicable law or agreed to in writing, software\n",
              "// distributed under the License is distributed on an \"AS IS\" BASIS,\n",
              "// WITHOUT WARRANTIES OR CONDITIONS OF ANY KIND, either express or implied.\n",
              "// See the License for the specific language governing permissions and\n",
              "// limitations under the License.\n",
              "\n",
              "/**\n",
              " * @fileoverview Helpers for google.colab Python module.\n",
              " */\n",
              "(function(scope) {\n",
              "function span(text, styleAttributes = {}) {\n",
              "  const element = document.createElement('span');\n",
              "  element.textContent = text;\n",
              "  for (const key of Object.keys(styleAttributes)) {\n",
              "    element.style[key] = styleAttributes[key];\n",
              "  }\n",
              "  return element;\n",
              "}\n",
              "\n",
              "// Max number of bytes which will be uploaded at a time.\n",
              "const MAX_PAYLOAD_SIZE = 100 * 1024;\n",
              "\n",
              "function _uploadFiles(inputId, outputId) {\n",
              "  const steps = uploadFilesStep(inputId, outputId);\n",
              "  const outputElement = document.getElementById(outputId);\n",
              "  // Cache steps on the outputElement to make it available for the next call\n",
              "  // to uploadFilesContinue from Python.\n",
              "  outputElement.steps = steps;\n",
              "\n",
              "  return _uploadFilesContinue(outputId);\n",
              "}\n",
              "\n",
              "// This is roughly an async generator (not supported in the browser yet),\n",
              "// where there are multiple asynchronous steps and the Python side is going\n",
              "// to poll for completion of each step.\n",
              "// This uses a Promise to block the python side on completion of each step,\n",
              "// then passes the result of the previous step as the input to the next step.\n",
              "function _uploadFilesContinue(outputId) {\n",
              "  const outputElement = document.getElementById(outputId);\n",
              "  const steps = outputElement.steps;\n",
              "\n",
              "  const next = steps.next(outputElement.lastPromiseValue);\n",
              "  return Promise.resolve(next.value.promise).then((value) => {\n",
              "    // Cache the last promise value to make it available to the next\n",
              "    // step of the generator.\n",
              "    outputElement.lastPromiseValue = value;\n",
              "    return next.value.response;\n",
              "  });\n",
              "}\n",
              "\n",
              "/**\n",
              " * Generator function which is called between each async step of the upload\n",
              " * process.\n",
              " * @param {string} inputId Element ID of the input file picker element.\n",
              " * @param {string} outputId Element ID of the output display.\n",
              " * @return {!Iterable<!Object>} Iterable of next steps.\n",
              " */\n",
              "function* uploadFilesStep(inputId, outputId) {\n",
              "  const inputElement = document.getElementById(inputId);\n",
              "  inputElement.disabled = false;\n",
              "\n",
              "  const outputElement = document.getElementById(outputId);\n",
              "  outputElement.innerHTML = '';\n",
              "\n",
              "  const pickedPromise = new Promise((resolve) => {\n",
              "    inputElement.addEventListener('change', (e) => {\n",
              "      resolve(e.target.files);\n",
              "    });\n",
              "  });\n",
              "\n",
              "  const cancel = document.createElement('button');\n",
              "  inputElement.parentElement.appendChild(cancel);\n",
              "  cancel.textContent = 'Cancel upload';\n",
              "  const cancelPromise = new Promise((resolve) => {\n",
              "    cancel.onclick = () => {\n",
              "      resolve(null);\n",
              "    };\n",
              "  });\n",
              "\n",
              "  // Wait for the user to pick the files.\n",
              "  const files = yield {\n",
              "    promise: Promise.race([pickedPromise, cancelPromise]),\n",
              "    response: {\n",
              "      action: 'starting',\n",
              "    }\n",
              "  };\n",
              "\n",
              "  cancel.remove();\n",
              "\n",
              "  // Disable the input element since further picks are not allowed.\n",
              "  inputElement.disabled = true;\n",
              "\n",
              "  if (!files) {\n",
              "    return {\n",
              "      response: {\n",
              "        action: 'complete',\n",
              "      }\n",
              "    };\n",
              "  }\n",
              "\n",
              "  for (const file of files) {\n",
              "    const li = document.createElement('li');\n",
              "    li.append(span(file.name, {fontWeight: 'bold'}));\n",
              "    li.append(span(\n",
              "        `(${file.type || 'n/a'}) - ${file.size} bytes, ` +\n",
              "        `last modified: ${\n",
              "            file.lastModifiedDate ? file.lastModifiedDate.toLocaleDateString() :\n",
              "                                    'n/a'} - `));\n",
              "    const percent = span('0% done');\n",
              "    li.appendChild(percent);\n",
              "\n",
              "    outputElement.appendChild(li);\n",
              "\n",
              "    const fileDataPromise = new Promise((resolve) => {\n",
              "      const reader = new FileReader();\n",
              "      reader.onload = (e) => {\n",
              "        resolve(e.target.result);\n",
              "      };\n",
              "      reader.readAsArrayBuffer(file);\n",
              "    });\n",
              "    // Wait for the data to be ready.\n",
              "    let fileData = yield {\n",
              "      promise: fileDataPromise,\n",
              "      response: {\n",
              "        action: 'continue',\n",
              "      }\n",
              "    };\n",
              "\n",
              "    // Use a chunked sending to avoid message size limits. See b/62115660.\n",
              "    let position = 0;\n",
              "    do {\n",
              "      const length = Math.min(fileData.byteLength - position, MAX_PAYLOAD_SIZE);\n",
              "      const chunk = new Uint8Array(fileData, position, length);\n",
              "      position += length;\n",
              "\n",
              "      const base64 = btoa(String.fromCharCode.apply(null, chunk));\n",
              "      yield {\n",
              "        response: {\n",
              "          action: 'append',\n",
              "          file: file.name,\n",
              "          data: base64,\n",
              "        },\n",
              "      };\n",
              "\n",
              "      let percentDone = fileData.byteLength === 0 ?\n",
              "          100 :\n",
              "          Math.round((position / fileData.byteLength) * 100);\n",
              "      percent.textContent = `${percentDone}% done`;\n",
              "\n",
              "    } while (position < fileData.byteLength);\n",
              "  }\n",
              "\n",
              "  // All done.\n",
              "  yield {\n",
              "    response: {\n",
              "      action: 'complete',\n",
              "    }\n",
              "  };\n",
              "}\n",
              "\n",
              "scope.google = scope.google || {};\n",
              "scope.google.colab = scope.google.colab || {};\n",
              "scope.google.colab._files = {\n",
              "  _uploadFiles,\n",
              "  _uploadFilesContinue,\n",
              "};\n",
              "})(self);\n",
              "</script> "
            ]
          },
          "metadata": {}
        },
        {
          "output_type": "stream",
          "name": "stdout",
          "text": [
            "Saving Karaj.csv to Karaj.csv\n"
          ]
        }
      ]
    },
    {
      "cell_type": "markdown",
      "metadata": {
        "id": "6FbuK-Gmupe2"
      },
      "source": [
        "\n",
        "# Making Datasets"
      ]
    },
    {
      "cell_type": "code",
      "metadata": {
        "id": "nzNz61eOEvE2"
      },
      "source": [
        "data = pd.read_csv('Karaj.csv', index_col=None, header=None, encoding=\"utf-8\")"
      ],
      "execution_count": 7,
      "outputs": []
    },
    {
      "cell_type": "code",
      "source": [
        "data.head()"
      ],
      "metadata": {
        "id": "dylpplsHZFlX",
        "colab": {
          "base_uri": "https://localhost:8080/",
          "height": 508
        },
        "outputId": "979d6e1a-9fb4-4afe-d984-6ed93a9af13d"
      },
      "execution_count": 8,
      "outputs": [
        {
          "output_type": "execute_result",
          "data": {
            "text/plain": [
              "                    0                    1                        2   \\\n",
              "0                   id      conversation_id               created_at   \n",
              "1  1573462153394257931  1573462153394257931  2022-09-23 23:59:45 UTC   \n",
              "2  1573461960187944961  1573461960187944961  2022-09-23 23:58:59 UTC   \n",
              "3  1573461356916899865  1573461356916899865  2022-09-23 23:56:35 UTC   \n",
              "4  1573461125047410688  1573461125047410688  2022-09-23 23:55:40 UTC   \n",
              "\n",
              "           3         4         5                    6             7   \\\n",
              "0        date      time  timezone              user_id      username   \n",
              "1  2022-09-23  23:59:45     +0000  1186219745118429184     chighahve   \n",
              "2  2022-09-23  23:58:59     +0000  1280585661385449473  mhdiesmaeili   \n",
              "3  2022-09-23  23:56:35     +0000  1089983875110105091        n92077   \n",
              "4  2022-09-23  23:55:40     +0000  1186219745118429184     chighahve   \n",
              "\n",
              "               8      9   ...   26      27          28       29          30  \\\n",
              "0            name  place  ...  geo  source  user_rt_id  user_rt  retweet_id   \n",
              "1      Ghahve_chi    NaN  ...  NaN     NaN         NaN      NaN         NaN   \n",
              "2  واشر ته‌سیلندر    NaN  ...  NaN     NaN         NaN      NaN         NaN   \n",
              "3               n    NaN  ...  NaN     NaN         NaN      NaN         NaN   \n",
              "4      Ghahve_chi    NaN  ...  NaN     NaN         NaN      NaN         NaN   \n",
              "\n",
              "         31            32         33         34          35  \n",
              "0  reply_to  retweet_date  translate  trans_src  trans_dest  \n",
              "1        []           NaN        NaN        NaN         NaN  \n",
              "2        []           NaN        NaN        NaN         NaN  \n",
              "3        []           NaN        NaN        NaN         NaN  \n",
              "4        []           NaN        NaN        NaN         NaN  \n",
              "\n",
              "[5 rows x 36 columns]"
            ],
            "text/html": [
              "\n",
              "  <div id=\"df-8f9c0e68-5bea-4f21-bd40-f6de790291a5\">\n",
              "    <div class=\"colab-df-container\">\n",
              "      <div>\n",
              "<style scoped>\n",
              "    .dataframe tbody tr th:only-of-type {\n",
              "        vertical-align: middle;\n",
              "    }\n",
              "\n",
              "    .dataframe tbody tr th {\n",
              "        vertical-align: top;\n",
              "    }\n",
              "\n",
              "    .dataframe thead th {\n",
              "        text-align: right;\n",
              "    }\n",
              "</style>\n",
              "<table border=\"1\" class=\"dataframe\">\n",
              "  <thead>\n",
              "    <tr style=\"text-align: right;\">\n",
              "      <th></th>\n",
              "      <th>0</th>\n",
              "      <th>1</th>\n",
              "      <th>2</th>\n",
              "      <th>3</th>\n",
              "      <th>4</th>\n",
              "      <th>5</th>\n",
              "      <th>6</th>\n",
              "      <th>7</th>\n",
              "      <th>8</th>\n",
              "      <th>9</th>\n",
              "      <th>...</th>\n",
              "      <th>26</th>\n",
              "      <th>27</th>\n",
              "      <th>28</th>\n",
              "      <th>29</th>\n",
              "      <th>30</th>\n",
              "      <th>31</th>\n",
              "      <th>32</th>\n",
              "      <th>33</th>\n",
              "      <th>34</th>\n",
              "      <th>35</th>\n",
              "    </tr>\n",
              "  </thead>\n",
              "  <tbody>\n",
              "    <tr>\n",
              "      <th>0</th>\n",
              "      <td>id</td>\n",
              "      <td>conversation_id</td>\n",
              "      <td>created_at</td>\n",
              "      <td>date</td>\n",
              "      <td>time</td>\n",
              "      <td>timezone</td>\n",
              "      <td>user_id</td>\n",
              "      <td>username</td>\n",
              "      <td>name</td>\n",
              "      <td>place</td>\n",
              "      <td>...</td>\n",
              "      <td>geo</td>\n",
              "      <td>source</td>\n",
              "      <td>user_rt_id</td>\n",
              "      <td>user_rt</td>\n",
              "      <td>retweet_id</td>\n",
              "      <td>reply_to</td>\n",
              "      <td>retweet_date</td>\n",
              "      <td>translate</td>\n",
              "      <td>trans_src</td>\n",
              "      <td>trans_dest</td>\n",
              "    </tr>\n",
              "    <tr>\n",
              "      <th>1</th>\n",
              "      <td>1573462153394257931</td>\n",
              "      <td>1573462153394257931</td>\n",
              "      <td>2022-09-23 23:59:45 UTC</td>\n",
              "      <td>2022-09-23</td>\n",
              "      <td>23:59:45</td>\n",
              "      <td>+0000</td>\n",
              "      <td>1186219745118429184</td>\n",
              "      <td>chighahve</td>\n",
              "      <td>Ghahve_chi</td>\n",
              "      <td>NaN</td>\n",
              "      <td>...</td>\n",
              "      <td>NaN</td>\n",
              "      <td>NaN</td>\n",
              "      <td>NaN</td>\n",
              "      <td>NaN</td>\n",
              "      <td>NaN</td>\n",
              "      <td>[]</td>\n",
              "      <td>NaN</td>\n",
              "      <td>NaN</td>\n",
              "      <td>NaN</td>\n",
              "      <td>NaN</td>\n",
              "    </tr>\n",
              "    <tr>\n",
              "      <th>2</th>\n",
              "      <td>1573461960187944961</td>\n",
              "      <td>1573461960187944961</td>\n",
              "      <td>2022-09-23 23:58:59 UTC</td>\n",
              "      <td>2022-09-23</td>\n",
              "      <td>23:58:59</td>\n",
              "      <td>+0000</td>\n",
              "      <td>1280585661385449473</td>\n",
              "      <td>mhdiesmaeili</td>\n",
              "      <td>واشر ته‌سیلندر</td>\n",
              "      <td>NaN</td>\n",
              "      <td>...</td>\n",
              "      <td>NaN</td>\n",
              "      <td>NaN</td>\n",
              "      <td>NaN</td>\n",
              "      <td>NaN</td>\n",
              "      <td>NaN</td>\n",
              "      <td>[]</td>\n",
              "      <td>NaN</td>\n",
              "      <td>NaN</td>\n",
              "      <td>NaN</td>\n",
              "      <td>NaN</td>\n",
              "    </tr>\n",
              "    <tr>\n",
              "      <th>3</th>\n",
              "      <td>1573461356916899865</td>\n",
              "      <td>1573461356916899865</td>\n",
              "      <td>2022-09-23 23:56:35 UTC</td>\n",
              "      <td>2022-09-23</td>\n",
              "      <td>23:56:35</td>\n",
              "      <td>+0000</td>\n",
              "      <td>1089983875110105091</td>\n",
              "      <td>n92077</td>\n",
              "      <td>n</td>\n",
              "      <td>NaN</td>\n",
              "      <td>...</td>\n",
              "      <td>NaN</td>\n",
              "      <td>NaN</td>\n",
              "      <td>NaN</td>\n",
              "      <td>NaN</td>\n",
              "      <td>NaN</td>\n",
              "      <td>[]</td>\n",
              "      <td>NaN</td>\n",
              "      <td>NaN</td>\n",
              "      <td>NaN</td>\n",
              "      <td>NaN</td>\n",
              "    </tr>\n",
              "    <tr>\n",
              "      <th>4</th>\n",
              "      <td>1573461125047410688</td>\n",
              "      <td>1573461125047410688</td>\n",
              "      <td>2022-09-23 23:55:40 UTC</td>\n",
              "      <td>2022-09-23</td>\n",
              "      <td>23:55:40</td>\n",
              "      <td>+0000</td>\n",
              "      <td>1186219745118429184</td>\n",
              "      <td>chighahve</td>\n",
              "      <td>Ghahve_chi</td>\n",
              "      <td>NaN</td>\n",
              "      <td>...</td>\n",
              "      <td>NaN</td>\n",
              "      <td>NaN</td>\n",
              "      <td>NaN</td>\n",
              "      <td>NaN</td>\n",
              "      <td>NaN</td>\n",
              "      <td>[]</td>\n",
              "      <td>NaN</td>\n",
              "      <td>NaN</td>\n",
              "      <td>NaN</td>\n",
              "      <td>NaN</td>\n",
              "    </tr>\n",
              "  </tbody>\n",
              "</table>\n",
              "<p>5 rows × 36 columns</p>\n",
              "</div>\n",
              "      <button class=\"colab-df-convert\" onclick=\"convertToInteractive('df-8f9c0e68-5bea-4f21-bd40-f6de790291a5')\"\n",
              "              title=\"Convert this dataframe to an interactive table.\"\n",
              "              style=\"display:none;\">\n",
              "        \n",
              "  <svg xmlns=\"http://www.w3.org/2000/svg\" height=\"24px\"viewBox=\"0 0 24 24\"\n",
              "       width=\"24px\">\n",
              "    <path d=\"M0 0h24v24H0V0z\" fill=\"none\"/>\n",
              "    <path d=\"M18.56 5.44l.94 2.06.94-2.06 2.06-.94-2.06-.94-.94-2.06-.94 2.06-2.06.94zm-11 1L8.5 8.5l.94-2.06 2.06-.94-2.06-.94L8.5 2.5l-.94 2.06-2.06.94zm10 10l.94 2.06.94-2.06 2.06-.94-2.06-.94-.94-2.06-.94 2.06-2.06.94z\"/><path d=\"M17.41 7.96l-1.37-1.37c-.4-.4-.92-.59-1.43-.59-.52 0-1.04.2-1.43.59L10.3 9.45l-7.72 7.72c-.78.78-.78 2.05 0 2.83L4 21.41c.39.39.9.59 1.41.59.51 0 1.02-.2 1.41-.59l7.78-7.78 2.81-2.81c.8-.78.8-2.07 0-2.86zM5.41 20L4 18.59l7.72-7.72 1.47 1.35L5.41 20z\"/>\n",
              "  </svg>\n",
              "      </button>\n",
              "      \n",
              "  <style>\n",
              "    .colab-df-container {\n",
              "      display:flex;\n",
              "      flex-wrap:wrap;\n",
              "      gap: 12px;\n",
              "    }\n",
              "\n",
              "    .colab-df-convert {\n",
              "      background-color: #E8F0FE;\n",
              "      border: none;\n",
              "      border-radius: 50%;\n",
              "      cursor: pointer;\n",
              "      display: none;\n",
              "      fill: #1967D2;\n",
              "      height: 32px;\n",
              "      padding: 0 0 0 0;\n",
              "      width: 32px;\n",
              "    }\n",
              "\n",
              "    .colab-df-convert:hover {\n",
              "      background-color: #E2EBFA;\n",
              "      box-shadow: 0px 1px 2px rgba(60, 64, 67, 0.3), 0px 1px 3px 1px rgba(60, 64, 67, 0.15);\n",
              "      fill: #174EA6;\n",
              "    }\n",
              "\n",
              "    [theme=dark] .colab-df-convert {\n",
              "      background-color: #3B4455;\n",
              "      fill: #D2E3FC;\n",
              "    }\n",
              "\n",
              "    [theme=dark] .colab-df-convert:hover {\n",
              "      background-color: #434B5C;\n",
              "      box-shadow: 0px 1px 3px 1px rgba(0, 0, 0, 0.15);\n",
              "      filter: drop-shadow(0px 1px 2px rgba(0, 0, 0, 0.3));\n",
              "      fill: #FFFFFF;\n",
              "    }\n",
              "  </style>\n",
              "\n",
              "      <script>\n",
              "        const buttonEl =\n",
              "          document.querySelector('#df-8f9c0e68-5bea-4f21-bd40-f6de790291a5 button.colab-df-convert');\n",
              "        buttonEl.style.display =\n",
              "          google.colab.kernel.accessAllowed ? 'block' : 'none';\n",
              "\n",
              "        async function convertToInteractive(key) {\n",
              "          const element = document.querySelector('#df-8f9c0e68-5bea-4f21-bd40-f6de790291a5');\n",
              "          const dataTable =\n",
              "            await google.colab.kernel.invokeFunction('convertToInteractive',\n",
              "                                                     [key], {});\n",
              "          if (!dataTable) return;\n",
              "\n",
              "          const docLinkHtml = 'Like what you see? Visit the ' +\n",
              "            '<a target=\"_blank\" href=https://colab.research.google.com/notebooks/data_table.ipynb>data table notebook</a>'\n",
              "            + ' to learn more about interactive tables.';\n",
              "          element.innerHTML = '';\n",
              "          dataTable['output_type'] = 'display_data';\n",
              "          await google.colab.output.renderOutput(dataTable, element);\n",
              "          const docLink = document.createElement('div');\n",
              "          docLink.innerHTML = docLinkHtml;\n",
              "          element.appendChild(docLink);\n",
              "        }\n",
              "      </script>\n",
              "    </div>\n",
              "  </div>\n",
              "  "
            ]
          },
          "metadata": {},
          "execution_count": 8
        }
      ]
    },
    {
      "cell_type": "code",
      "source": [
        "tweets = data.drop_duplicates(subset=[0]).drop(data.index[0])"
      ],
      "metadata": {
        "id": "glPHoFStdzII"
      },
      "execution_count": 12,
      "outputs": []
    },
    {
      "cell_type": "code",
      "source": [
        "texts = tweets[10]\n",
        "dates = tweets[3]\n",
        "times = tweets[4]"
      ],
      "metadata": {
        "id": "3JK2OyPCebRN"
      },
      "execution_count": 144,
      "outputs": []
    },
    {
      "cell_type": "markdown",
      "metadata": {
        "id": "2imgOHrg7Pzz"
      },
      "source": [
        "# Preprocess"
      ]
    },
    {
      "cell_type": "code",
      "source": [
        "normalizer = Normalizer()\n",
        "\n",
        "def normalize_it(doc):\n",
        "    temp = re.sub(r'\\d+', '', doc)\n",
        "    temp = re.sub(r\"(?:\\@|https?\\://)\\S+\", \"\", temp)\n",
        "    temp = re.sub(r'\\s*[A-Za-z]+\\b', '' , temp).replace(\"#\", \"\").replace(\"_\", \" \")\n",
        "    temp = URLless_string = re.sub(r'\\w+:\\/{2}[\\d\\w-]+(\\.[\\d\\w-]+)*(?:(?:\\/[^\\s/]*))*', '', str(temp))\n",
        "    temp = normalizer.normalize(temp)\n",
        "    temp = normalizer.character_refinement(temp)\n",
        "    temp = normalizer.punctuation_spacing(temp)\n",
        "    temp = normalizer.affix_spacing(temp)\n",
        "    #temp = re.sub('[\\W_]+', '', temp)\n",
        "    return temp"
      ],
      "metadata": {
        "id": "UPv7uKqGkbYl"
      },
      "execution_count": 14,
      "outputs": []
    },
    {
      "cell_type": "code",
      "metadata": {
        "id": "4-XiHjK87VpK"
      },
      "source": [
        "puncs = ['،', '.', ',', ':', ';', '\"']\n",
        "normalizer = Normalizer()\n",
        "lemmatizer = Lemmatizer()\n",
        "\n",
        "def clean_doc(doc):\n",
        "    doc = normalize_it(doc)\n",
        "    tokenized = word_tokenize(doc)\n",
        "    tokens = []\n",
        "    for t in tokenized:\n",
        "      temp = t\n",
        "      for p in puncs:\n",
        "        temp = temp.replace(p, '')\n",
        "      tokens.append(temp)\n",
        "    #tokens = normalizer.token_spacing(tokens)\n",
        "    #tokens = [w for w in tokens if not w in stop_set]  #remove stop words\n",
        "    tokens = [w for w in tokens if not len(w) <= 1]\n",
        "    tokens = [w for w in tokens if not w.isdigit()]\n",
        "    tokens = [lemmatizer.lemmatize(w) for w in tokens]\n",
        "    tokens = ' '.join(tokens)\n",
        "    return tokens"
      ],
      "execution_count": 15,
      "outputs": []
    },
    {
      "cell_type": "code",
      "source": [
        "cleaned = np.empty_like(texts)\n",
        "for index, document in enumerate(texts):\n",
        "  cleaned[index] = clean_doc(str(document))"
      ],
      "metadata": {
        "id": "u4yZo_xr-UYj"
      },
      "execution_count": 19,
      "outputs": []
    },
    {
      "cell_type": "markdown",
      "metadata": {
        "id": "S-YylKUoqElV"
      },
      "source": [
        "# Prepare FastText Model"
      ]
    },
    {
      "cell_type": "code",
      "metadata": {
        "id": "1F_olE5An-5I"
      },
      "source": [
        "EMBEDDING_FILE = 'wiki.fa.vec'\n",
        "#EMBEDDING_FILE = '/content/drive/MyDrive/SocioSent/wiki.fa.vec'\n",
        "\n",
        "# FastText embedding dimensionality\n",
        "embed_size = 300\n",
        "\n",
        "def import_with_gensim(file_address):\n",
        "  # Creating the model\n",
        "  ft_model = KeyedVectors.load_word2vec_format(file_address)\n",
        "  # Getting the tokens\n",
        "  ft_words = []\n",
        "  for ft_word in ft_model.vocab:\n",
        "      ft_words.append(ft_word)\n",
        "  return ft_model, ft_words\n",
        "  \n",
        "ft_model, ft_words = import_with_gensim(EMBEDDING_FILE)"
      ],
      "execution_count": 17,
      "outputs": []
    },
    {
      "cell_type": "code",
      "source": [
        "# Load:\n",
        "ft_words = pd.read_csv('ft_words.csv').values.tolist()\n",
        "ft_moldel2 = gensim.models.KeyedVectors.load_word2vec_format('ft_model.bin', binary=True)"
      ],
      "metadata": {
        "id": "woa5micMm0Xc"
      },
      "execution_count": null,
      "outputs": []
    },
    {
      "cell_type": "code",
      "metadata": {
        "id": "0lraPVp4ptF1"
      },
      "source": [
        "embedding_list = list()\n",
        "for w in ft_words:\n",
        "  embedding_list.append(ft_model[w])\n",
        "\n",
        "all_embedding = np.stack(embedding_list)\n",
        "emb_mean, emb_std = all_embedding.mean(), all_embedding.std()\n",
        "\n",
        "test_docs = cleaned"
      ],
      "execution_count": 21,
      "outputs": []
    },
    {
      "cell_type": "markdown",
      "metadata": {
        "id": "zOVanzfQ7Etd"
      },
      "source": [
        "## Setting tokenizer up:"
      ]
    },
    {
      "cell_type": "code",
      "metadata": {
        "id": "yXOfMkE1yMOG"
      },
      "source": [
        "num_words = 2000\n",
        "\n",
        "tokenizer = Tokenizer(num_words=num_words)\n",
        "\n",
        "tokenizer.fit_on_texts(test_docs)\n",
        "\n",
        "max_length = max([len(s.split()) for s in test_docs])"
      ],
      "execution_count": 26,
      "outputs": []
    },
    {
      "cell_type": "markdown",
      "metadata": {
        "id": "YfKPCiJs7RPS"
      },
      "source": [
        "## Embed sentences"
      ]
    },
    {
      "cell_type": "code",
      "metadata": {
        "id": "WZnIkLd4rUrb",
        "outputId": "e759c86a-9ebb-473d-d635-03ffe004608d",
        "colab": {
          "base_uri": "https://localhost:8080/"
        }
      },
      "source": [
        "encoded_docs = tokenizer.texts_to_sequences(test_docs)\n",
        "\n",
        "x_train_padded = pad_sequences(encoded_docs, maxlen=max_length, padding='post')\n",
        "\n",
        "vocab_size = len(tokenizer.word_index)\n",
        "\n",
        "nb_words = len(tokenizer.word_index)\n",
        "\n",
        "embedding_matrix = np.random.normal(emb_mean, emb_std, (nb_words, embed_size))\n",
        "\n",
        "embeddedCount = 0\n",
        "for word, i in tokenizer.word_index.items():\n",
        "    i -= 1\n",
        "   \n",
        "    if word in ft_model.vocab:\n",
        "        embedding_vector = ft_model[word]\n",
        "\n",
        "        embedding_matrix[i] = embedding_vector\n",
        "        embeddedCount += 1\n",
        "    else:\n",
        "        embedding_vector = ft_model['subdivision_name']\n",
        "        embedding_matrix[i] = embedding_vector\n",
        "        embeddedCount += 1\n",
        "\n",
        "print('total embedded:', embeddedCount, 'common words')\n",
        "print('Embedding matrix shape:', embedding_matrix.shape)\n",
        "\n",
        "encoded_docs = tokenizer.texts_to_sequences(test_docs)\n",
        "x_test_padded = pad_sequences(encoded_docs, maxlen=max_length, padding='post')"
      ],
      "execution_count": 30,
      "outputs": [
        {
          "output_type": "stream",
          "name": "stdout",
          "text": [
            "total embedded: 1768 common words\n",
            "Embedding matrix shape: (1768, 300)\n"
          ]
        }
      ]
    },
    {
      "cell_type": "markdown",
      "metadata": {
        "id": "f8IrxurU7xXB"
      },
      "source": [
        "# Predicting the labels:"
      ]
    },
    {
      "cell_type": "markdown",
      "metadata": {
        "id": "UGzX4V3J2U9F"
      },
      "source": [
        "## B-LSTM Model"
      ]
    },
    {
      "cell_type": "code",
      "source": [
        "# load the Model:\n",
        "from keras.models import load_model\n",
        "\n",
        "model_blstm = load_model('/content/drive/MyDrive/SocioSent/BLSTM_model.h5')"
      ],
      "metadata": {
        "id": "S2WgCA8gq5AR"
      },
      "execution_count": 32,
      "outputs": []
    },
    {
      "cell_type": "code",
      "metadata": {
        "id": "imptdlcYXZF5"
      },
      "source": [
        "# Get prediction label\n",
        "preds = model_blstm.predict(x_test_padded)\n",
        "y_pred_blstm = np.argmax(preds, axis=1)"
      ],
      "execution_count": null,
      "outputs": []
    },
    {
      "cell_type": "markdown",
      "metadata": {
        "id": "mjCMX44DEv-4"
      },
      "source": [
        "## CNN Model"
      ]
    },
    {
      "cell_type": "code",
      "source": [
        "# load the Model:\n",
        "from keras.models import load_model\n",
        "\n",
        "model_cnn = load_model('/content/drive/MyDrive/SocioSent/CNN_model.h5')"
      ],
      "metadata": {
        "id": "gF5QEaGgrdND"
      },
      "execution_count": 36,
      "outputs": []
    },
    {
      "cell_type": "code",
      "metadata": {
        "id": "T4BdQvmYFJFd",
        "colab": {
          "base_uri": "https://localhost:8080/"
        },
        "outputId": "78d2de40-c362-494a-db06-8fe4e7f2b34a"
      },
      "source": [
        "# Get prediction labels\n",
        "preds = model_cnn.predict(x_test_padded)\n",
        "y_pred_cnn = np.argmax(preds, axis=1)"
      ],
      "execution_count": 37,
      "outputs": [
        {
          "output_type": "stream",
          "name": "stdout",
          "text": [
            "13/13 [==============================] - 1s 17ms/step\n"
          ]
        }
      ]
    },
    {
      "cell_type": "code",
      "source": [
        "preds = y_pred_cnn"
      ],
      "metadata": {
        "id": "BOuAHwkOz7eu"
      },
      "execution_count": 38,
      "outputs": []
    },
    {
      "cell_type": "markdown",
      "source": [
        "# Statistical Analysis:"
      ],
      "metadata": {
        "id": "I_2W9MXP0K5v"
      }
    },
    {
      "cell_type": "markdown",
      "source": [
        "**primary plots:**"
      ],
      "metadata": {
        "id": "NrAZFPUcx9Ox"
      }
    },
    {
      "cell_type": "code",
      "source": [
        "from collections import Counter\n",
        "cnt = Counter(preds)\n",
        "cnt = dict(cnt)\n",
        "print(cnt)"
      ],
      "metadata": {
        "id": "w0cwX-4Ghjpc",
        "colab": {
          "base_uri": "https://localhost:8080/"
        },
        "outputId": "08495b7a-35a6-4d8e-f561-f3adc35506b6"
      },
      "execution_count": 42,
      "outputs": [
        {
          "output_type": "stream",
          "name": "stdout",
          "text": [
            "{0: 123, 2: 122, 1: 148}\n"
          ]
        }
      ]
    },
    {
      "cell_type": "code",
      "source": [
        "labels = list(cnt.keys())\n",
        "sizes = list(cnt.values())\n",
        "colors = ['#3fba36', '#66b3ff','#ffcc99','#ff9999', '#d44444']\n",
        "fig1, ax1 = plt.subplots()\n",
        "ax1.pie(sizes, labels=labels, colors=colors,\n",
        "        autopct='%1.1f%%', startangle=90)\n",
        "\n",
        "centre_circle = plt.Circle((0,0),0.70,fc='white')\n",
        "fig = plt.gcf()\n",
        "fig.gca().add_artist(centre_circle)\n",
        "\n",
        "ax1.axis('equal')  \n",
        "plt.tight_layout()\n",
        "\n",
        "# plt.savefig('distribution.png')\n",
        "plt.show()"
      ],
      "metadata": {
        "id": "xcj57YSKhkdd",
        "colab": {
          "base_uri": "https://localhost:8080/",
          "height": 297
        },
        "outputId": "ed0baf06-51e8-42b9-d073-2f6462983fe6"
      },
      "execution_count": 43,
      "outputs": [
        {
          "output_type": "display_data",
          "data": {
            "text/plain": [
              "<Figure size 432x288 with 1 Axes>"
            ],
            "image/png": "[encoded data removed]"
          },
          "metadata": {}
        }
      ]
    },
    {
      "cell_type": "markdown",
      "source": [
        "Creat Sentimental time series:"
      ],
      "metadata": {
        "id": "hDKi2JQZ04vu"
      }
    },
    {
      "cell_type": "code",
      "source": [
        "dates = tweets[3].dropna()\n",
        "dates_spec = dates[~dates.duplicated()].tolist()\n",
        "indexes = []\n",
        "counts = []\n",
        "tweets_per_day = dates.value_counts().tolist()\n",
        "\n",
        "for d in dates_spec:\n",
        "  indexes.append(dates.loc[dates == d].index.tolist())\n",
        "\n",
        "#x = preds_df.iloc[indexes[0]]\n",
        "\n",
        "for idxs in indexes:\n",
        "  vals = []\n",
        "  for i in idxs:\n",
        "    vals.append(preds[i-1])\n",
        "  counts.append(pd.DataFrame(vals).value_counts())"
      ],
      "metadata": {
        "id": "iqwvYmlz09GQ"
      },
      "execution_count": 180,
      "outputs": []
    },
    {
      "cell_type": "code",
      "source": [
        "print(counts)"
      ],
      "metadata": {
        "colab": {
          "base_uri": "https://localhost:8080/"
        },
        "id": "yQkhjYMeQIz7",
        "outputId": "55539b29-ddef-49c5-b0ae-4576322a2bbc"
      },
      "execution_count": 181,
      "outputs": [
        {
          "output_type": "stream",
          "name": "stdout",
          "text": [
            "[0    108\n",
            "2     93\n",
            "1     66\n",
            "dtype: int64, 2    29\n",
            "0    15\n",
            "1    15\n",
            "dtype: int64]\n"
          ]
        }
      ]
    },
    {
      "cell_type": "code",
      "source": [
        "date_num = len(counts)\n",
        "seriesFor_i = [[],[],[]]\n",
        "\n",
        "for count in counts:\n",
        "  seriesFor_i[0].append(count[0])\n",
        "  seriesFor_i[1].append(count[1])\n",
        "  seriesFor_i[2].append(count[2])\n",
        "\n",
        "series = pd.DataFrame({\n",
        "    0: seriesFor_i[0],\n",
        "    1: seriesFor_i[1],\n",
        "    2: seriesFor_i[2]\n",
        "})\n",
        "\n",
        "normalized = series.div(series.sum(axis=1), axis=0)"
      ],
      "metadata": {
        "id": "ByCMokBmOh6Z"
      },
      "execution_count": 182,
      "outputs": []
    },
    {
      "cell_type": "code",
      "source": [
        "print(series)\n",
        "print(normalized)"
      ],
      "metadata": {
        "colab": {
          "base_uri": "https://localhost:8080/"
        },
        "id": "bfpbTnTLjW9e",
        "outputId": "86b33779-69bf-447e-f9b7-c13f446d4a0f"
      },
      "execution_count": 183,
      "outputs": [
        {
          "output_type": "stream",
          "name": "stdout",
          "text": [
            "     0   1   2\n",
            "0  108  66  93\n",
            "1   15  15  29\n",
            "          0         1         2\n",
            "0  0.404494  0.247191  0.348315\n",
            "1  0.254237  0.254237  0.491525\n"
          ]
        }
      ]
    },
    {
      "cell_type": "code",
      "source": [
        "import matplotlib.pyplot as plt\n",
        " \n",
        "t = dates_spec\n",
        "plt.style.use(\"fivethirtyeight\")\n",
        "\n",
        "plt.figure()\n",
        "\n",
        "plt.xlabel(\"Date\")\n",
        "plt.ylabel(\"Normalized Frequency\")\n",
        "plt.title(\"Sentiments Over Days:\")\n",
        "plt.plot(t, normalized[0], t, normalized[1], t, normalized[2])\n",
        "plt.legend(['0','1','2'])"
      ],
      "metadata": {
        "colab": {
          "base_uri": "https://localhost:8080/",
          "height": 432
        },
        "id": "eJk1mZ1rR2Ey",
        "outputId": "50c38df9-6cd9-4b09-c2b3-44968b2dea80"
      },
      "execution_count": 188,
      "outputs": [
        {
          "output_type": "stream",
          "name": "stderr",
          "text": [
            "/usr/local/lib/python3.8/dist-packages/matplotlib/cbook/__init__.py:1402: FutureWarning: Support for multi-dimensional indexing (e.g. `obj[:, None]`) is deprecated and will be removed in a future version.  Convert to a numpy array before indexing instead.\n",
            "  x[:, None]\n",
            "/usr/local/lib/python3.8/dist-packages/matplotlib/axes/_base.py:278: FutureWarning: Support for multi-dimensional indexing (e.g. `obj[:, None]`) is deprecated and will be removed in a future version.  Convert to a numpy array before indexing instead.\n",
            "  y = y[:, np.newaxis]\n"
          ]
        },
        {
          "output_type": "execute_result",
          "data": {
            "text/plain": [
              "<matplotlib.legend.Legend at 0x7fbf7d5ab400>"
            ]
          },
          "metadata": {},
          "execution_count": 188
        },
        {
          "output_type": "display_data",
          "data": {
            "text/plain": [
              "<Figure size 432x288 with 1 Axes>"
            ],
            "image/png": "[encoded data removed]"
          },
          "metadata": {}
        }
      ]
    },
    {
      "cell_type": "code",
      "source": [
        "!pip install pytrends"
      ],
      "metadata": {
        "colab": {
          "base_uri": "https://localhost:8080/"
        },
        "id": "6csgWtivqnIp",
        "outputId": "7998d8a2-ccfe-4c74-e6bc-bcd6b87daf1d"
      },
      "execution_count": 189,
      "outputs": [
        {
          "output_type": "stream",
          "name": "stdout",
          "text": [
            "Looking in indexes: https://pypi.org/simple, https://us-python.pkg.dev/colab-wheels/public/simple/\n",
            "Collecting pytrends\n",
            "  Downloading pytrends-4.8.0.tar.gz (19 kB)\n",
            "Requirement already satisfied: requests>=2.0 in /usr/local/lib/python3.8/dist-packages (from pytrends) (2.23.0)\n",
            "Requirement already satisfied: pandas>=0.25 in /usr/local/lib/python3.8/dist-packages (from pytrends) (1.3.5)\n",
            "Requirement already satisfied: lxml in /usr/local/lib/python3.8/dist-packages (from pytrends) (4.9.2)\n",
            "Requirement already satisfied: python-dateutil>=2.7.3 in /usr/local/lib/python3.8/dist-packages (from pandas>=0.25->pytrends) (2.8.2)\n",
            "Requirement already satisfied: pytz>=2017.3 in /usr/local/lib/python3.8/dist-packages (from pandas>=0.25->pytrends) (2022.6)\n",
            "Requirement already satisfied: numpy>=1.17.3 in /usr/local/lib/python3.8/dist-packages (from pandas>=0.25->pytrends) (1.21.6)\n",
            "Requirement already satisfied: six>=1.5 in /usr/local/lib/python3.8/dist-packages (from python-dateutil>=2.7.3->pandas>=0.25->pytrends) (1.15.0)\n",
            "Requirement already satisfied: idna<3,>=2.5 in /usr/local/lib/python3.8/dist-packages (from requests>=2.0->pytrends) (2.10)\n",
            "Requirement already satisfied: urllib3!=1.25.0,!=1.25.1,<1.26,>=1.21.1 in /usr/local/lib/python3.8/dist-packages (from requests>=2.0->pytrends) (1.24.3)\n",
            "Requirement already satisfied: certifi>=2017.4.17 in /usr/local/lib/python3.8/dist-packages (from requests>=2.0->pytrends) (2022.12.7)\n",
            "Requirement already satisfied: chardet<4,>=3.0.2 in /usr/local/lib/python3.8/dist-packages (from requests>=2.0->pytrends) (3.0.4)\n",
            "Building wheels for collected packages: pytrends\n",
            "  Building wheel for pytrends (setup.py) ... \u001b[?25l\u001b[?25hdone\n",
            "  Created wheel for pytrends: filename=pytrends-4.8.0-py3-none-any.whl size=16127 sha256=de5f22e9e635cd89452c0f53110cb38cbe27fce3a8e2cee642ee75f8eef14630\n",
            "  Stored in directory: /root/.cache/pip/wheels/e8/78/c8/18d4f4804753e14416809b365773220c48b41fe5387f2bb6b9\n",
            "Successfully built pytrends\n",
            "Installing collected packages: pytrends\n",
            "Successfully installed pytrends-4.8.0\n"
          ]
        }
      ]
    },
    {
      "cell_type": "code",
      "source": [
        "import pandas as pd\n",
        "from pytrends.request import TrendReq\n",
        "Trending_topics = TrendReq(hl='fa', tz=360)"
      ],
      "metadata": {
        "id": "KtjPoi1OqpAt"
      },
      "execution_count": 191,
      "outputs": []
    },
    {
      "cell_type": "code",
      "source": [
        "import matplotlib.pyplot as plt\n",
        "\n",
        "dt = 0.01\n",
        "\n",
        "s1 = normalized[1]\n",
        "s2 = search_rate\n",
        "\n",
        "fig, axs = plt.subplots(2, 1)\n",
        "axs[0].plot(t, s1, t, s2)\n",
        "axs[0].set_xlim(0, 2)\n",
        "axs[0].set_xlabel('Day')\n",
        "axs[0].set_ylabel('Sentiment and Search')\n",
        "axs[0].grid(True)\n",
        "\n",
        "cxy, f = axs[1].cohere(s1, s2, 256, 1. / dt)\n",
        "axs[1].set_ylabel('Coherence')\n",
        "\n",
        "fig.tight_layout()\n",
        "plt.show()"
      ],
      "metadata": {
        "id": "r25NapNPpIYG"
      },
      "execution_count": null,
      "outputs": []
    }
  ]
}