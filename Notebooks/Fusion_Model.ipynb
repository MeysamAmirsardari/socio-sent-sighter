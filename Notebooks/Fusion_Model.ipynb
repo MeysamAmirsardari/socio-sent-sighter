{
  "cells": [
    {
      "cell_type": "markdown",
      "metadata": {
        "id": "OwTyM_pizVvz"
      },
      "source": [
        "# Installations:"
      ]
    },
    {
      "cell_type": "code",
      "execution_count": null,
      "metadata": {
        "colab": {
          "base_uri": "https://localhost:8080/"
        },
        "id": "OiL13kCEzk8m",
        "outputId": "1a49cf3b-3b8a-491b-f5dc-0950d238dc35"
      },
      "outputs": [
        {
          "output_type": "stream",
          "name": "stdout",
          "text": [
            "\u001b[?25l     \u001b[90m━━━━━━━━━━━━━━━━━━━━━━━━━━━━━━━━━━━━━━━━\u001b[0m \u001b[32m0.0/107.6 kB\u001b[0m \u001b[31m?\u001b[0m eta \u001b[36m-:--:--\u001b[0m\r\u001b[2K     \u001b[90m━━━━━━━━━━━━━━━━━━━━━━━━━━━━━━━━━━━━━━━\u001b[0m \u001b[32m107.6/107.6 kB\u001b[0m \u001b[31m3.5 MB/s\u001b[0m eta \u001b[36m0:00:00\u001b[0m\n",
            "\u001b[?25h  Preparing metadata (setup.py) ... \u001b[?25l\u001b[?25hdone\n"
          ]
        }
      ],
      "source": [
        "!pip install -q torch-scatter -f https://data.pyg.org/whl/torch-1.10.0+cu113.html\n",
        "!pip install -q torch-sparse -f https://data.pyg.org/whl/torch-1.10.0+cu113.html\n",
        "!pip install -q git+https://github.com/pyg-team/pytorch_geometric.git"
      ]
    },
    {
      "cell_type": "code",
      "execution_count": null,
      "metadata": {
        "colab": {
          "base_uri": "https://localhost:8080/"
        },
        "id": "4cyVTWrappN6",
        "outputId": "fcc10283-5c1a-4ea0-95d0-9810feabac6b"
      },
      "outputs": [
        {
          "output_type": "stream",
          "name": "stdout",
          "text": [
            "\u001b[2K     \u001b[90m━━━━━━━━━━━━━━━━━━━━━━━━━━━━━━━━━━━━━━━━\u001b[0m \u001b[32m7.0/7.0 MB\u001b[0m \u001b[31m64.7 MB/s\u001b[0m eta \u001b[36m0:00:00\u001b[0m\n",
            "\u001b[2K     \u001b[90m━━━━━━━━━━━━━━━━━━━━━━━━━━━━━━━━━━━━━━━━\u001b[0m \u001b[32m7.8/7.8 MB\u001b[0m \u001b[31m103.8 MB/s\u001b[0m eta \u001b[36m0:00:00\u001b[0m\n",
            "\u001b[2K     \u001b[90m━━━━━━━━━━━━━━━━━━━━━━━━━━━━━━━━━━━━━━\u001b[0m \u001b[32m224.5/224.5 kB\u001b[0m \u001b[31m25.2 MB/s\u001b[0m eta \u001b[36m0:00:00\u001b[0m\n",
            "\u001b[?25h"
          ]
        }
      ],
      "source": [
        "!pip install -q transformers"
      ]
    },
    {
      "cell_type": "markdown",
      "metadata": {
        "id": "BYc9_FI1zleI"
      },
      "source": [
        "# Imports:"
      ]
    },
    {
      "cell_type": "code",
      "execution_count": null,
      "metadata": {
        "colab": {
          "base_uri": "https://localhost:8080/"
        },
        "id": "A_w0JR65qoQc",
        "outputId": "997ee48c-486d-4d59-fb6e-c33f72589dee"
      },
      "outputs": [
        {
          "output_type": "stream",
          "name": "stderr",
          "text": [
            "[nltk_data] Downloading package punkt to /root/nltk_data...\n",
            "[nltk_data]   Unzipping tokenizers/punkt.zip.\n"
          ]
        },
        {
          "output_type": "execute_result",
          "data": {
            "text/plain": [
              "True"
            ]
          },
          "metadata": {},
          "execution_count": 10
        }
      ],
      "source": [
        "import nltk\n",
        "nltk.download('punkt')"
      ]
    },
    {
      "cell_type": "code",
      "execution_count": null,
      "metadata": {
        "id": "RPcIwg8szoQJ"
      },
      "outputs": [],
      "source": [
        "import os\n",
        "import torch\n",
        "import numpy as np"
      ]
    },
    {
      "cell_type": "code",
      "execution_count": null,
      "metadata": {
        "id": "keQRWnHx2jvC"
      },
      "outputs": [],
      "source": [
        "import argparse\n",
        "import time\n",
        "from tqdm import tqdm\n",
        "import copy as cp\n",
        "from torch_geometric.data import Data\n",
        "import torch.nn.functional as F\n",
        "from torch.utils.data import random_split\n",
        "from torch_geometric.data import DataLoader, DataListLoader\n",
        "from torch_geometric.nn import DataParallel\n",
        "from torch.nn import Linear\n",
        "from torch_geometric.nn import global_mean_pool, GATConv"
      ]
    },
    {
      "cell_type": "code",
      "execution_count": null,
      "metadata": {
        "colab": {
          "base_uri": "https://localhost:8080/"
        },
        "id": "o78zogVLTaQT",
        "outputId": "462d0df1-561a-4102-c4f8-9b488e4a0f58"
      },
      "outputs": [
        {
          "output_type": "stream",
          "name": "stderr",
          "text": [
            "[nltk_data] Downloading package stopwords to /root/nltk_data...\n",
            "[nltk_data]   Package stopwords is already up-to-date!\n",
            "Some weights of the model checkpoint at bert-base-uncased were not used when initializing BertModel: ['cls.predictions.transform.LayerNorm.bias', 'cls.predictions.transform.dense.weight', 'cls.predictions.transform.LayerNorm.weight', 'cls.seq_relationship.weight', 'cls.seq_relationship.bias', 'cls.predictions.bias', 'cls.predictions.transform.dense.bias', 'cls.predictions.decoder.weight']\n",
            "- This IS expected if you are initializing BertModel from the checkpoint of a model trained on another task or with another architecture (e.g. initializing a BertForSequenceClassification model from a BertForPreTraining model).\n",
            "- This IS NOT expected if you are initializing BertModel from the checkpoint of a model that you expect to be exactly identical (initializing a BertForSequenceClassification model from a BertForSequenceClassification model).\n"
          ]
        }
      ],
      "source": [
        "import torch\n",
        "from transformers import AutoTokenizer, AutoModel\n",
        "import nltk\n",
        "nltk.download('stopwords')\n",
        "from nltk.corpus import stopwords\n",
        "import re\n",
        "\n",
        "# set the device to run on\n",
        "device = torch.device('cuda' if torch.cuda.is_available() else 'cpu')\n",
        "\n",
        "# define the BERT model and tokenizer\n",
        "model_name = 'bert-base-uncased'\n",
        "tokenizer = AutoTokenizer.from_pretrained(model_name)\n",
        "model = AutoModel.from_pretrained(model_name).to(device)\n",
        "\n",
        "# define the text cleaning function\n",
        "def clean_text(text):\n",
        "    # remove URLs and Twitter handles\n",
        "    text = re.sub(r\"http\\S+|@\\S+\", \"\", text)\n",
        "    # remove non-alphanumeric characters and convert to lowercase\n",
        "    text = re.sub(r\"[^a-zA-Z0-9\\s]\", \"\", text).lower()\n",
        "    # tokenize the text into words\n",
        "    words = nltk.word_tokenize(text)\n",
        "    # remove stopwords\n",
        "    words = [word for word in words if word not in stopwords.words('english')]\n",
        "    # join the words back into a string\n",
        "    cleaned_text = ' '.join(words)\n",
        "    return cleaned_text"
      ]
    },
    {
      "cell_type": "code",
      "execution_count": null,
      "metadata": {
        "colab": {
          "base_uri": "https://localhost:8080/"
        },
        "id": "HX74WgCDAIlP",
        "outputId": "cc6c49e3-ad72-4823-b7d8-5ab7b214741a"
      },
      "outputs": [
        {
          "output_type": "stream",
          "name": "stdout",
          "text": [
            "Mounted at /content/drive\n"
          ]
        }
      ],
      "source": [
        "from google.colab import drive\n",
        "drive.mount('/content/drive')"
      ]
    },
    {
      "cell_type": "markdown",
      "metadata": {
        "id": "ZAzVFIAmzqlJ"
      },
      "source": [
        "# Loading the inputs:"
      ]
    },
    {
      "cell_type": "code",
      "source": [
        "print(label_map['non-rumor:767223774072676354'.strip().split(':')[0]])"
      ],
      "metadata": {
        "colab": {
          "base_uri": "https://localhost:8080/"
        },
        "id": "6L8R1WNoVBEC",
        "outputId": "5fc05015-07d4-48b6-f3b8-6b1d8736c792"
      },
      "execution_count": null,
      "outputs": [
        {
          "output_type": "stream",
          "name": "stdout",
          "text": [
            "1\n"
          ]
        }
      ]
    },
    {
      "cell_type": "code",
      "execution_count": null,
      "metadata": {
        "colab": {
          "base_uri": "https://localhost:8080/"
        },
        "id": "ZXBeS2U-vsUH",
        "outputId": "ca54fb75-bf95-4327-cfe3-e4c381381c91"
      },
      "outputs": [
        {
          "output_type": "stream",
          "name": "stdout",
          "text": [
            "688096910217879554\n",
            "688437279405305856\n",
            "688110059553861634\n",
            "688281442162352128\n",
            "688441130271289350\n",
            "688147918113538049\n",
            "688502260779843587\n",
            "688461902821855232\n"
          ]
        }
      ],
      "source": [
        "data_dirs = ['twitter15', 'twitter16']\n",
        "\n",
        "label_file_path = 'sentiments.txt' #'label.txt'\n",
        "source_tweets_file_path = 'source_tweets.txt'\n",
        "tree_file_dir = 'tree'\n",
        "root_path = '/content/drive/MyDrive/retweet_cascade'\n",
        "\n",
        "num_features = 1\n",
        "\n",
        "propagation_graph_list = []\n",
        "context_graph_dict = {}\n",
        "labels = []\n",
        "label_dict = {}\n",
        "\n",
        "label_rumor = {}\n",
        "label_map = {\"unverified\": 0, \"non-rumor\": 1, \"true\": 2, \"false\": 3}\n",
        "labels_rumor = []\n",
        "\n",
        "for data_dir in data_dirs:\n",
        "    dir_path = os.path.join(root_path, data_dir)\n",
        "\n",
        "    with open(os.path.join(dir_path, label_file_path)) as f:\n",
        "      for line in f:\n",
        "        label = int(line.strip().split(':')[1])\n",
        "        label_dict[line.strip().split(':')[0]] = label\n",
        "\n",
        "    with open(os.path.join(dir_path, 'label.txt'), 'r') as file:\n",
        "      for line in file:\n",
        "          lab, tweet_id = line.strip().split(':')\n",
        "          label_rumor[tweet_id] = label_map[lab]\n",
        "\n",
        "    for file_name in os.listdir(os.path.join(dir_path, tree_file_dir)):\n",
        "        if not file_name.endswith('.txt'):\n",
        "            continue\n",
        "\n",
        "        tweet_id = file_name[:-4]\n",
        "        if len(tweet_id) > 18:\n",
        "          print(tweet_id[:18])\n",
        "          tweet_id = tweet_id[:18]\n",
        "\n",
        "        node_dict = {}\n",
        "        edge_list = []\n",
        "        index_count = 0\n",
        "        with open(os.path.join(dir_path, tree_file_dir, file_name)) as f:\n",
        "            for line in f:\n",
        "                parent, child = line.strip().split('->')\n",
        "                parent, child = parent.replace(\"'\", \"\").strip(), child.replace(\"'\", \"\").strip()\n",
        "                parent = parent.replace(\"ROOT\", str(tweet_id))\n",
        "                parent = int(parent.split(',')[1])\n",
        "                child = int(child.split(',')[1])\n",
        "\n",
        "                if parent not in node_dict:\n",
        "                    node_dict[parent] = index_count\n",
        "                    index_count += 1\n",
        "\n",
        "                if child not in node_dict:\n",
        "                    node_dict[child] = index_count\n",
        "                    index_count += 1\n",
        "\n",
        "                edge_list.append([node_dict[parent], node_dict[child]])\n",
        "\n",
        "        y = label_dict[tweet_id]\n",
        "        yy = label_rumor[tweet_id]\n",
        "        labels_rumor.append(yy)\n",
        "        labels.append(y)\n",
        "\n",
        "        # features = torch.zeros((1, num_features))\n",
        "        # with open(os.path.join(dir_path, source_tweets_file_path)) as f:\n",
        "        #     for line in f:\n",
        "        #         if line.startswith(tweet_id):\n",
        "        #             cols = line.strip().split('\\t')\n",
        "        #             features[0, 0] = int(cols[1])  # number of followers\n",
        "        #             features[0, 1] = int(cols[2])  # number of friends\n",
        "        #             features[0, 2] = float(cols[3])  # ratio of followers and friends\n",
        "        #             features[0, 3] = int(cols[4])  # number of history tweets\n",
        "        #             features[0, 4] = int(cols[5])  # registration time (year)\n",
        "        #             features[0, 5] = int(cols[6])  # whether verified account or not\n",
        "        #             break\n",
        "        features = torch.ones((1, num_features))\n",
        "\n",
        "        edge_index = torch.tensor(edge_list).t().contiguous()\n",
        "        x = features.repeat(len(edge_list) + 1, 1)\n",
        "        data = Data(x=x, edge_index=edge_index, y=label, id=tweet_id)\n",
        "\n",
        "        propagation_graph_list.append(data)\n",
        "\n",
        "    with open(os.path.join(dir_path, 'source_tweets.txt')) as f:\n",
        "      for line in f:\n",
        "        tweet_id, tweet_text = line.strip().split('\\t')\n",
        "\n",
        "        cleaned_tweet = clean_text(tweet_text)\n",
        "\n",
        "        inputs = tokenizer(cleaned_tweet, return_tensors='pt', truncation=True, padding=True).to(device)\n",
        "        outputs = model(**inputs).last_hidden_state\n",
        "\n",
        "        num_nodes = outputs.shape[1]  # number of words in the tweet\n",
        "        node_features = outputs.squeeze(0).detach().cpu().numpy()  # word embeddings\n",
        "        edge_index = torch.tensor([[i, j] for i in range(num_nodes) for j in range(num_nodes) if i != j], dtype=torch.long).t().contiguous()  # fully-connected graph\n",
        "        data = Data(x=torch.from_numpy(node_features).float(), edge_index=edge_index)\n",
        "\n",
        "        context_graph_dict[tweet_id] = data"
      ]
    },
    {
      "cell_type": "code",
      "source": [
        "y_list = np.array(labels)\n",
        "np.save('/content/drive/MyDrive/retweet_cascade/y_list.npy', y_list)"
      ],
      "metadata": {
        "id": "qtAm4suRDNvB"
      },
      "execution_count": null,
      "outputs": []
    },
    {
      "cell_type": "code",
      "source": [
        "y_list = np.array(labels_rumor)\n",
        "np.save('/content/drive/MyDrive/retweet_cascade/y_list_rumor.npy', y_list)"
      ],
      "metadata": {
        "id": "N5sd7QdUUJbf"
      },
      "execution_count": null,
      "outputs": []
    },
    {
      "cell_type": "code",
      "source": [
        "print(y_list[100:700])"
      ],
      "metadata": {
        "colab": {
          "base_uri": "https://localhost:8080/"
        },
        "id": "B3QMU6CPP1GB",
        "outputId": "36294fe4-cc76-4506-dca5-8ed5937e00f4"
      },
      "execution_count": null,
      "outputs": [
        {
          "output_type": "stream",
          "name": "stdout",
          "text": [
            "[3 0 3 2 0 2 3 2 3 3 0 0 0 2 0 3 3 2 3 3 3 3 2 3 2 2 3 0 3 2 3 3 3 3 2 3 0\n",
            " 2 3 0 3 3 3 2 2 3 2 3 3 3 3 0 0 0 3 2 0 0 3 2 2 3 2 3 3 0 2 0 0 2 3 3 3 2\n",
            " 0 2 2 3 2 0 3 2 2 2 3 2 0 2 3 3 3 3 3 0 3 2 2 3 2 0 3 2 2 2 2 3 3 0 2 2 3\n",
            " 3 2 0 0 3 2 2 3 2 2 3 2 2 3 0 0 3 2 3 3 3 2 2 2 2 0 3 2 3 2 2 3 3 0 2 2 2\n",
            " 2 2 2 3 3 3 2 3 3 3 0 0 2 2 3 3 3 2 2 3 0 2 3 0 3 2 3 2 0 2 3 3 0 2 2 2 2\n",
            " 2 0 2 3 0 0 2 2 2 0 2 2 3 3 3 3 3 0 2 3 2 0 0 2 2 2 2 0 3 2 0 0 2 3 2 3 3\n",
            " 0 3 3 0 2 3 3 3 2 0 2 2 3 3 3 0 3 2 2 3 2 3 2 2 0 2 0 2 0 2 3 3 0 0 2 3 2\n",
            " 2 3 3 2 2 0 3 0 0 3 2 3 2 3 3 2 2 2 2 2 3 2 2 3 3 3 2 3 2 2 3 0 3 3 3 2 2\n",
            " 2 3 3 2 3 2 2 0 2 2 3 2 3 0 2 2 2 3 0 2 2 2 0 0 3 3 0 0 3 3 2 1 0 0 3 1 0\n",
            " 0 1 1 0 1 1 0 1 0 1 1 0 1 1 1 1 0 0 1 1 0 1 0 1 1 0 1 2 0 1 1 1 1 1 1 1 1\n",
            " 1 1 0 0 1 1 1 1 1 1 1 1 1 1 1 1 0 1 0 1 0 1 1 1 1 1 1 1 0 1 0 1 1 0 1 0 0\n",
            " 1 1 0 1 0 1 1 1 1 1 0 1 1 0 1 0 1 1 1 1 1 1 0 1 1 0 0 1 0 1 1 1 0 0 1 1 1\n",
            " 1 0 1 0 1 0 1 1 1 1 1 3 1 1 0 0 1 0 1 0 1 1 1 1 1 0 1 1 1 0 1 1 1 1 1 0 1\n",
            " 1 1 1 0 1 1 1 1 1 1 1 3 1 0 1 0 1 0 1 1 1 1 1 1 0 0 1 1 0 1 1 0 1 0 1 0 1\n",
            " 1 3 0 3 1 0 1 0 0 1 1 0 1 0 1 1 1 1 1 0 1 1 1 1 0 0 1 0 1 1 1 0 0 0 1 1 0\n",
            " 0 1 1 3 0 1 1 1 1 0 0 0 1 3 0 0 0 0 1 0 0 1 0 0 1 1 0 1 0 1 1 1 1 1 1 1 1\n",
            " 0 1 0 1 1 0 3 1]\n"
          ]
        }
      ]
    },
    {
      "cell_type": "code",
      "execution_count": null,
      "metadata": {
        "id": "WujmWn-lj3tk"
      },
      "outputs": [],
      "source": [
        "from torch.utils.data import Dataset\n",
        "from torch_geometric.data import Data\n",
        "from torch.utils.data import DataLoader\n",
        "\n",
        "context_graph_list = []\n",
        "data_list = []\n",
        "\n",
        "for graph in propagation_graph_list:\n",
        "  cont = context_graph_dict[graph.id]\n",
        "  context_graph_list.append(cont)\n",
        "\n",
        "  data_list.append(Data(\n",
        "      x_prop = graph.x,\n",
        "      edge_index_prop = graph.edge_index,\n",
        "      x_cont = cont.x,\n",
        "      edge_index_cont = cont.edge_index,\n",
        "      y = graph.y,\n",
        "      id = int(graph.id)\n",
        "      ))\n",
        "\n",
        "class TweetGraphDataset(Dataset):\n",
        "    def __init__(self, propagation_graphs, context_graph_list):\n",
        "        self.propagation_graphs = propagation_graphs\n",
        "        self.context_graphs = context_graph_list\n",
        "        \n",
        "    def __len__(self):\n",
        "        return len(self.propagation_graphs)\n",
        "        \n",
        "    def __getitem__(self, index):\n",
        "        propagation_graph = self.propagation_graphs[index]\n",
        "        context_graph = self.context_graphs[index]\n",
        "        return propagation_graph, context_graph\n",
        "\n",
        "dataset = TweetGraphDataset(propagation_graph_list, context_graph_list)\n",
        "dataloader = DataLoader(dataset, batch_size=32, shuffle=True)\n"
      ]
    },
    {
      "cell_type": "code",
      "execution_count": null,
      "metadata": {
        "id": "okKCUjcYHEfA"
      },
      "outputs": [],
      "source": [
        "dataloader = DataLoader(data_list, batch_size=32, shuffle=True)\n",
        "torch.save(dataloader, '/content/drive/MyDrive/retweets_loader2.pth')"
      ]
    },
    {
      "cell_type": "code",
      "execution_count": null,
      "metadata": {
        "id": "a5b9z1Pu705H"
      },
      "outputs": [],
      "source": [
        "# torch.save(graph_list, 'retweet_cascade_dataset.pt')"
      ]
    },
    {
      "cell_type": "markdown",
      "metadata": {
        "id": "VoG7eHaR1Kdn"
      },
      "source": [
        "# Craeting the Dataset:"
      ]
    },
    {
      "cell_type": "code",
      "execution_count": null,
      "metadata": {
        "id": "8NPG_7rD1KD-"
      },
      "outputs": [],
      "source": [
        "# from torch_geometric.data import Data\n",
        "\n",
        "# epoch_len = 120\n",
        "# land_mark_num = 18\n",
        "# len = df.shape[0]-1\n",
        "# overlap = 0.5\n",
        "# graph_list = []\n",
        "# order = []\n",
        "# count = 0\n",
        "# step = 10\n",
        "\n",
        "# #edge_index, edge_attr = set_edges(epoch_len, land_mark_num)\n",
        "\n",
        "# for i in range(1, len-epoch_len, step):\n",
        "#   x = set_nodes(norm_Xs, norm_Ys, CLs, i, land_mark_num, epoch_len)\n",
        "#   data = Data(x=x, edge_index=edge_index, edge_attr=edge_attr)\n",
        "#   graph_list.append(data)\n",
        "#   count = count + 1\n",
        "#   order.append((count, i))\n",
        "\n",
        "# graph_num = count"
      ]
    },
    {
      "cell_type": "markdown",
      "metadata": {
        "id": "3IQj39cZ3McO"
      },
      "source": [
        "* Saving the dataset:\n"
      ]
    },
    {
      "cell_type": "code",
      "execution_count": null,
      "metadata": {
        "id": "apYBrUqV3BUy"
      },
      "outputs": [],
      "source": [
        "# from torch_geometric.data import Data\n",
        "# from torch_geometric.loader import DataLoader\n",
        "\n",
        "# loader = DataLoader(graph_list, batch_size=16)\n",
        "# torch.save(loader, '/content/drive/MyDrive/retweets_loader.pth')"
      ]
    },
    {
      "cell_type": "code",
      "execution_count": null,
      "metadata": {
        "id": "KmkDjaZPA2ck"
      },
      "outputs": [],
      "source": [
        "# import os.path as osp\n",
        "\n",
        "# import torch\n",
        "# from torch_geometric.data import Dataset, download_url\n",
        "\n",
        "# root = '/content/drive/MyDrive/Test_loader.pth'\n",
        "\n",
        "# class Dataset1(Dataset):\n",
        "#     def __init__(self, root, transform=None, pre_transform=None, pre_filter=None):\n",
        "#         super().__init__(root, transform, pre_transform, pre_filter)\n",
        "\n",
        "#     def len(self):\n",
        "#         return len(self.processed_file_names)\n",
        "\n",
        "#     def get(self, idx):\n",
        "#         data = torch.load(osp.join(self.processed_dir, f'data_{idx}.pt'))\n",
        "#         return data"
      ]
    },
    {
      "cell_type": "markdown",
      "metadata": {
        "id": "Vfcx62gl3SVO"
      },
      "source": [
        "# Creating the model:"
      ]
    },
    {
      "cell_type": "markdown",
      "metadata": {
        "id": "13kEe-yZN5d6"
      },
      "source": [
        "# Representation learning block:"
      ]
    },
    {
      "cell_type": "code",
      "execution_count": null,
      "metadata": {
        "id": "FUwBsNXTN8eF"
      },
      "outputs": [],
      "source": [
        "import torch\n",
        "import torch.nn as nn\n",
        "import torch.nn.functional as F\n",
        "from torch_geometric.nn import GCNConv, GATConv, VGAE\n",
        "from torch_geometric.data import Data, DataLoader\n",
        "from torch_geometric.nn import GAE, VGAE, GCNConv, TransformerConv\n",
        "from torch_geometric.utils import to_dense_batch\n",
        "from torch_geometric.nn import global_mean_pool\n",
        "import numpy as np\n",
        "\n",
        "# Define the number of epochs to train for\n",
        "num_epochs = 100\n",
        "\n",
        "# Define the batch size for the dataloader\n",
        "batch_size = 32\n",
        "\n",
        "class Encoder1(torch.nn.Module):\n",
        "    def __init__(self, input_dim, hidden_dim, output_dim):\n",
        "        super(Encoder1, self).__init__()\n",
        "        torch.manual_seed(12345)\n",
        "        self.gat1 = GATConv(input_dim, hidden_dim)\n",
        "        self.gat2 = GATConv(hidden_dim, hidden_dim)\n",
        "        self.gat3 = GATConv(hidden_dim, hidden_dim)\n",
        "        self.conv_mu = GCNConv(hidden_dim, hidden_dim)\n",
        "        self.lin = torch.nn.Linear(hidden_dim, output_dim)\n",
        "        self.lin_mean = torch.nn.Linear(hidden_dim, output_dim)\n",
        "        self.lin_logstd = torch.nn.Linear(hidden_dim, output_dim)\n",
        "        self.global_pool = torch.nn.Linear(hidden_dim, output_dim)\n",
        "        \n",
        "\n",
        "    def forward(self, x, edge_index, batch):\n",
        "        x = self.gat1(x, edge_index)\n",
        "        x = F.elu(x)\n",
        "        x = F.dropout(x, p=0.4, training=self.training)\n",
        "\n",
        "        x = self.gat2(x, edge_index)\n",
        "        x = F.elu(x)\n",
        "        x = F.dropout(x, p=0.4, training=self.training)\n",
        "\n",
        "        x = self.gat3(x, edge_index)\n",
        "        x = F.elu(x)\n",
        "        x = F.dropout(x, p=0.4, training=self.training)\n",
        "        \n",
        "        x = self.conv_mu(x, edge_index)\n",
        "\n",
        "        x = F.dropout(x, p=0.4, training=self.training)\n",
        "        z = global_mean_pool(x, batch)\n",
        "        # x = self.global_pool(x)\n",
        "        z = self.lin(z)\n",
        "        z_log_std = self.lin_logstd(x)\n",
        "        z_mean = self.lin_mean(x)\n",
        "\n",
        "        return z, z_mean, z_log_std\n",
        "\n",
        "class Decoder1(torch.nn.Module):\n",
        "    def __init__(self, input_dim, hidden_dim, output_dim):\n",
        "        super(Decoder1, self).__init__()\n",
        "        self.lin1 = torch.nn.Linear(input_dim, hidden_dim)\n",
        "        self.conv1 = GCNConv(hidden_dim, hidden_dim)\n",
        "        self.conv2 = GCNConv(hidden_dim, hidden_dim)\n",
        "        self.lin2 = torch.nn.Linear(hidden_dim, hidden_dim)\n",
        "        self.conv3 = GCNConv(hidden_dim, hidden_dim)\n",
        "        self.lin3 = torch.nn.Linear(hidden_dim, output_dim)\n",
        "\n",
        "    def forward(self, z, edge_index):\n",
        "        z = self.lin1(z)\n",
        "        z = F.relu(z)\n",
        "        z = self.lin2(z)\n",
        "        z = F.relu(z)\n",
        "        z = self.conv3(z, edge_index)\n",
        "        z = F.relu(z)\n",
        "        z = self.lin3(z)\n",
        "        z = torch.sigmoid(z)\n",
        "        return z\n",
        "\n",
        "\n",
        "class ContextAE(torch.nn.Module):\n",
        "    def __init__(self, input_dim, hidden_dim, output_dim):\n",
        "        super(ContextAE, self).__init__()\n",
        "        self.encoder = Encoder1(input_dim, hidden_dim, output_dim)\n",
        "        self.decoder = Decoder1(output_dim, hidden_dim, input_dim)\n",
        "\n",
        "    def forward(self, x, edge_index, batch):\n",
        "        _, z_mean, z_log_std = self.encoder(x, edge_index, batch)\n",
        "        z = z_mean + torch.randn_like(z_log_std) * torch.exp(0.5 * z_log_std)\n",
        "        x_hat = self.decoder(z, edge_index)\n",
        "        return x_hat, z_mean, z_log_std\n",
        "\n",
        "def kl_loss(z_mean, z_log_std):\n",
        "    kl_div = -0.5 * torch.sum(1 + 2*z_log_std - z_mean.pow(2) - (2*z_log_std).exp(), dim=1)\n",
        "    return torch.mean(kl_div)\n"
      ]
    },
    {
      "cell_type": "code",
      "execution_count": null,
      "metadata": {
        "colab": {
          "base_uri": "https://localhost:8080/"
        },
        "id": "K0rsuI6Ybx5X",
        "outputId": "6f253658-4490-4847-dd67-c9b49eca7e9d"
      },
      "outputs": [
        {
          "name": "stdout",
          "output_type": "stream",
          "text": [
            "Epoch 1/100: Loss=0.3399708867073059\n",
            "Epoch 2/100: Loss=0.30594226717948914\n",
            "Epoch 3/100: Loss=0.27572205662727356\n",
            "Epoch 4/100: Loss=0.2728796899318695\n",
            "Epoch 5/100: Loss=0.2628888487815857\n",
            "Epoch 6/100: Loss=0.24702832102775574\n",
            "Epoch 7/100: Loss=0.24677079916000366\n",
            "Epoch 8/100: Loss=0.23996798694133759\n",
            "Epoch 9/100: Loss=0.25310689210891724\n",
            "Epoch 10/100: Loss=0.23860761523246765\n",
            "Epoch 11/100: Loss=0.24289673566818237\n",
            "Epoch 12/100: Loss=0.2468884289264679\n",
            "Epoch 13/100: Loss=0.2524784207344055\n",
            "Epoch 14/100: Loss=0.2519073784351349\n",
            "Epoch 15/100: Loss=0.2421337068080902\n",
            "Epoch 16/100: Loss=0.2394917756319046\n",
            "Epoch 17/100: Loss=0.24272757768630981\n",
            "Epoch 18/100: Loss=0.24628682434558868\n",
            "Epoch 19/100: Loss=0.25697118043899536\n",
            "Epoch 20/100: Loss=0.243623748421669\n",
            "Epoch 21/100: Loss=0.22602272033691406\n",
            "Epoch 22/100: Loss=0.24247007071971893\n",
            "Epoch 23/100: Loss=0.24273967742919922\n",
            "Epoch 24/100: Loss=0.24658086895942688\n",
            "Epoch 25/100: Loss=0.23415136337280273\n",
            "Epoch 26/100: Loss=0.23663316667079926\n",
            "Epoch 27/100: Loss=0.23985666036605835\n",
            "Epoch 28/100: Loss=0.23642252385616302\n",
            "Epoch 29/100: Loss=0.23900523781776428\n",
            "Epoch 30/100: Loss=0.24367642402648926\n",
            "Epoch 31/100: Loss=0.23219218850135803\n",
            "Epoch 32/100: Loss=0.24434754252433777\n",
            "Epoch 33/100: Loss=0.24609491229057312\n",
            "Epoch 34/100: Loss=0.25055667757987976\n",
            "Epoch 35/100: Loss=0.23715317249298096\n",
            "Epoch 36/100: Loss=0.24461571872234344\n",
            "Epoch 37/100: Loss=0.24634616076946259\n",
            "Epoch 38/100: Loss=0.24839352071285248\n",
            "Epoch 39/100: Loss=0.2526903748512268\n",
            "Epoch 40/100: Loss=0.23517537117004395\n",
            "Epoch 41/100: Loss=0.2483276128768921\n",
            "Epoch 42/100: Loss=0.2545754313468933\n",
            "Epoch 43/100: Loss=0.24113713204860687\n",
            "Epoch 44/100: Loss=0.2388352006673813\n",
            "Epoch 45/100: Loss=0.2436111718416214\n",
            "Epoch 46/100: Loss=0.23482544720172882\n",
            "Epoch 47/100: Loss=0.2435547262430191\n",
            "Epoch 48/100: Loss=0.22913514077663422\n",
            "Epoch 49/100: Loss=0.2394964098930359\n",
            "Epoch 50/100: Loss=0.24062399566173553\n",
            "Epoch 51/100: Loss=0.24261070787906647\n",
            "Epoch 52/100: Loss=0.2484184056520462\n",
            "Epoch 53/100: Loss=0.24124863743782043\n",
            "Epoch 54/100: Loss=0.24412737786769867\n",
            "Epoch 55/100: Loss=0.23984360694885254\n",
            "Epoch 56/100: Loss=0.2368701994419098\n",
            "Epoch 57/100: Loss=0.24943333864212036\n",
            "Epoch 58/100: Loss=0.2510063350200653\n",
            "Epoch 59/100: Loss=0.24417079985141754\n",
            "Epoch 60/100: Loss=0.24564209580421448\n",
            "Epoch 61/100: Loss=0.23449823260307312\n",
            "Epoch 62/100: Loss=0.2466394007205963\n",
            "Epoch 63/100: Loss=0.2418902963399887\n",
            "Epoch 64/100: Loss=0.25198894739151\n",
            "Epoch 65/100: Loss=0.24257014691829681\n",
            "Epoch 66/100: Loss=0.24812567234039307\n",
            "Epoch 67/100: Loss=0.2369011640548706\n",
            "Epoch 68/100: Loss=0.24340257048606873\n",
            "Epoch 69/100: Loss=0.23695620894432068\n",
            "Epoch 70/100: Loss=0.24749374389648438\n",
            "Epoch 71/100: Loss=0.24136298894882202\n",
            "Epoch 72/100: Loss=0.2458701878786087\n",
            "Epoch 73/100: Loss=0.24139945209026337\n",
            "Epoch 74/100: Loss=0.2447541356086731\n",
            "Epoch 75/100: Loss=0.24558216333389282\n",
            "Epoch 76/100: Loss=0.2476041465997696\n",
            "Epoch 77/100: Loss=0.2491973638534546\n",
            "Epoch 78/100: Loss=0.22986215353012085\n",
            "Epoch 79/100: Loss=0.24002906680107117\n",
            "Epoch 80/100: Loss=0.23527009785175323\n",
            "Epoch 81/100: Loss=0.2436225563287735\n",
            "Epoch 82/100: Loss=0.24567745625972748\n",
            "Epoch 83/100: Loss=0.24359393119812012\n",
            "Epoch 84/100: Loss=0.24619106948375702\n",
            "Epoch 85/100: Loss=0.25300756096839905\n",
            "Epoch 86/100: Loss=0.23576344549655914\n",
            "Epoch 87/100: Loss=0.24044086039066315\n",
            "Epoch 88/100: Loss=0.2411452680826187\n",
            "Epoch 89/100: Loss=0.24306783080101013\n",
            "Epoch 90/100: Loss=0.2454822063446045\n",
            "Epoch 91/100: Loss=0.24088916182518005\n",
            "Epoch 92/100: Loss=0.24570897221565247\n",
            "Epoch 93/100: Loss=0.24837392568588257\n",
            "Epoch 94/100: Loss=0.24857161939144135\n",
            "Epoch 95/100: Loss=0.24288396537303925\n",
            "Epoch 96/100: Loss=0.24185267090797424\n",
            "Epoch 97/100: Loss=0.238028883934021\n",
            "Epoch 98/100: Loss=0.24159088730812073\n",
            "Epoch 99/100: Loss=0.2488163411617279\n",
            "Epoch 100/100: Loss=0.2335500419139862\n"
          ]
        }
      ],
      "source": [
        "import torch_geometric.utils as utils\n",
        "\n",
        "train_losses = []\n",
        "val_losses = []\n",
        "train_accs = []\n",
        "val_accs = []\n",
        "loss_list = []\n",
        "\n",
        "input_dim, hidden_dim, output_dim = 768, 1000, 240\n",
        "\n",
        "dataloader = DataLoader(context_graph_list, batch_size=batch_size, shuffle=True)\n",
        "\n",
        "# Initialize the attentional graph autoencoder model and move it to the device\n",
        "model = ContextAE(input_dim, hidden_dim, output_dim).to(device)\n",
        "\n",
        "# Define the optimizer for the VAE\n",
        "optimizer = torch.optim.Adam(model.parameters(), lr=1e-3)\n",
        "\n",
        "# Train the VAE model\n",
        "for epoch in range(num_epochs):\n",
        "    train_loss = 0.0\n",
        "    train_acc = 0.0\n",
        "    val_loss = 0.0\n",
        "    val_acc = 0.0\n",
        "\n",
        "    for batch in dataloader:\n",
        "        batch = batch.to(device)\n",
        "        optimizer.zero_grad()\n",
        "        # edge_index = utils.batched_edge_indices(batch.edge_index, batch.batch).to(device)\n",
        "        x_hat, z_mean, z_log_std = model(batch.x, batch.edge_index.long(), batch.batch)\n",
        "        # loss = loss_function(x_hat, z_mean, batch.x, z_log_std)\n",
        "        # loss = loss_function(x_hat, batch.x, z_mean, z_log_std, alpha)\n",
        "        loss = F.mse_loss(x_hat, batch.x)\n",
        "        # print(loss)\n",
        "        # print(kl_loss(z_mean, z_log_std))\n",
        "        loss = loss + 0.1 * kl_loss(z_mean, z_log_std)\n",
        "\n",
        "        loss.backward()\n",
        "        optimizer.step()\n",
        "\n",
        "        train_loss += loss.item() * batch.num_graphs\n",
        "    train_loss /= len(context_graph_list)\n",
        "    train_losses.append(train_loss)\n",
        "    print(f'Epoch {epoch+1}/{num_epochs}: Loss={loss.item()}')\n",
        "    loss_list.append(loss.item())"
      ]
    },
    {
      "cell_type": "markdown",
      "metadata": {
        "id": "f5mpbEmRztuQ"
      },
      "source": [
        "* save the model:"
      ]
    },
    {
      "cell_type": "code",
      "execution_count": null,
      "metadata": {
        "id": "UF6a6Y32zv-M"
      },
      "outputs": [],
      "source": [
        "state_dict = model.state_dict()\n",
        "\n",
        "# Save the state dictionary to a file\n",
        "torch.save(state_dict, '/content/drive/MyDrive/retweet_cascade/cont_embedder_model.pt')"
      ]
    },
    {
      "cell_type": "markdown",
      "metadata": {
        "id": "-9uW_cQzzw2f"
      },
      "source": [
        "* embed the data:"
      ]
    },
    {
      "cell_type": "code",
      "execution_count": null,
      "metadata": {
        "id": "4l-PoNgUzy1_"
      },
      "outputs": [],
      "source": [
        "# Embed the input graphs using the trained VAE\n",
        "cont_embeddings = []\n",
        "cont_embedder_model = model\n",
        "\n",
        "for graph in context_graph_list:\n",
        "    graph = graph.to(device)\n",
        "    with torch.no_grad():\n",
        "        output = model.encoder(graph.x, graph.edge_index.long(), graph.batch)\n",
        "    cont_embeddings.append(output[0].cpu().numpy())"
      ]
    },
    {
      "cell_type": "code",
      "execution_count": null,
      "metadata": {
        "id": "JwYrxyrv0GmY"
      },
      "outputs": [],
      "source": [
        "cont_embeddings = np.array(cont_embeddings[:,0,:])\n",
        "np.save('/content/drive/MyDrive/retweet_cascade/cont_embeddings.npy', cont_embeddings)"
      ]
    },
    {
      "cell_type": "markdown",
      "metadata": {
        "id": "hTSdp7JPbzWN"
      },
      "source": [
        "# Do it for Prop. Grqaph list:"
      ]
    },
    {
      "cell_type": "code",
      "execution_count": null,
      "metadata": {
        "id": "hW0DkodSUrft"
      },
      "outputs": [],
      "source": [
        "features = torch.ones((1, 16))\n",
        "\n",
        "for graph in propagation_graph_list:\n",
        "  graph.x = features.repeat(graph.edge_index.shape[1] + 1, 1)"
      ]
    },
    {
      "cell_type": "code",
      "execution_count": null,
      "metadata": {
        "id": "JNQPFRv7bzs2"
      },
      "outputs": [],
      "source": [
        "import torch\n",
        "import torch.nn as nn\n",
        "import torch.nn.functional as F\n",
        "from torch_geometric.nn import GCNConv, GATConv, VGAE\n",
        "from torch_geometric.data import Data, DataLoader\n",
        "from torch_geometric.nn import GAE, VGAE, GCNConv, PANConv, GINConv\n",
        "from torch_geometric.utils import to_dense_batch\n",
        "from torch_geometric.nn import global_mean_pool\n",
        "import numpy as np\n",
        "\n",
        "# Define the number of epochs to train for\n",
        "num_epochs = 16\n",
        "\n",
        "# Define the batch size for the dataloader\n",
        "batch_size = 32\n",
        "\n",
        "class GCN(torch.nn.Module):\n",
        "    def __init__(self, n):\n",
        "        super(GCN, self).__init__()\n",
        "        self.conv1 = GCNConv(n, n)\n",
        "        self.conv2 = GCNConv(n, n)\n",
        "\n",
        "    def forward(self, x, edge_index):\n",
        "        x = self.conv1(x, edge_index)\n",
        "        x = F.relu(x)\n",
        "        # x = self.lin(x)\n",
        "        x = self.conv2(x, edge_index)\n",
        "        x = F.relu(x)\n",
        "        return x\n",
        "\n",
        "class Encoder2(torch.nn.Module):\n",
        "    def __init__(self, num_features, num_classes):\n",
        "        super(Encoder2, self).__init__()\n",
        "        self.conv1 = PANConv(num_features, 64, filter_size=2, num_layers=2, aggr='mean')\n",
        "        self.conv2 = GINConv(nn.Sequential(nn.Linear(64, 64), nn.BatchNorm1d(64), nn.ReLU(), nn.Linear(64, 64)))\n",
        "        self.conv3 = PANConv(64, 128, filter_size=2, num_layers=2, aggr='mean')\n",
        "        self.conv4 = GINConv(nn.Sequential(nn.Linear(128, 128), nn.BatchNorm1d(128), nn.ReLU(), nn.Linear(128, 128)))\n",
        "        self.lin1 = torch.nn.Linear(128, 256)\n",
        "        self.lin2 = torch.nn.Linear(256, num_classes)\n",
        "\n",
        "    def forward(self, x, edge_index, batch):\n",
        "        x = F.relu(self.conv1(x, edge_index)[0])\n",
        "        x = F.relu(self.conv2(x, edge_index))\n",
        "        x = F.relu(self.conv3(x, edge_index)[0])\n",
        "        x = F.relu(self.conv4(x, edge_index))\n",
        "        x = F.relu(self.lin1(x))\n",
        "        x = F.dropout(x, p=0.5, training=self.training)\n",
        "        x = self.lin2(x)\n",
        "        z = global_mean_pool(x, batch)\n",
        "        return x, z\n",
        "\n",
        "class Decoder1(torch.nn.Module):\n",
        "    def __init__(self, input_dim, hidden_dim, output_dim):\n",
        "        super(Decoder1, self).__init__()\n",
        "        self.lin1 = torch.nn.Linear(input_dim, hidden_dim)\n",
        "        self.conv1 = GCNConv(hidden_dim, hidden_dim)\n",
        "        self.conv2 = GCNConv(hidden_dim, hidden_dim)\n",
        "        self.lin2 = torch.nn.Linear(hidden_dim, hidden_dim)\n",
        "        self.conv3 = GCNConv(hidden_dim, hidden_dim)\n",
        "        self.lin3 = torch.nn.Linear(hidden_dim, output_dim)\n",
        "\n",
        "    def forward(self, z, edge_index):\n",
        "        z = self.lin1(z)\n",
        "        z = F.relu(z)\n",
        "        z = self.lin2(z)\n",
        "        z = F.relu(z)\n",
        "        z = self.conv3(z, edge_index)\n",
        "        z = F.relu(z)\n",
        "        z = self.lin3(z)\n",
        "        z = torch.sigmoid(z)\n",
        "        return z\n",
        "\n",
        "\n",
        "class PropAE(torch.nn.Module):\n",
        "    def __init__(self, input_dim, hidden_dim, output_dim):\n",
        "        super(PropAE, self).__init__()\n",
        "        self.encoder = Encoder2(input_dim, output_dim)\n",
        "        self.decoder = Decoder1(output_dim, hidden_dim, input_dim)\n",
        "\n",
        "    def forward(self, x, edge_index, batch):\n",
        "        c, _ = self.encoder(x, edge_index, batch)\n",
        "        # z = z_mean + torch.randn_like(z_log_std) * torch.exp(0.5 * z_log_std)\n",
        "        x_hat = self.decoder(c, edge_index)\n",
        "        return x_hat\n",
        "\n",
        "def kl_loss(z_mean, z_log_std):\n",
        "    kl_div = -0.5 * torch.sum(1 + 2*z_log_std - z_mean.pow(2) - (2*z_log_std).exp(), dim=1)\n",
        "    return torch.mean(kl_div)\n"
      ]
    },
    {
      "cell_type": "code",
      "execution_count": null,
      "metadata": {
        "colab": {
          "base_uri": "https://localhost:8080/"
        },
        "id": "pqlkpciopzif",
        "outputId": "935725e8-1aeb-47b6-90b9-4db19df3dea2"
      },
      "outputs": [
        {
          "output_type": "stream",
          "name": "stderr",
          "text": [
            "/usr/local/lib/python3.10/dist-packages/torch_geometric/deprecation.py:22: UserWarning: 'data.DataLoader' is deprecated, use 'loader.DataLoader' instead\n",
            "  warnings.warn(out)\n"
          ]
        },
        {
          "output_type": "stream",
          "name": "stdout",
          "text": [
            "Epoch 1/16: Loss=0.16464558243751526\n",
            "Epoch 2/16: Loss=0.0503334142267704\n",
            "Epoch 3/16: Loss=0.02587173506617546\n",
            "Epoch 4/16: Loss=0.005394372623413801\n",
            "Epoch 5/16: Loss=0.004891733638942242\n",
            "Epoch 6/16: Loss=0.008611918427050114\n",
            "Epoch 7/16: Loss=0.0036262685898691416\n",
            "Epoch 8/16: Loss=0.002896232297644019\n",
            "Epoch 9/16: Loss=0.0015008982736617327\n",
            "Epoch 10/16: Loss=0.0008698050514794886\n",
            "Epoch 11/16: Loss=0.008500090800225735\n",
            "Epoch 12/16: Loss=0.0038367260713130236\n",
            "Epoch 13/16: Loss=0.000786812452133745\n",
            "Epoch 14/16: Loss=0.003948562778532505\n",
            "Epoch 15/16: Loss=0.0006226249970495701\n",
            "Epoch 16/16: Loss=0.0014486275613307953\n"
          ]
        }
      ],
      "source": [
        "import torch_geometric.utils as utils\n",
        "\n",
        "train_losses = []\n",
        "val_losses = []\n",
        "train_accs = []\n",
        "val_accs = []\n",
        "loss_list = []\n",
        "\n",
        "input_dim, hidden_dim, output_dim = 16, 128, 32\n",
        "\n",
        "dataloader = DataLoader(propagation_graph_list, batch_size=batch_size, shuffle=True)\n",
        "\n",
        "# Initialize the attentional graph autoencoder model and move it to the device\n",
        "model = PropAE(input_dim, hidden_dim, output_dim).to(device)\n",
        "gcn = GCN(input_dim).to(device)\n",
        "\n",
        "# Define the optimizer for the VAE\n",
        "optimizer = torch.optim.Adam(model.parameters(), lr=1e-3)\n",
        "\n",
        "# Train the VAE model\n",
        "for epoch in range(num_epochs):\n",
        "    train_loss = 0.0\n",
        "    train_acc = 0.0\n",
        "    val_loss = 0.0\n",
        "    val_acc = 0.0\n",
        "\n",
        "    for batch in dataloader:\n",
        "        batch = batch.to(device)\n",
        "        optimizer.zero_grad()\n",
        "        # edge_index = utils.batched_edge_indices(batch.edge_index, batch.batch).to(device)\n",
        "        x_hat = model(batch.x, batch.edge_index.long(), batch.batch)\n",
        "        # loss = loss_function(x_hat, z_mean, batch.x, z_log_std)\n",
        "        # loss = loss_function(x_hat, batch.x, z_mean, z_log_std, alpha)\n",
        "        loss = F.mse_loss(gcn(x_hat, batch.edge_index), gcn(batch.x, batch.edge_index))*1000\n",
        "        # print(loss)\n",
        "        # print(kl_loss(z_mean, z_log_std))\n",
        "        # loss = loss + 0.1 * kl_loss(z_mean, z_log_std)\n",
        "\n",
        "        loss.backward()\n",
        "        optimizer.step()\n",
        "\n",
        "        train_loss += loss.item() * batch.num_graphs\n",
        "    train_loss /= len(propagation_graph_list)\n",
        "    train_losses.append(train_loss)\n",
        "    print(f'Epoch {epoch+1}/{num_epochs}: Loss={loss.item()}')\n",
        "    loss_list.append(loss.item())"
      ]
    },
    {
      "cell_type": "markdown",
      "metadata": {
        "id": "RN1GCwIr0tvQ"
      },
      "source": [
        "* Save the model:"
      ]
    },
    {
      "cell_type": "code",
      "execution_count": null,
      "metadata": {
        "id": "A6XBEDrc0wKZ"
      },
      "outputs": [],
      "source": [
        "state_dict = model.state_dict()\n",
        "\n",
        "# Save the state dictionary to a file\n",
        "torch.save(state_dict, '/content/drive/MyDrive/retweet_cascade/prop_embedder_model.pt')"
      ]
    },
    {
      "cell_type": "markdown",
      "metadata": {
        "id": "0KBME6R30xJ2"
      },
      "source": [
        "embed the data:"
      ]
    },
    {
      "cell_type": "code",
      "execution_count": null,
      "metadata": {
        "id": "Z-CD69ew0xc0"
      },
      "outputs": [],
      "source": [
        "# Embed the input graphs using the trained VAE\n",
        "prop_embeddings = []\n",
        "prop_embedder_model = model\n",
        "\n",
        "for graph in propagation_graph_list:\n",
        "    graph = graph.to(device)\n",
        "    with torch.no_grad():\n",
        "        output = model.encoder(graph.x, graph.edge_index.long(), graph.batch)\n",
        "    prop_embeddings.append(output[1].cpu().numpy())"
      ]
    },
    {
      "cell_type": "code",
      "execution_count": null,
      "metadata": {
        "id": "XSzb3ULe1Elq"
      },
      "outputs": [],
      "source": [
        "prop_embeddings = np.array(prop_embeddings[:,0,:])\n",
        "np.save('/content/drive/MyDrive/retweet_cascade/prop_embeddings.npy', prop_embeddings)"
      ]
    },
    {
      "cell_type": "markdown",
      "metadata": {
        "id": "NC0qMU523ZwX"
      },
      "source": [
        "* some more imports:"
      ]
    },
    {
      "cell_type": "code",
      "execution_count": null,
      "metadata": {
        "id": "GeJbZXIC3PVu"
      },
      "outputs": [],
      "source": [
        "import torch\n",
        "import torch.nn as nn\n",
        "import numpy as np\n",
        "import torch.nn.functional as F\n",
        "from torch_geometric.nn import GCNConv, GATConv, VGAE\n",
        "from torch_geometric.data import Data, DataLoader\n",
        "from torch_geometric.nn import GAE, VGAE, GCNConv\n",
        "from torch_geometric.utils import to_dense_batch\n",
        "from torch_geometric.nn import global_mean_pool\n",
        "\n",
        "from torch_geometric.data import DataLoader\n",
        "from torch_geometric.datasets import Planetoid\n",
        "\n",
        "from sklearn.metrics import f1_score"
      ]
    },
    {
      "cell_type": "code",
      "execution_count": null,
      "metadata": {
        "id": "4Yg_7MG63dJt"
      },
      "outputs": [],
      "source": [
        "class GCNSentiment(torch.nn.Module):\n",
        "    def __init__(self, input_dim, hidden_dim, output_dim, concat=True):\n",
        "      super(GCNSentiment, self).__init__()\n",
        "\n",
        "      self.num_features = input_dim\n",
        "      self.num_classes = output_dim\n",
        "      self.nhid = hidden_dim\n",
        "      self.concat = concat\n",
        "\n",
        "      self.conv1 = GATConv(self.num_features, self.nhid * 2)\n",
        "      self.conv2 = GATConv(self.nhid * 2, self.nhid * 2)\n",
        "\n",
        "      self.fc1 = Linear(self.nhid * 2, self.nhid)\n",
        "\n",
        "      if self.concat:\n",
        "        self.fc0 = Linear(self.num_features, self.nhid)\n",
        "        self.fc1 = Linear(self.nhid * 2, self.nhid)\n",
        "      self.fc2 = Linear(self.nhid, self.num_classes)\n",
        "\n",
        "    def forward(self, data):\n",
        "      x, edge_index, batch = data.x, data.edge_index, data.batch\n",
        "\n",
        "      x = F.selu(self.conv1(x, edge_index))\n",
        "      x = F.selu(self.conv2(x, edge_index))\n",
        "      x = F.selu(global_mean_pool(x, batch))\n",
        "      x = F.selu(self.fc1(x))\n",
        "      x = F.dropout(x, p=0.5, training=self.training)\n",
        "\n",
        "      if self.concat:\n",
        "        news = torch.stack([data.x[(data.batch == idx).nonzero().squeeze()[0]] for idx in range(data.num_graphs)])\n",
        "        news = F.relu(self.fc0(news))\n",
        "        x = torch.cat([x, news], dim=1)\n",
        "        x = F.relu(self.fc1(x))\n",
        "\n",
        "      x = F.log_softmax(self.fc2(x), dim=-1)\n",
        "      return x\n",
        "\n",
        "class CategoricalCrossEntropyLoss(nn.Module):\n",
        "    def __init__(self):\n",
        "        super(CategoricalCrossEntropyLoss, self).__init__()\n",
        "\n",
        "    def forward(self, inputs, targets):\n",
        "        # inputs shape: (batch_size, num_classes)\n",
        "        # targets shape: (batch_size,)\n",
        "        \n",
        "        # Convert targets to one-hot encoding\n",
        "        targets = torch.eye(inputs.size(1))[targets].to(inputs.device)\n",
        "        \n",
        "        # Calculate loss\n",
        "        loss = -torch.sum(targets * torch.log_softmax(inputs, dim=1), dim=1)\n",
        "        \n",
        "        # Average loss over batch\n",
        "        loss = torch.mean(loss)\n",
        "        \n",
        "        return loss\n",
        "\n",
        "def one_hot_ce_loss(outputs, targets):\n",
        "    criterion = nn.CrossEntropyLoss()\n",
        "    _, labels = torch.max(targets, dim=1)\n",
        "    return criterion(outputs, labels)"
      ]
    },
    {
      "cell_type": "code",
      "execution_count": null,
      "metadata": {
        "id": "d3ST3drM7Ker"
      },
      "outputs": [],
      "source": [
        "class ContextEmbedding(torch.nn.Module):\n",
        "    def __init__(self, input_dim, hidden_dim, output_dim):\n",
        "        super(ContextEmbedding, self).__init__()\n",
        "        torch.manual_seed(12345)\n",
        "        self.gat1 = GATConv(input_dim, hidden_dim)\n",
        "        self.gat2 = GATConv(hidden_dim, hidden_dim)\n",
        "        self.gat3 = GATConv(hidden_dim, hidden_dim)\n",
        "\n",
        "        self.conv_mu = GCNConv(hidden_dim, output_dim)\n",
        "        # self.lin = torch.nn.Linear(hidden_dim, output_dim)\n",
        "    \n",
        "    def forward(self, x, edge_index, batch):\n",
        "        # x = batch.x\n",
        "        # edge_index = batch.edge_index\n",
        "\n",
        "        x = self.gat1(x, edge_index)\n",
        "        x = F.elu(x)\n",
        "        x = F.dropout(x, p=0.4, training=self.training)\n",
        "\n",
        "        x = self.gat2(x, edge_index)\n",
        "        x = F.elu(x)\n",
        "        x = F.dropout(x, p=0.4, training=self.training)\n",
        "\n",
        "        x = self.gat3(x, edge_index)\n",
        "        x = F.elu(x)\n",
        "        x = F.dropout(x, p=0.4, training=self.training)\n",
        "\n",
        "        x = self.conv_mu(x)\n",
        "        x = F.dropout(x, p=0.4, training=self.training)\n",
        "        z = global_mean_pool(x, batch)\n",
        "\n",
        "        return x\n",
        "\n",
        "\n",
        "class PropagationEmbedding(torch.nn.Module):\n",
        "    def __init__(self, input_dim, hidden_dim, output_dim, concat=True):\n",
        "      super(PropagationEmbedding, self).__init__()\n",
        "\n",
        "      self.num_features = input_dim\n",
        "      self.num_classes = output_dim\n",
        "      self.nhid = hidden_dim\n",
        "      self.concat = concat\n",
        "\n",
        "      self.conv1 = GATConv(self.num_features, self.nhid * 2)\n",
        "      self.conv2 = GATConv(self.nhid * 2, self.nhid * 2)\n",
        "\n",
        "      self.fc1 = Linear(self.nhid * 2, self.nhid)\n",
        "\n",
        "      if self.concat:\n",
        "        self.fc0 = Linear(self.num_features, self.nhid)\n",
        "        self.fc1 = Linear(self.nhid * 2, self.nhid)\n",
        "      self.fc2 = Linear(self.nhid, self.num_classes)\n",
        "\n",
        "    def forward(self, x, edge_index, batch):\n",
        "      # x, edge_index, batch = data.x, data.edge_index, data.batch\n",
        "\n",
        "      x = F.selu(self.conv1(x, edge_index))\n",
        "      x = F.selu(self.conv2(x, edge_index))\n",
        "      x = F.selu(global_mean_pool(x, batch))\n",
        "      x = F.selu(self.fc1(x))\n",
        "      x = F.dropout(x, p=0.5, training=self.training)\n",
        "\n",
        "      if self.concat:\n",
        "        news = torch.stack([data.x[(data.batch == idx).nonzero().squeeze()[0]] for idx in range(data.num_graphs)])\n",
        "        news = F.relu(self.fc0(news))\n",
        "        x = torch.cat([x, news], dim=1)\n",
        "        x = F.relu(self.fc1(x))\n",
        "\n",
        "      # x = F.log_softmax(self.fc2(x), dim=-1)\n",
        "      return x\n",
        "\n",
        "class AGCNSent(torch.nn.Module):\n",
        "    def __init__(self, output_dim):\n",
        "      super(AGCNSent, self).__init__()\n",
        "      self.propagationEmb = PropagationEmbedding(1, 8, output_dim, concat=True)\n",
        "      self.contextEmb = ContextEmbedding(768, 1000, output_dim)\n",
        "      self.fc1 = Linear(output_dim * 2, 2*output_dim)\n",
        "      self.fc2 = Linear(output_dim * 2, 3)\n",
        "\n",
        "    def forward(self, data):\n",
        "      x1 = self.propagationEmb(data.x_prop, data.edge_index_prop, data)\n",
        "      x2 = self.contextEmb(data.x_cont, data.edge_index_cont, data)\n",
        "      x = torch.cat([x1, x2], dim=-1)\n",
        "      x = self.fc1(x)\n",
        "      x = self.fc2(x)\n",
        "      x = F.log_softmax(x, dim=-1)\n",
        "\n",
        "      return x"
      ]
    },
    {
      "cell_type": "code",
      "execution_count": null,
      "metadata": {
        "colab": {
          "base_uri": "https://localhost:8080/"
        },
        "id": "LG2KNsSf-iGT",
        "outputId": "ae1ffa9a-bfec-476e-ccbf-e5384eb76ef5"
      },
      "outputs": [
        {
          "name": "stdout",
          "output_type": "stream",
          "text": [
            "Data(x=[120, 1], edge_index=[2, 119], y=1, id='522684367647559681')\n"
          ]
        }
      ],
      "source": [
        "print(dataset.propagation_graphs[10])"
      ]
    },
    {
      "cell_type": "markdown",
      "metadata": {
        "id": "cTjFKyxP3drK"
      },
      "source": [
        "# Training the model:"
      ]
    },
    {
      "cell_type": "code",
      "execution_count": null,
      "metadata": {
        "id": "IHvEvDzjIIP8"
      },
      "outputs": [],
      "source": [
        "from torch_geometric.data import Batch\n",
        "\n",
        "def my_collate(batch):\n",
        "    return Batch.from_data_list(batch)"
      ]
    },
    {
      "cell_type": "code",
      "execution_count": null,
      "metadata": {
        "id": "gOWaWWAZ3hGx"
      },
      "outputs": [],
      "source": [
        "device = torch.device('cuda' if torch.cuda.is_available() else 'cpu')\n",
        "\n",
        "input_dim = 1\n",
        "hidden_dim = 16\n",
        "output_dim = 16\n",
        "batch_size = 16\n",
        "epoch_num = 200\n",
        "\n",
        "# os.environ['CUDA_LAUNCH_BLOCKING'] = '1'\n",
        "\n",
        "dataloader = DataLoader(data_list, batch_size=batch_size, shuffle=True)\n",
        "# dataloader = DataLoader(data_list, batch_size=batch_size, shuffle=True, collate_fn=my_collate)\n",
        "\n",
        "model = AGCNSent(output_dim).to(device)\n",
        "optimizer = torch.optim.Adam(model.parameters(), lr=0.01)\n",
        "\n",
        "criterion = CategoricalCrossEntropyLoss().to(device)\n",
        "\n",
        "model.train()\n",
        "for epoch in range(epoch_num):\n",
        "    total_loss = 0\n",
        "    total_correct = 0\n",
        "    total_samples = 0\n",
        "\n",
        "    # for batch in dataloader:\n",
        "    for batch in data_list:\n",
        "        batch = batch.to(device)\n",
        "        optimizer.zero_grad()\n",
        "        out = model(batch).to(device)\n",
        "\n",
        "        m = nn.Sigmoid()\n",
        "\n",
        "        loss = nn.CrossEntropyLoss()(out, batch.y)\n",
        "\n",
        "        loss.backward()\n",
        "        optimizer.step()\n",
        "\n",
        "        total_loss += loss.item() * batch.num_graphs\n",
        "        total_correct += (out.argmax(dim=-1) == batch.y).sum().item()\n",
        "        total_samples += batch.num_graphs\n",
        "\n",
        "    avg_loss = total_loss / 2316\n",
        "    avg_acc = total_correct / total_samples\n",
        "\n",
        "    print(\"Epoch \", epoch, \" loss: \", avg_loss, \" acc: \", avg_acc)\n",
        "    #     loss.backward()\n",
        "    #     optimizer.step()\n",
        "    #     total_loss += loss.item()\n",
        "    # print(\"Epoch \", epoch, \" loss: \", total_loss / epoch_num) # note!\n",
        "\n",
        "\n",
        "model.eval()\n",
        "pred_y = []\n",
        "true_y = []\n",
        "\n",
        "for batch in dataloader:\n",
        "    batch = batch.to(device)\n",
        "    with torch.no_grad():\n",
        "        out = model(batch)\n",
        "        pred = out.argmax(dim=-1)\n",
        "        pred_y.append(pred.cpu().numpy())\n",
        "        true_y.append(batch.y.cpu().numpy())\n",
        "\n",
        "pred_y = np.concatenate(pred_y, axis=0)\n",
        "true_y = np.concatenate(true_y, axis=0)\n",
        "\n",
        "f1 = f1_score(true_y, pred_y, average='macro')\n",
        "print(\"F1 score: \", f1)"
      ]
    },
    {
      "cell_type": "markdown",
      "metadata": {
        "id": "l8ICm-mT_9BX"
      },
      "source": [
        "# Let's watch the model!"
      ]
    },
    {
      "cell_type": "code",
      "source": [
        "y_list = np.load('/content/drive/MyDrive/retweet_cascade/y_list.npy')"
      ],
      "metadata": {
        "id": "ngAru-ZKqF5t"
      },
      "execution_count": null,
      "outputs": []
    },
    {
      "cell_type": "code",
      "source": [
        "prop_embeddings = np.load('/content/drive/MyDrive/retweet_cascade/prop_embeddings.npy')\n",
        "cont_embeddings = np.load('/content/drive/MyDrive/retweet_cascade/cont_embeddings.npy')"
      ],
      "metadata": {
        "id": "qQm1RTjmQQIh"
      },
      "execution_count": null,
      "outputs": []
    },
    {
      "cell_type": "code",
      "source": [
        "feature_mat = np.concatenate((prop_embeddings, cont_embeddings), axis=1)"
      ],
      "metadata": {
        "id": "h4txw-7PQQ-K"
      },
      "execution_count": null,
      "outputs": []
    },
    {
      "cell_type": "code",
      "source": [
        "import torch\n",
        "from torch.utils.data import Dataset, DataLoader\n",
        "from sklearn.model_selection import train_test_split\n",
        "\n",
        "# Load data and labels\n",
        "data = feature_mat  # example input data\n",
        "labels = y_list  # example labels\n",
        "num_epochs = 100\n",
        "\n",
        "# Split data into train, validation, and test sets\n",
        "train_data, val_data, train_labels, val_labels = train_test_split(data, labels, test_size=0.2, random_state=42)\n",
        "val_data, test_data, val_labels, test_labels = train_test_split(val_data, val_labels, test_size=0.5, random_state=42)\n",
        "\n",
        "# Define custom dataset\n",
        "class MyDataset(Dataset):\n",
        "    def __init__(self, data, labels):\n",
        "        self.data = data\n",
        "        self.labels = labels\n",
        "    \n",
        "    def __getitem__(self, index):\n",
        "        return self.data[index], self.labels[index]\n",
        "    \n",
        "    def __len__(self):\n",
        "        return len(self.data)\n",
        "\n",
        "# Create dataset and dataloaders for training, validation, and test sets\n",
        "train_dataset = MyDataset(train_data, train_labels)\n",
        "val_dataset = MyDataset(val_data, val_labels)\n",
        "test_dataset = MyDataset(test_data, test_labels)\n",
        "\n",
        "train_loader = DataLoader(train_dataset, batch_size=32, shuffle=True)\n",
        "val_loader = DataLoader(val_dataset, batch_size=32, shuffle=False)\n",
        "test_loader = DataLoader(test_dataset, batch_size=32, shuffle=False)\n"
      ],
      "metadata": {
        "id": "GIdIZ--SfEsf"
      },
      "execution_count": null,
      "outputs": []
    },
    {
      "cell_type": "code",
      "source": [
        "import matplotlib.pyplot as plt\n",
        "import torch\n",
        "import torch.nn as nn\n",
        "import torch.optim as optim\n",
        "from torch.utils.data import Dataset, DataLoader\n",
        "from sklearn.model_selection import train_test_split\n",
        "\n",
        "# Define DNN-based classifier\n",
        "class Classifier(nn.Module):\n",
        "    def __init__(self, input_dim, hidden_dim, output_dim):\n",
        "        super(Classifier, self).__init__()\n",
        "        self.fc1 = nn.Linear(input_dim, hidden_dim)\n",
        "        self.relu = nn.ReLU()\n",
        "        self.fc2 = nn.Linear(hidden_dim, output_dim)\n",
        "    \n",
        "    def forward(self, x):\n",
        "        x = self.fc1(x)\n",
        "        x = self.relu(x)\n",
        "        x = self.fc2(x)\n",
        "        return x\n",
        "\n",
        "# Initialize model and hyperparameters\n",
        "model = Classifier(input_dim=272, hidden_dim=256, output_dim=3)\n",
        "criterion = nn.CrossEntropyLoss()\n",
        "optimizer = optim.Adam(model.parameters(), lr=0.001)\n",
        "\n",
        "\n",
        "# Train the model\n",
        "for epoch in range(num_epochs):\n",
        "    train_loss = 0.0\n",
        "    train_correct = 0\n",
        "    train_total = 0\n",
        "    for i, (inputs, labels) in enumerate(train_loader):\n",
        "        optimizer.zero_grad()\n",
        "        outputs = model(inputs)\n",
        "        loss = criterion(outputs, labels)\n",
        "        loss.backward()\n",
        "        optimizer.step()\n",
        "\n",
        "train_losses = []\n",
        "train_accs = []\n",
        "val_losses = []\n",
        "val_accs = []\n",
        "\n",
        "for epoch in range(num_epochs):\n",
        "    train_loss = 0.0\n",
        "    train_correct = 0\n",
        "    train_total = 0\n",
        "    for i, (inputs, labels) in enumerate(train_loader):\n",
        "        optimizer.zero_grad()\n",
        "        outputs = model(inputs)\n",
        "        loss = criterion(outputs, labels)\n",
        "        loss.backward()\n",
        "        optimizer.step()\n",
        "\n",
        "        _, predicted = torch.max(outputs.data, 1)\n",
        "        train_total += labels.size(0)\n",
        "        train_correct += (predicted == labels).sum().item()\n",
        "        train_loss += loss.item() * inputs.size(0)\n",
        "\n",
        "    train_acc = 100.0 * train_correct / train_total\n",
        "    train_loss /= len(train_loader.dataset)\n",
        "\n",
        "    # Evaluate the model on the validation set\n",
        "    val_loss = 0.0\n",
        "    val_correct = 0\n",
        "    val_total = 0\n",
        "    with torch.no_grad():\n",
        "        for inputs, labels in val_loader:\n",
        "            outputs = model(inputs)\n",
        "            loss = criterion(outputs, labels)\n",
        "\n",
        "            _, predicted = torch.max(outputs.data, 1)\n",
        "            val_total += labels.size(0)\n",
        "            val_correct += (predicted == labels).sum().item()\n",
        "            val_loss += loss.item() * inputs.size(0)\n",
        "\n",
        "    val_acc = 100.0 * val_correct / val_total\n",
        "    val_loss /= len(val_loader.dataset)\n",
        "\n",
        "    # Append the losses and accuracies to the lists for plotting\n",
        "    train_losses.append(train_loss)\n",
        "    train_accs.append(train_acc)\n",
        "    val_losses.append(val_loss)\n",
        "    val_accs.append(val_acc)\n",
        "\n",
        "    print(f\"Epoch [{epoch+1}/{num_epochs}], Train Loss: {train_loss:.4f}, Train Acc: {train_acc:.2f}%, Val Loss: {val_loss:.4f}, Val Acc: {val_acc:.2f}%\")\n",
        "\n",
        "# Plot the losses and accuracies\n",
        "epochs = range(1, num_epochs+1)\n",
        "plt.plot(epochs, train_losses, label='Train')\n",
        "plt.plot(epochs, val_losses, label='Validation')\n",
        "plt.xlabel('Epoch')\n",
        "plt.ylabel('Loss')\n",
        "plt.legend()\n",
        "plt.grid()\n",
        "plt.show()\n",
        "\n",
        "plt.plot(epochs, train_accs, label='Train')\n",
        "plt.plot(epochs, val_accs, label='Validation')\n",
        "plt.xlabel('Epoch')\n",
        "plt.ylabel('Accuracy')\n",
        "plt.grid()\n",
        "plt.legend()\n",
        "plt.show()\n"
      ],
      "metadata": {
        "id": "g4pUv43JfGct",
        "colab": {
          "base_uri": "https://localhost:8080/",
          "height": 1000
        },
        "outputId": "d24c75ec-a137-4107-f5c8-fc084ce30356"
      },
      "execution_count": null,
      "outputs": [
        {
          "output_type": "stream",
          "name": "stdout",
          "text": [
            "Epoch [1/100], Train Loss: 0.8222, Train Acc: 59.77%, Val Loss: 0.9974, Val Acc: 48.28%\n",
            "Epoch [2/100], Train Loss: 0.8253, Train Acc: 60.69%, Val Loss: 0.9992, Val Acc: 48.28%\n",
            "Epoch [3/100], Train Loss: 0.8290, Train Acc: 59.29%, Val Loss: 0.9932, Val Acc: 49.14%\n",
            "Epoch [4/100], Train Loss: 0.8173, Train Acc: 61.12%, Val Loss: 0.9973, Val Acc: 46.55%\n",
            "Epoch [5/100], Train Loss: 0.8138, Train Acc: 61.12%, Val Loss: 1.0006, Val Acc: 46.98%\n",
            "Epoch [6/100], Train Loss: 0.8145, Train Acc: 61.02%, Val Loss: 0.9962, Val Acc: 48.71%\n",
            "Epoch [7/100], Train Loss: 0.8177, Train Acc: 60.48%, Val Loss: 1.0007, Val Acc: 50.00%\n",
            "Epoch [8/100], Train Loss: 0.8122, Train Acc: 60.21%, Val Loss: 0.9980, Val Acc: 47.41%\n",
            "Epoch [9/100], Train Loss: 0.8106, Train Acc: 60.91%, Val Loss: 1.0193, Val Acc: 46.98%\n",
            "Epoch [10/100], Train Loss: 0.8154, Train Acc: 59.07%, Val Loss: 1.0199, Val Acc: 43.53%\n",
            "Epoch [11/100], Train Loss: 0.8152, Train Acc: 60.42%, Val Loss: 1.0143, Val Acc: 47.41%\n",
            "Epoch [12/100], Train Loss: 0.8224, Train Acc: 59.67%, Val Loss: 1.0007, Val Acc: 46.55%\n",
            "Epoch [13/100], Train Loss: 0.8147, Train Acc: 60.69%, Val Loss: 1.0018, Val Acc: 46.12%\n",
            "Epoch [14/100], Train Loss: 0.8078, Train Acc: 61.34%, Val Loss: 1.0059, Val Acc: 48.71%\n",
            "Epoch [15/100], Train Loss: 0.8076, Train Acc: 61.45%, Val Loss: 1.0160, Val Acc: 48.28%\n",
            "Epoch [16/100], Train Loss: 0.8093, Train Acc: 60.26%, Val Loss: 1.0086, Val Acc: 46.12%\n",
            "Epoch [17/100], Train Loss: 0.8199, Train Acc: 59.77%, Val Loss: 1.0068, Val Acc: 47.41%\n",
            "Epoch [18/100], Train Loss: 0.8110, Train Acc: 59.67%, Val Loss: 1.0185, Val Acc: 49.14%\n",
            "Epoch [19/100], Train Loss: 0.8109, Train Acc: 60.26%, Val Loss: 1.0138, Val Acc: 49.14%\n",
            "Epoch [20/100], Train Loss: 0.8067, Train Acc: 61.18%, Val Loss: 1.0163, Val Acc: 47.84%\n",
            "Epoch [21/100], Train Loss: 0.8075, Train Acc: 60.85%, Val Loss: 1.0188, Val Acc: 47.84%\n",
            "Epoch [22/100], Train Loss: 0.8043, Train Acc: 61.12%, Val Loss: 1.0129, Val Acc: 48.28%\n",
            "Epoch [23/100], Train Loss: 0.8048, Train Acc: 61.02%, Val Loss: 1.0321, Val Acc: 46.55%\n",
            "Epoch [24/100], Train Loss: 0.8072, Train Acc: 60.69%, Val Loss: 1.0226, Val Acc: 49.14%\n",
            "Epoch [25/100], Train Loss: 0.8127, Train Acc: 61.12%, Val Loss: 1.0176, Val Acc: 48.71%\n",
            "Epoch [26/100], Train Loss: 0.8056, Train Acc: 60.96%, Val Loss: 1.0213, Val Acc: 47.84%\n",
            "Epoch [27/100], Train Loss: 0.8007, Train Acc: 61.18%, Val Loss: 1.0110, Val Acc: 49.14%\n",
            "Epoch [28/100], Train Loss: 0.8150, Train Acc: 60.21%, Val Loss: 1.0470, Val Acc: 46.98%\n",
            "Epoch [29/100], Train Loss: 0.8096, Train Acc: 60.21%, Val Loss: 1.0286, Val Acc: 46.55%\n",
            "Epoch [30/100], Train Loss: 0.8050, Train Acc: 60.53%, Val Loss: 1.0167, Val Acc: 46.98%\n",
            "Epoch [31/100], Train Loss: 0.8043, Train Acc: 61.50%, Val Loss: 1.0284, Val Acc: 46.12%\n",
            "Epoch [32/100], Train Loss: 0.8000, Train Acc: 61.34%, Val Loss: 1.0165, Val Acc: 48.71%\n",
            "Epoch [33/100], Train Loss: 0.8029, Train Acc: 60.64%, Val Loss: 1.0325, Val Acc: 46.55%\n",
            "Epoch [34/100], Train Loss: 0.7987, Train Acc: 61.50%, Val Loss: 1.0306, Val Acc: 49.14%\n",
            "Epoch [35/100], Train Loss: 0.8137, Train Acc: 60.31%, Val Loss: 1.0056, Val Acc: 46.12%\n",
            "Epoch [36/100], Train Loss: 0.8008, Train Acc: 61.12%, Val Loss: 1.0370, Val Acc: 46.55%\n",
            "Epoch [37/100], Train Loss: 0.7969, Train Acc: 61.12%, Val Loss: 1.0285, Val Acc: 46.98%\n",
            "Epoch [38/100], Train Loss: 0.7955, Train Acc: 61.93%, Val Loss: 1.0245, Val Acc: 48.28%\n",
            "Epoch [39/100], Train Loss: 0.7908, Train Acc: 61.34%, Val Loss: 1.0329, Val Acc: 44.40%\n",
            "Epoch [40/100], Train Loss: 0.7948, Train Acc: 60.64%, Val Loss: 1.0562, Val Acc: 43.53%\n",
            "Epoch [41/100], Train Loss: 0.7929, Train Acc: 61.29%, Val Loss: 1.0238, Val Acc: 46.55%\n",
            "Epoch [42/100], Train Loss: 0.7923, Train Acc: 62.42%, Val Loss: 1.0374, Val Acc: 46.55%\n",
            "Epoch [43/100], Train Loss: 0.7926, Train Acc: 62.42%, Val Loss: 1.0392, Val Acc: 47.84%\n",
            "Epoch [44/100], Train Loss: 0.8003, Train Acc: 60.96%, Val Loss: 1.0620, Val Acc: 46.55%\n",
            "Epoch [45/100], Train Loss: 0.7991, Train Acc: 60.37%, Val Loss: 1.0422, Val Acc: 45.69%\n",
            "Epoch [46/100], Train Loss: 0.7935, Train Acc: 62.26%, Val Loss: 1.0530, Val Acc: 47.41%\n",
            "Epoch [47/100], Train Loss: 0.8025, Train Acc: 60.37%, Val Loss: 1.0476, Val Acc: 43.97%\n",
            "Epoch [48/100], Train Loss: 0.7984, Train Acc: 61.12%, Val Loss: 1.0351, Val Acc: 46.98%\n",
            "Epoch [49/100], Train Loss: 0.7880, Train Acc: 61.72%, Val Loss: 1.0435, Val Acc: 47.41%\n",
            "Epoch [50/100], Train Loss: 0.7858, Train Acc: 61.72%, Val Loss: 1.0551, Val Acc: 47.41%\n",
            "Epoch [51/100], Train Loss: 0.7877, Train Acc: 61.18%, Val Loss: 1.0335, Val Acc: 45.69%\n",
            "Epoch [52/100], Train Loss: 0.7821, Train Acc: 62.63%, Val Loss: 1.0461, Val Acc: 47.41%\n",
            "Epoch [53/100], Train Loss: 0.7867, Train Acc: 61.83%, Val Loss: 1.0434, Val Acc: 46.55%\n",
            "Epoch [54/100], Train Loss: 0.7843, Train Acc: 60.91%, Val Loss: 1.0431, Val Acc: 46.12%\n",
            "Epoch [55/100], Train Loss: 0.7948, Train Acc: 61.12%, Val Loss: 1.0727, Val Acc: 39.66%\n",
            "Epoch [56/100], Train Loss: 0.7918, Train Acc: 61.29%, Val Loss: 1.0526, Val Acc: 45.26%\n",
            "Epoch [57/100], Train Loss: 0.7849, Train Acc: 61.61%, Val Loss: 1.0484, Val Acc: 45.26%\n",
            "Epoch [58/100], Train Loss: 0.7848, Train Acc: 61.61%, Val Loss: 1.0600, Val Acc: 45.69%\n",
            "Epoch [59/100], Train Loss: 0.7838, Train Acc: 62.31%, Val Loss: 1.0481, Val Acc: 45.69%\n",
            "Epoch [60/100], Train Loss: 0.7790, Train Acc: 61.99%, Val Loss: 1.0458, Val Acc: 47.41%\n",
            "Epoch [61/100], Train Loss: 0.7777, Train Acc: 62.47%, Val Loss: 1.0724, Val Acc: 46.55%\n",
            "Epoch [62/100], Train Loss: 0.7898, Train Acc: 60.48%, Val Loss: 1.0772, Val Acc: 47.41%\n",
            "Epoch [63/100], Train Loss: 0.7825, Train Acc: 62.15%, Val Loss: 1.0512, Val Acc: 47.41%\n",
            "Epoch [64/100], Train Loss: 0.7754, Train Acc: 62.96%, Val Loss: 1.0683, Val Acc: 45.69%\n",
            "Epoch [65/100], Train Loss: 0.7801, Train Acc: 62.20%, Val Loss: 1.0641, Val Acc: 46.98%\n",
            "Epoch [66/100], Train Loss: 0.7905, Train Acc: 61.50%, Val Loss: 1.0464, Val Acc: 46.55%\n",
            "Epoch [67/100], Train Loss: 0.7797, Train Acc: 61.50%, Val Loss: 1.0648, Val Acc: 46.12%\n",
            "Epoch [68/100], Train Loss: 0.7698, Train Acc: 63.34%, Val Loss: 1.0769, Val Acc: 42.24%\n",
            "Epoch [69/100], Train Loss: 0.7818, Train Acc: 62.04%, Val Loss: 1.0669, Val Acc: 44.83%\n",
            "Epoch [70/100], Train Loss: 0.7758, Train Acc: 62.42%, Val Loss: 1.0694, Val Acc: 48.71%\n",
            "Epoch [71/100], Train Loss: 0.7764, Train Acc: 61.99%, Val Loss: 1.0803, Val Acc: 46.55%\n",
            "Epoch [72/100], Train Loss: 0.7706, Train Acc: 63.98%, Val Loss: 1.0734, Val Acc: 46.55%\n",
            "Epoch [73/100], Train Loss: 0.7722, Train Acc: 62.90%, Val Loss: 1.0815, Val Acc: 46.12%\n",
            "Epoch [74/100], Train Loss: 0.7716, Train Acc: 63.28%, Val Loss: 1.0682, Val Acc: 47.41%\n",
            "Epoch [75/100], Train Loss: 0.7733, Train Acc: 62.04%, Val Loss: 1.0742, Val Acc: 46.12%\n",
            "Epoch [76/100], Train Loss: 0.7797, Train Acc: 62.26%, Val Loss: 1.0560, Val Acc: 45.69%\n",
            "Epoch [77/100], Train Loss: 0.7825, Train Acc: 61.50%, Val Loss: 1.0833, Val Acc: 46.98%\n",
            "Epoch [78/100], Train Loss: 0.7774, Train Acc: 62.69%, Val Loss: 1.0806, Val Acc: 46.55%\n",
            "Epoch [79/100], Train Loss: 0.7676, Train Acc: 62.47%, Val Loss: 1.0774, Val Acc: 47.41%\n",
            "Epoch [80/100], Train Loss: 0.7700, Train Acc: 62.90%, Val Loss: 1.0688, Val Acc: 46.55%\n",
            "Epoch [81/100], Train Loss: 0.7721, Train Acc: 62.69%, Val Loss: 1.0533, Val Acc: 45.69%\n",
            "Epoch [82/100], Train Loss: 0.7648, Train Acc: 63.77%, Val Loss: 1.0826, Val Acc: 45.69%\n",
            "Epoch [83/100], Train Loss: 0.7710, Train Acc: 62.80%, Val Loss: 1.0744, Val Acc: 48.71%\n",
            "Epoch [84/100], Train Loss: 0.7738, Train Acc: 62.53%, Val Loss: 1.0718, Val Acc: 46.55%\n",
            "Epoch [85/100], Train Loss: 0.7638, Train Acc: 63.07%, Val Loss: 1.0730, Val Acc: 46.12%\n",
            "Epoch [86/100], Train Loss: 0.7680, Train Acc: 62.80%, Val Loss: 1.0768, Val Acc: 44.83%\n",
            "Epoch [87/100], Train Loss: 0.7714, Train Acc: 63.55%, Val Loss: 1.0653, Val Acc: 46.12%\n",
            "Epoch [88/100], Train Loss: 0.7598, Train Acc: 64.25%, Val Loss: 1.0927, Val Acc: 44.83%\n",
            "Epoch [89/100], Train Loss: 0.7615, Train Acc: 63.28%, Val Loss: 1.0531, Val Acc: 45.26%\n",
            "Epoch [90/100], Train Loss: 0.7635, Train Acc: 63.55%, Val Loss: 1.0794, Val Acc: 46.12%\n",
            "Epoch [91/100], Train Loss: 0.7562, Train Acc: 64.25%, Val Loss: 1.0943, Val Acc: 45.69%\n",
            "Epoch [92/100], Train Loss: 0.7649, Train Acc: 63.44%, Val Loss: 1.0760, Val Acc: 44.83%\n",
            "Epoch [93/100], Train Loss: 0.7619, Train Acc: 63.39%, Val Loss: 1.0782, Val Acc: 45.69%\n",
            "Epoch [94/100], Train Loss: 0.7584, Train Acc: 63.66%, Val Loss: 1.0682, Val Acc: 44.83%\n",
            "Epoch [95/100], Train Loss: 0.7538, Train Acc: 63.82%, Val Loss: 1.1017, Val Acc: 44.83%\n",
            "Epoch [96/100], Train Loss: 0.7590, Train Acc: 63.66%, Val Loss: 1.0958, Val Acc: 39.66%\n",
            "Epoch [97/100], Train Loss: 0.7529, Train Acc: 64.15%, Val Loss: 1.0779, Val Acc: 47.41%\n",
            "Epoch [98/100], Train Loss: 0.7492, Train Acc: 65.06%, Val Loss: 1.1105, Val Acc: 43.97%\n",
            "Epoch [99/100], Train Loss: 0.7551, Train Acc: 64.42%, Val Loss: 1.0902, Val Acc: 46.98%\n",
            "Epoch [100/100], Train Loss: 0.7472, Train Acc: 64.42%, Val Loss: 1.0925, Val Acc: 46.12%\n"
          ]
        },
        {
          "output_type": "display_data",
          "data": {
            "text/plain": [
              "<Figure size 640x480 with 1 Axes>"
            ],
            "image/png": "[encoded data removed]"
          },
          "metadata": {}
        },
        {
          "output_type": "display_data",
          "data": {
            "text/plain": [
              "<Figure size 640x480 with 1 Axes>"
            ],
            "image/png": "[encoded data removed]"
          },
          "metadata": {}
        }
      ]
    },
    {
      "cell_type": "code",
      "source": [
        "print(predicted)"
      ],
      "metadata": {
        "colab": {
          "base_uri": "https://localhost:8080/"
        },
        "id": "7FFYUChIe10v",
        "outputId": "d7adbcb8-5a2a-431e-8574-60771c05bded"
      },
      "execution_count": null,
      "outputs": [
        {
          "output_type": "stream",
          "name": "stdout",
          "text": [
            "tensor([1, 1, 1, 1, 1, 1, 1, 1])\n"
          ]
        }
      ]
    },
    {
      "cell_type": "code",
      "source": [
        "# Evaluate the model on the test set\n",
        "test_correct = 0\n",
        "test_total = 0\n",
        "preds = []\n",
        "labs = []\n",
        "\n",
        "with torch.no_grad():\n",
        "    for inputs, labels in test_loader:\n",
        "        outputs = model(inputs)\n",
        "        \n",
        "        _, predicted = torch.max(outputs.data, 1)\n",
        "        test_total += labels.size(0)\n",
        "        test_correct += (predicted == labels).sum().item()\n",
        "        for i, _ in enumerate(labels):\n",
        "          preds.append(int(predicted[i]))\n",
        "          labs.append(int(labels[i]))\n",
        "        \n",
        "test_acc = 100.0 * test_correct / test_total\n",
        "print(f\"Test Accuracy: {test_acc:.2f}%\")"
      ],
      "metadata": {
        "colab": {
          "base_uri": "https://localhost:8080/"
        },
        "id": "Kkn2ojnPpwx5",
        "outputId": "2b781d7d-b3c1-4403-d45e-5c468a0a8632"
      },
      "execution_count": null,
      "outputs": [
        {
          "output_type": "stream",
          "name": "stdout",
          "text": [
            "Test Accuracy: 46.98%\n"
          ]
        }
      ]
    },
    {
      "cell_type": "code",
      "source": [
        "from sklearn.metrics import f1_score\n",
        "\n",
        "f1_score_weighted = f1_score(labs, preds, average='weighted')\n",
        "print(f1_score_weighted)"
      ],
      "metadata": {
        "colab": {
          "base_uri": "https://localhost:8080/"
        },
        "id": "HsNgZfdXoysS",
        "outputId": "6f019fbf-a97e-4916-a80f-23ee63e303ec"
      },
      "execution_count": null,
      "outputs": [
        {
          "output_type": "stream",
          "name": "stdout",
          "text": [
            "0.44456691045207913\n"
          ]
        }
      ]
    },
    {
      "cell_type": "code",
      "source": [
        "print(labs)"
      ],
      "metadata": {
        "colab": {
          "base_uri": "https://localhost:8080/"
        },
        "id": "flwUWz4_pgfU",
        "outputId": "179a5990-ebfe-4fa9-83d8-891345025799"
      },
      "execution_count": null,
      "outputs": [
        {
          "output_type": "stream",
          "name": "stdout",
          "text": [
            "[1, 0, 0, 0, 1, 1, 0, 0, 2, 0, 1, 1, 0, 0, 0, 1, 1, 0, 1, 1, 0, 2, 0, 1, 1, 0, 2, 1, 1, 1, 1, 0, 0, 2, 0, 2, 1, 1, 0, 2, 1, 1, 2, 1, 1, 0, 0, 0, 2, 1, 1, 1, 1, 2, 0, 1, 1, 2, 1, 2, 0, 1, 1, 0, 0, 1, 2, 0, 1, 0, 0, 2, 0, 1, 1, 1, 0, 0, 2, 0, 1, 0, 0, 0, 2, 1, 2, 1, 0, 1, 0, 2, 1, 1, 1, 1, 1, 0, 0, 1, 0, 1, 1, 1, 1, 1, 1, 0, 1, 1, 0, 0, 0, 1, 1, 1, 0, 0, 0, 2, 0, 1, 0, 1, 1, 0, 0, 0, 0, 1, 1, 1, 0, 1, 0, 0, 0, 1, 0, 0, 1, 0, 1, 2, 1, 0, 0, 0, 1, 1, 0, 0, 0, 2, 0, 0, 0, 0, 1, 1, 1, 2, 2, 0, 1, 1, 1, 1, 1, 1, 1, 1, 1, 2, 0, 1, 0, 1, 0, 0, 0, 1, 1, 0, 0, 0, 1, 0, 1, 1, 1, 0, 2, 0, 2, 1, 1, 0, 1, 1, 2, 0, 1, 1, 0, 0, 0, 1, 2, 1, 2, 0, 0, 0, 1, 1, 1, 0, 0, 1, 1, 0, 1, 0, 0, 0, 1, 2, 0, 2, 1, 2]\n"
          ]
        }
      ]
    },
    {
      "cell_type": "markdown",
      "source": [],
      "metadata": {
        "id": "cKWDjoWiFBaD"
      }
    },
    {
      "cell_type": "code",
      "execution_count": null,
      "metadata": {
        "id": "EGqIWORUA_jF",
        "colab": {
          "base_uri": "https://localhost:8080/"
        },
        "outputId": "c48cc12f-41aa-4f3a-d4ba-a7f5de89417b"
      },
      "outputs": [
        {
          "output_type": "stream",
          "name": "stdout",
          "text": [
            "Train Acc: 97.52%, Val Acc: 50.86%\n",
            "0.37803762478622277\n"
          ]
        }
      ],
      "source": [
        "from sklearn.ensemble import RandomForestClassifier\n",
        "# Initialize model and hyperparameters\n",
        "model = RandomForestClassifier(n_estimators=100, max_depth=10, random_state=42)\n",
        "\n",
        "# Train the model\n",
        "model.fit(train_data, train_labels)\n",
        "\n",
        "# Evaluate the model on the validation set\n",
        "train_acc = model.score(train_data, train_labels) * 100.0\n",
        "val_acc = model.score(val_data, val_labels) * 100.0\n",
        "preds = model.predict(test_data)\n",
        "\n",
        "print(f\"Train Acc: {train_acc:.2f}%, Val Acc: {val_acc:.2f}%\")\n",
        "f1_score_weighted = f1_score(test_labels, preds, average='weighted')\n",
        "print(f1_score_weighted)"
      ]
    },
    {
      "cell_type": "code",
      "source": [
        "from sklearn import svm\n",
        "\n",
        "# Create SVM classifier object\n",
        "clf = svm.SVC(kernel='linear')\n",
        "\n",
        "# Train the classifier on the training data\n",
        "clf.fit(train_data, train_labels)\n",
        "\n",
        "# Evaluate the classifier on the validation set\n",
        "val_acc = clf.score(val_data, val_labels)\n",
        "\n",
        "# Evaluate the classifier on the test set\n",
        "test_acc = clf.score(test_data, test_labels)\n",
        "\n",
        "print(f\"Validation accuracy: {val_acc:.2f}, Test accuracy: {test_acc:.2f}\")\n"
      ],
      "metadata": {
        "colab": {
          "base_uri": "https://localhost:8080/"
        },
        "id": "0goM-FlAtBm5",
        "outputId": "1e5e9f22-26b4-40df-a44a-99ab91cc9e08"
      },
      "execution_count": null,
      "outputs": [
        {
          "output_type": "stream",
          "name": "stdout",
          "text": [
            "Validation accuracy: 0.52, Test accuracy: 0.45\n"
          ]
        }
      ]
    }
  ],
  "metadata": {
    "accelerator": "GPU",
    "colab": {
      "provenance": []
    },
    "gpuClass": "standard",
    "kernelspec": {
      "display_name": "Python 3",
      "name": "python3"
    },
    "language_info": {
      "name": "python"
    }
  },
  "nbformat": 4,
  "nbformat_minor": 0
}