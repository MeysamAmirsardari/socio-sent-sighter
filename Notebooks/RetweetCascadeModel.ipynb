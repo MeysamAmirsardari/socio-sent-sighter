{
  "nbformat": 4,
  "nbformat_minor": 0,
  "metadata": {
    "colab": {
      "provenance": []
    },
    "kernelspec": {
      "name": "python3",
      "display_name": "Python 3"
    },
    "language_info": {
      "name": "python"
    }
  },
  "cells": [
    {
      "cell_type": "code",
      "execution_count": null,
      "metadata": {
        "id": "ctY8bCoy8e1-"
      },
      "outputs": [],
      "source": [
        "!pip install -q torch-scatter -f https://data.pyg.org/whl/torch-1.10.0+cu113.html\n",
        "!pip install -q torch-sparse -f https://data.pyg.org/whl/torch-1.10.0+cu113.html\n",
        "!pip install -q git+https://github.com/pyg-team/pytorch_geometric.git"
      ]
    },
    {
      "cell_type": "code",
      "source": [
        "import os\n",
        "import torch\n",
        "from torch_geometric.data import Data"
      ],
      "metadata": {
        "id": "vJAfu38e8mGT"
      },
      "execution_count": null,
      "outputs": []
    },
    {
      "cell_type": "code",
      "source": [
        "data_dirs = ['twitter15', 'twitter16']\n",
        "\n",
        "label_file_path = 'label.txt'\n",
        "source_tweets_file_path = 'source_tweets.txt'\n",
        "tree_file_dir = 'tree'\n",
        "root_dir = '/content/drive/MyDrive/retweet_cascade'\n",
        "\n",
        "num_features = 6\n",
        "\n",
        "graph_list = []\n"
      ],
      "metadata": {
        "id": "mBXJs9_v8q-M"
      },
      "execution_count": null,
      "outputs": []
    },
    {
      "cell_type": "code",
      "source": [
        "for data_dir in data_dirs:\n",
        "\n",
        "    dir_path = os.path.join(root_dir, data_dir)\n",
        "\n",
        "    for file_name in os.listdir(os.path.join(dir_path, tree_file_dir)):\n",
        "\n",
        "        if not file_name.endswith('.txt'):\n",
        "            continue\n",
        "\n",
        "        tweet_id = file_name[:-4]\n",
        "\n",
        "        edge_list = []\n",
        "        with open(os.path.join(dir_path, tree_file_dir, file_name)) as f:\n",
        "            for line in f:\n",
        "                parent, child = line.strip().split('->')\n",
        "                edge_list.append([int(parent.split(',')[1]), int(child.split(',')[1])])\n",
        "\n",
        "        label = -1\n",
        "        with open(os.path.join(dir_path, label_file_path)) as f:\n",
        "            for line in f:\n",
        "                if line.startswith('label:' + tweet_id):\n",
        "                    label = int(line.strip().split(':')[1])\n",
        "                    break\n",
        "\n",
        "        features = torch.zeros((1, num_features))\n",
        "        with open(os.path.join(dir_path, source_tweets_file_path)) as f:\n",
        "            for line in f:\n",
        "                if line.startswith(tweet_id):\n",
        "                    cols = line.strip().split('\\t')\n",
        "                    features[0, 0] = int(cols[1])  # number of followers\n",
        "                    features[0, 1] = int(cols[2])  # number of friends\n",
        "                    features[0, 2] = float(cols[3])  # ratio of followers and friends\n",
        "                    features[0, 3] = int(cols[4])  # number of history tweets\n",
        "                    features[0, 4] = int(cols[5])  # registration time (year)\n",
        "                    features[0, 5] = int(cols[6])  # whether verified account or not\n",
        "                    break\n",
        "\n",
        "        edge_index = torch.tensor(edge_list).t().contiguous()\n",
        "        x = features.repeat(len(edge_list) + 1, 1)\n",
        "        data = Data(x=x, edge_index=edge_index, y=label)\n",
        "\n",
        "        graph_list.append(data)"
      ],
      "metadata": {
        "id": "gPVIoRc98tg8"
      },
      "execution_count": null,
      "outputs": []
    },
    {
      "cell_type": "code",
      "source": [
        "\n",
        "torch.save(graph_list, 'retweet_cascade_dataset.pt')"
      ],
      "metadata": {
        "id": "dlDv178F8x8i"
      },
      "execution_count": null,
      "outputs": []
    }
  ]
}