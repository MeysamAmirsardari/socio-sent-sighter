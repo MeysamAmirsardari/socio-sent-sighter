{
  "cells": [
    {
      "cell_type": "markdown",
      "metadata": {
        "id": "OwTyM_pizVvz"
      },
      "source": [
        "# Installations:"
      ]
    },
    {
      "cell_type": "code",
      "execution_count": null,
      "metadata": {
        "colab": {
          "base_uri": "https://localhost:8080/"
        },
        "id": "OiL13kCEzk8m",
        "outputId": "aa6066f6-3f8c-4c18-f1d9-18a23b38353a"
      },
      "outputs": [
        {
          "output_type": "stream",
          "name": "stdout",
          "text": [
            "\u001b[?25l     \u001b[90m━━━━━━━━━━━━━━━━━━━━━━━━━━━━━━━━━━━━━━━━\u001b[0m \u001b[32m0.0/107.6 kB\u001b[0m \u001b[31m?\u001b[0m eta \u001b[36m-:--:--\u001b[0m\r\u001b[2K     \u001b[90m━━━━━━━━━━━━━━━━━━━━━━━━━━━━━━━━━━━━━━━\u001b[0m \u001b[32m107.6/107.6 kB\u001b[0m \u001b[31m3.5 MB/s\u001b[0m eta \u001b[36m0:00:00\u001b[0m\n",
            "\u001b[?25h  Preparing metadata (setup.py) ... \u001b[?25l\u001b[?25hdone\n",
            "  Building wheel for torch-scatter (setup.py) ... \u001b[?25l\u001b[?25hdone\n",
            "\u001b[2K     \u001b[90m━━━━━━━━━━━━━━━━━━━━━━━━━━━━━━━━━━━━━━━\u001b[0m \u001b[32m209.2/209.2 kB\u001b[0m \u001b[31m6.4 MB/s\u001b[0m eta \u001b[36m0:00:00\u001b[0m\n",
            "\u001b[?25h  Preparing metadata (setup.py) ... \u001b[?25l\u001b[?25hdone\n",
            "  Building wheel for torch-sparse (setup.py) ... \u001b[?25l\u001b[?25hdone\n",
            "  Installing build dependencies ... \u001b[?25l\u001b[?25hdone\n",
            "  Getting requirements to build wheel ... \u001b[?25l\u001b[?25hdone\n",
            "  Preparing metadata (pyproject.toml) ... \u001b[?25l\u001b[?25hdone\n",
            "  Building wheel for torch_geometric (pyproject.toml) ... \u001b[?25l\u001b[?25hdone\n"
          ]
        }
      ],
      "source": [
        "!pip install -q torch-scatter -f https://data.pyg.org/whl/torch-1.10.0+cu113.html\n",
        "!pip install -q torch-sparse -f https://data.pyg.org/whl/torch-1.10.0+cu113.html\n",
        "!pip install -q git+https://github.com/pyg-team/pytorch_geometric.git"
      ]
    },
    {
      "cell_type": "code",
      "execution_count": null,
      "metadata": {
        "colab": {
          "base_uri": "https://localhost:8080/"
        },
        "id": "4cyVTWrappN6",
        "outputId": "28ec58e6-a178-4a79-e90d-765287fc2feb"
      },
      "outputs": [
        {
          "output_type": "stream",
          "name": "stdout",
          "text": [
            "\u001b[2K     \u001b[90m━━━━━━━━━━━━━━━━━━━━━━━━━━━━━━━━━━━━━━━━\u001b[0m \u001b[32m7.1/7.1 MB\u001b[0m \u001b[31m28.8 MB/s\u001b[0m eta \u001b[36m0:00:00\u001b[0m\n",
            "\u001b[2K     \u001b[90m━━━━━━━━━━━━━━━━━━━━━━━━━━━━━━━━━━━━━━\u001b[0m \u001b[32m224.5/224.5 kB\u001b[0m \u001b[31m23.1 MB/s\u001b[0m eta \u001b[36m0:00:00\u001b[0m\n",
            "\u001b[2K     \u001b[90m━━━━━━━━━━━━━━━━━━━━━━━━━━━━━━━━━━━━━━━━\u001b[0m \u001b[32m7.8/7.8 MB\u001b[0m \u001b[31m77.8 MB/s\u001b[0m eta \u001b[36m0:00:00\u001b[0m\n",
            "\u001b[?25h"
          ]
        }
      ],
      "source": [
        "!pip install -q transformers"
      ]
    },
    {
      "cell_type": "markdown",
      "metadata": {
        "id": "BYc9_FI1zleI"
      },
      "source": [
        "# Imports:"
      ]
    },
    {
      "cell_type": "code",
      "execution_count": null,
      "metadata": {
        "colab": {
          "base_uri": "https://localhost:8080/"
        },
        "id": "A_w0JR65qoQc",
        "outputId": "75e1975b-498e-4be8-f65e-30bbba26c8fe"
      },
      "outputs": [
        {
          "output_type": "stream",
          "name": "stderr",
          "text": [
            "[nltk_data] Downloading package punkt to /root/nltk_data...\n",
            "[nltk_data]   Unzipping tokenizers/punkt.zip.\n"
          ]
        },
        {
          "output_type": "execute_result",
          "data": {
            "text/plain": [
              "True"
            ]
          },
          "metadata": {},
          "execution_count": 3
        }
      ],
      "source": [
        "import nltk\n",
        "nltk.download('punkt')"
      ]
    },
    {
      "cell_type": "code",
      "execution_count": null,
      "metadata": {
        "id": "RPcIwg8szoQJ"
      },
      "outputs": [],
      "source": [
        "import os\n",
        "import torch\n",
        "import numpy as np"
      ]
    },
    {
      "cell_type": "code",
      "execution_count": null,
      "metadata": {
        "id": "keQRWnHx2jvC"
      },
      "outputs": [],
      "source": [
        "import argparse\n",
        "import time\n",
        "from tqdm import tqdm\n",
        "import copy as cp\n",
        "from torch_geometric.data import Data\n",
        "import torch.nn.functional as F\n",
        "from torch.utils.data import random_split\n",
        "from torch_geometric.data import DataLoader, DataListLoader\n",
        "from torch_geometric.nn import DataParallel\n",
        "from torch.nn import Linear\n",
        "from torch_geometric.nn import global_mean_pool, GATConv"
      ]
    },
    {
      "cell_type": "code",
      "execution_count": null,
      "metadata": {
        "colab": {
          "base_uri": "https://localhost:8080/",
          "height": 284,
          "referenced_widgets": [
            "0eb4446f34334ae29f945daf7f7ee5be",
            "e72d88130b284161964c1ea5bf37fb9c",
            "4585e685d11e411ea2f4afb8834d8eee",
            "f4ae2328ae8c45269a3888d4579f53e6",
            "ef9628c3aec9445aaa2cdb02837234f6",
            "59bb82bc0165425482eada08c39ba125",
            "d1999709aeab43cbb1b45889dab22aaa",
            "8e6a3ef4ed45428fb8bdef066352989e",
            "43dbf63d5d6040a68ce193db82e6c949",
            "f7c419a59e7844ceba9b0095537caa6c",
            "1c7b559989964bef8f0bae94f92ee867",
            "1e683f99368b4405b68237eabdd9f8a9",
            "fac8d9eaec4844088e10776c2e774fca",
            "cd171ed832414a269c69ecf9fa839827",
            "0c00416474ad4772b1c14453b817f0f8",
            "858158ad96c847d690875a5b1b75c060",
            "f7761b0025174dd3b27c19ad137971f4",
            "c7269a2dfd7342aab02d94596a539ee7",
            "79fecd4a4a3b4dbea8178306c642e15c",
            "49ef93e56fe14dcc98a181db45da657a",
            "55a18de5b51045a0ad43956abaa47a64",
            "f29d944a18a84b95bd7832d4b9468f6f",
            "7a005c9ecaea481b933dd12d575eb9e3",
            "125ae44a3be04ce5b8ccb54371d68245",
            "23fd5d11e4c94cd6b9f6251d397f1882",
            "802f643604c6494ebec57140cd2ea1b1",
            "8d23e62fc4c345b69960996deb2be432",
            "0c8d24809fd64785944919bc1af7f97a",
            "89bf48c39d844825b0315b2b13da0161",
            "79a081ed804f42c3927a19068fdfdc8b",
            "ebbc917fb2674df7af52592b08d7789d",
            "387e9098b62e4c25b8546a603d57e5ea",
            "a3711e5b2f4645ec8ee3a6d03f4273ac",
            "13cb4b89384d4f089c02c59772de791c",
            "84a39c4b70ec4e83b4d5363f7fd1bfa8",
            "3c27e9dae5a942bc8ba5ceb1f468432b",
            "84bc1232cc384d67a4dfb97e0cf2b99b",
            "34c6164030354261904ecaa258fbaaae",
            "b5653cdc652b4336aecb5d2094faaaf6",
            "50b1e6caf3e940e1b8ddc706bd0276ab",
            "67457fadcfcf4643ae25539ddc12bda8",
            "ab0588d9134e4410a46daeec2d0c6d4f",
            "ddc1d861001a4890b47d1f4c8accd1b1",
            "79a666105c944f0db92cc9cb5c0809bb",
            "4234be8c57dd4a78a95cb27886a38d8f",
            "8e73ceb10218468aa4dc83a8873d51a2",
            "8590acac3628477ea4a70556c146c984",
            "0886adec1c6c4db1aea5c10c375c2a8f",
            "7ed8576b19614ec8a2148cb0373652b3",
            "8b272870a5fd4534bf98b993ca3f3ee0",
            "cc4bddf32dd647b6a231700760e2d397",
            "706783c679914d9eb9274af4884392ff",
            "85ce66fb0ee546f5bc0e13290775e2bf",
            "01fd7fe9e4da40b1830ada28086fa716",
            "b174388490b5439499b19e185d997dd2"
          ]
        },
        "id": "o78zogVLTaQT",
        "outputId": "82fadba2-788c-4be3-994e-31cffcdf4f5d"
      },
      "outputs": [
        {
          "output_type": "stream",
          "name": "stderr",
          "text": [
            "[nltk_data] Downloading package stopwords to /root/nltk_data...\n",
            "[nltk_data]   Unzipping corpora/stopwords.zip.\n"
          ]
        },
        {
          "output_type": "display_data",
          "data": {
            "text/plain": [
              "Downloading (…)okenizer_config.json:   0%|          | 0.00/28.0 [00:00<?, ?B/s]"
            ],
            "application/vnd.jupyter.widget-view+json": {
              "version_major": 2,
              "version_minor": 0,
              "model_id": "0eb4446f34334ae29f945daf7f7ee5be"
            }
          },
          "metadata": {}
        },
        {
          "output_type": "display_data",
          "data": {
            "text/plain": [
              "Downloading (…)lve/main/config.json:   0%|          | 0.00/570 [00:00<?, ?B/s]"
            ],
            "application/vnd.jupyter.widget-view+json": {
              "version_major": 2,
              "version_minor": 0,
              "model_id": "1e683f99368b4405b68237eabdd9f8a9"
            }
          },
          "metadata": {}
        },
        {
          "output_type": "display_data",
          "data": {
            "text/plain": [
              "Downloading (…)solve/main/vocab.txt:   0%|          | 0.00/232k [00:00<?, ?B/s]"
            ],
            "application/vnd.jupyter.widget-view+json": {
              "version_major": 2,
              "version_minor": 0,
              "model_id": "7a005c9ecaea481b933dd12d575eb9e3"
            }
          },
          "metadata": {}
        },
        {
          "output_type": "display_data",
          "data": {
            "text/plain": [
              "Downloading (…)/main/tokenizer.json:   0%|          | 0.00/466k [00:00<?, ?B/s]"
            ],
            "application/vnd.jupyter.widget-view+json": {
              "version_major": 2,
              "version_minor": 0,
              "model_id": "13cb4b89384d4f089c02c59772de791c"
            }
          },
          "metadata": {}
        },
        {
          "output_type": "display_data",
          "data": {
            "text/plain": [
              "Downloading pytorch_model.bin:   0%|          | 0.00/440M [00:00<?, ?B/s]"
            ],
            "application/vnd.jupyter.widget-view+json": {
              "version_major": 2,
              "version_minor": 0,
              "model_id": "4234be8c57dd4a78a95cb27886a38d8f"
            }
          },
          "metadata": {}
        },
        {
          "output_type": "stream",
          "name": "stderr",
          "text": [
            "Some weights of the model checkpoint at bert-base-uncased were not used when initializing BertModel: ['cls.predictions.transform.LayerNorm.bias', 'cls.predictions.transform.dense.bias', 'cls.seq_relationship.bias', 'cls.seq_relationship.weight', 'cls.predictions.decoder.weight', 'cls.predictions.bias', 'cls.predictions.transform.dense.weight', 'cls.predictions.transform.LayerNorm.weight']\n",
            "- This IS expected if you are initializing BertModel from the checkpoint of a model trained on another task or with another architecture (e.g. initializing a BertForSequenceClassification model from a BertForPreTraining model).\n",
            "- This IS NOT expected if you are initializing BertModel from the checkpoint of a model that you expect to be exactly identical (initializing a BertForSequenceClassification model from a BertForSequenceClassification model).\n"
          ]
        }
      ],
      "source": [
        "import torch\n",
        "from transformers import AutoTokenizer, AutoModel\n",
        "import nltk\n",
        "nltk.download('stopwords')\n",
        "from nltk.corpus import stopwords\n",
        "import re\n",
        "\n",
        "# set the device to run on\n",
        "device = torch.device('cuda' if torch.cuda.is_available() else 'cpu')\n",
        "\n",
        "# define the BERT model and tokenizer\n",
        "model_name = 'bert-base-uncased'\n",
        "tokenizer = AutoTokenizer.from_pretrained(model_name)\n",
        "model = AutoModel.from_pretrained(model_name).to(device)\n",
        "\n",
        "# define the text cleaning function\n",
        "def clean_text(text):\n",
        "    # remove URLs and Twitter handles\n",
        "    text = re.sub(r\"http\\S+|@\\S+\", \"\", text)\n",
        "    # remove non-alphanumeric characters and convert to lowercase\n",
        "    text = re.sub(r\"[^a-zA-Z0-9\\s]\", \"\", text).lower()\n",
        "    # tokenize the text into words\n",
        "    words = nltk.word_tokenize(text)\n",
        "    # remove stopwords\n",
        "    words = [word for word in words if word not in stopwords.words('english')]\n",
        "    # join the words back into a string\n",
        "    cleaned_text = ' '.join(words)\n",
        "    return cleaned_text"
      ]
    },
    {
      "cell_type": "code",
      "execution_count": null,
      "metadata": {
        "colab": {
          "base_uri": "https://localhost:8080/"
        },
        "id": "HX74WgCDAIlP",
        "outputId": "f84a04d6-a239-49df-b01c-e29ad8a7ec55"
      },
      "outputs": [
        {
          "output_type": "stream",
          "name": "stdout",
          "text": [
            "Mounted at /content/drive\n"
          ]
        }
      ],
      "source": [
        "from google.colab import drive\n",
        "drive.mount('/content/drive')"
      ]
    },
    {
      "cell_type": "markdown",
      "metadata": {
        "id": "ZAzVFIAmzqlJ"
      },
      "source": [
        "# Loading the inputs:"
      ]
    },
    {
      "cell_type": "code",
      "source": [
        "!wget http://cs.stanford.edu/people/alecmgo/trainingandtestdata.zip\n",
        "!unzip trainingandtestdata.zip"
      ],
      "metadata": {
        "colab": {
          "base_uri": "https://localhost:8080/"
        },
        "id": "6L8R1WNoVBEC",
        "outputId": "356d48f2-5104-479a-972c-463dcbb8f33d"
      },
      "execution_count": null,
      "outputs": [
        {
          "output_type": "stream",
          "name": "stdout",
          "text": [
            "--2023-05-12 12:31:46--  http://cs.stanford.edu/people/alecmgo/trainingandtestdata.zip\n",
            "Resolving cs.stanford.edu (cs.stanford.edu)... 171.64.64.64\n",
            "Connecting to cs.stanford.edu (cs.stanford.edu)|171.64.64.64|:80... connected.\n",
            "HTTP request sent, awaiting response... 301 Moved Permanently\n",
            "Location: https://cs.stanford.edu/people/alecmgo/trainingandtestdata.zip [following]\n",
            "--2023-05-12 12:31:46--  https://cs.stanford.edu/people/alecmgo/trainingandtestdata.zip\n",
            "Connecting to cs.stanford.edu (cs.stanford.edu)|171.64.64.64|:443... connected.\n",
            "HTTP request sent, awaiting response... 200 OK\n",
            "Length: 81363704 (78M) [application/zip]\n",
            "Saving to: ‘trainingandtestdata.zip’\n",
            "\n",
            "trainingandtestdata 100%[===================>]  77.59M  46.1MB/s    in 1.7s    \n",
            "\n",
            "2023-05-12 12:31:48 (46.1 MB/s) - ‘trainingandtestdata.zip’ saved [81363704/81363704]\n",
            "\n",
            "Archive:  trainingandtestdata.zip\n",
            "  inflating: testdata.manual.2009.06.14.csv  \n",
            "  inflating: training.1600000.processed.noemoticon.csv  \n"
          ]
        }
      ]
    },
    {
      "cell_type": "code",
      "source": [
        "!wget https://github.com/zfz/twitter_corpus/blob/master/full-corpus.csv\n"
      ],
      "metadata": {
        "colab": {
          "base_uri": "https://localhost:8080/"
        },
        "id": "4K0rJsutC1vS",
        "outputId": "175b9daf-7934-4209-92b8-bcdd481b25a7"
      },
      "execution_count": null,
      "outputs": [
        {
          "output_type": "stream",
          "name": "stdout",
          "text": [
            "--2023-05-12 13:04:10--  https://github.com/zfz/twitter_corpus/blob/master/full-corpus.csv\n",
            "Resolving github.com (github.com)... 140.82.112.3\n",
            "Connecting to github.com (github.com)|140.82.112.3|:443... connected.\n",
            "HTTP request sent, awaiting response... 200 OK\n",
            "Length: unspecified [text/html]\n",
            "Saving to: ‘full-corpus.csv’\n",
            "\n",
            "full-corpus.csv         [ <=>                ]   2.44M  14.1MB/s    in 0.2s    \n",
            "\n",
            "2023-05-12 13:04:11 (14.1 MB/s) - ‘full-corpus.csv’ saved [2556711]\n",
            "\n"
          ]
        }
      ]
    },
    {
      "cell_type": "code",
      "source": [
        "!git clone https://github.com/cardiffnlp/tweeteval/"
      ],
      "metadata": {
        "colab": {
          "base_uri": "https://localhost:8080/"
        },
        "id": "DukYaJhLFzv6",
        "outputId": "b20e4480-f0a0-4a13-e03b-037e3c97d887"
      },
      "execution_count": null,
      "outputs": [
        {
          "output_type": "stream",
          "name": "stdout",
          "text": [
            "Cloning into 'tweeteval'...\n",
            "remote: Enumerating objects: 370, done.\u001b[K\n",
            "remote: Counting objects:   6% (1/16)\u001b[K\rremote: Counting objects:  12% (2/16)\u001b[K\rremote: Counting objects:  18% (3/16)\u001b[K\rremote: Counting objects:  25% (4/16)\u001b[K\rremote: Counting objects:  31% (5/16)\u001b[K\rremote: Counting objects:  37% (6/16)\u001b[K\rremote: Counting objects:  43% (7/16)\u001b[K\rremote: Counting objects:  50% (8/16)\u001b[K\rremote: Counting objects:  56% (9/16)\u001b[K\rremote: Counting objects:  62% (10/16)\u001b[K\rremote: Counting objects:  68% (11/16)\u001b[K\rremote: Counting objects:  75% (12/16)\u001b[K\rremote: Counting objects:  81% (13/16)\u001b[K\rremote: Counting objects:  87% (14/16)\u001b[K\rremote: Counting objects:  93% (15/16)\u001b[K\rremote: Counting objects: 100% (16/16)\u001b[K\rremote: Counting objects: 100% (16/16), done.\u001b[K\n",
            "remote: Compressing objects: 100% (15/15), done.\u001b[K\n",
            "remote: Total 370 (delta 13), reused 3 (delta 1), pack-reused 354\u001b[K\n",
            "Receiving objects: 100% (370/370), 8.49 MiB | 15.02 MiB/s, done.\n",
            "Resolving deltas: 100% (122/122), done.\n"
          ]
        }
      ]
    },
    {
      "cell_type": "code",
      "source": [
        "train_labels = []\n",
        "test_labels = []\n",
        "val_labels = []\n",
        "\n",
        "with open(\"/content/tweeteval/datasets/sentiment/train_text.txt\", \"r\") as f:\n",
        "  train_data = f.readlines()\n",
        "\n",
        "with open(\"/content/tweeteval/datasets/sentiment/val_text.txt\", \"r\") as f:\n",
        "  val_data = f.readlines()\n",
        "\n",
        "with open(\"/content/tweeteval/datasets/sentiment/test_text.txt\", \"r\") as f:\n",
        "  test_data = f.readlines()\n",
        "\n",
        "with open(\"/content/tweeteval/datasets/sentiment/train_labels.txt\", \"r\") as f:\n",
        "    for line in f:\n",
        "        train_labels.append(int(line.strip()))\n",
        "\n",
        "with open(\"/content/tweeteval/datasets/sentiment/test_labels.txt\", \"r\") as f:\n",
        "    for line in f:\n",
        "        test_labels.append(int(line.strip()))\n",
        "\n",
        "with open(\"/content/tweeteval/datasets/sentiment/val_labels.txt\", \"r\") as f:\n",
        "    for line in f:\n",
        "        val_labels.append(int(line.strip()))\n"
      ],
      "metadata": {
        "id": "-0h8JJKHH0ui"
      },
      "execution_count": null,
      "outputs": []
    },
    {
      "cell_type": "code",
      "source": [
        "print(train_labels[10:20])"
      ],
      "metadata": {
        "colab": {
          "base_uri": "https://localhost:8080/"
        },
        "id": "jtiROdyqGu4d",
        "outputId": "d6b0f0f1-729e-4728-fb7a-73577dfd77d0"
      },
      "execution_count": null,
      "outputs": [
        {
          "output_type": "stream",
          "name": "stdout",
          "text": [
            "[1, 1, 2, 0, 1, 1, 2, 2, 0, 1]\n"
          ]
        }
      ]
    },
    {
      "cell_type": "code",
      "source": [
        "import torch\n",
        "from transformers import AutoTokenizer, AutoModel\n",
        "import nltk\n",
        "nltk.download('stopwords')\n",
        "from nltk.corpus import stopwords\n",
        "import re\n",
        "import os\n",
        "from torch_geometric.data import Data\n",
        "\n",
        "\n",
        "device = torch.device('cuda' if torch.cuda.is_available() else 'cpu')\n",
        "\n",
        "model_name = 'bert-base-uncased'\n",
        "tokenizer = AutoTokenizer.from_pretrained(model_name)\n",
        "model = AutoModel.from_pretrained(model_name).to(device)\n",
        "\n",
        "def clean_text(text):\n",
        "    text = re.sub(r\"http\\S+|@\\S+\", \"\", text)\n",
        "    text = re.sub(r\"[^a-zA-Z0-9\\s]\", \"\", text).lower()\n",
        "    words = nltk.word_tokenize(text)\n",
        "    words = [word for word in words if word not in stopwords.words('english')]\n",
        "    cleaned_text = ' '.join(words)\n",
        "    return cleaned_text\n",
        "\n",
        "# read the Sentiment140 data\n",
        "# dir_path = 'data/Sentiment140/'\n",
        "graph_list = []\n",
        "\n",
        "\n",
        "for i in range(98000): #range(len(target_data)):\n",
        "    sentiment_label = int(train_labels[i])\n",
        "    text = train_data[i]\n",
        "    # tweet_id = len(context_graph_dict) + 1\n",
        "\n",
        "    cleaned_text = clean_text(text)\n",
        "\n",
        "    inputs = tokenizer(cleaned_text, return_tensors='pt', truncation=True, padding=True).to(device)\n",
        "    outputs = model(**inputs).last_hidden_state\n",
        "\n",
        "    num_nodes = outputs.shape[1]  # number of words in the tweet\n",
        "    node_features = outputs.squeeze(0).detach().cpu().numpy()  # word embeddings\n",
        "    edge_index = torch.tensor([[i, j] for i in range(num_nodes) for j in range(num_nodes) if i != j], dtype=torch.long).t().contiguous()  # fully-connected graph\n",
        "    data = Data(x=torch.from_numpy(node_features).float(), edge_index=edge_index, y=torch.tensor(sentiment_label))\n",
        "\n",
        "    graph_list.append(data)"
      ],
      "metadata": {
        "colab": {
          "base_uri": "https://localhost:8080/"
        },
        "id": "7kuUv_Qij_KE",
        "outputId": "bcffabad-35d9-4cc7-eff8-e809c506c879"
      },
      "execution_count": null,
      "outputs": [
        {
          "output_type": "stream",
          "name": "stderr",
          "text": [
            "[nltk_data] Downloading package stopwords to /root/nltk_data...\n",
            "[nltk_data]   Package stopwords is already up-to-date!\n",
            "Some weights of the model checkpoint at bert-base-uncased were not used when initializing BertModel: ['cls.predictions.transform.LayerNorm.bias', 'cls.predictions.transform.dense.bias', 'cls.seq_relationship.bias', 'cls.seq_relationship.weight', 'cls.predictions.decoder.weight', 'cls.predictions.bias', 'cls.predictions.transform.dense.weight', 'cls.predictions.transform.LayerNorm.weight']\n",
            "- This IS expected if you are initializing BertModel from the checkpoint of a model trained on another task or with another architecture (e.g. initializing a BertForSequenceClassification model from a BertForPreTraining model).\n",
            "- This IS NOT expected if you are initializing BertModel from the checkpoint of a model that you expect to be exactly identical (initializing a BertForSequenceClassification model from a BertForSequenceClassification model).\n"
          ]
        }
      ]
    },
    {
      "cell_type": "code",
      "execution_count": null,
      "metadata": {
        "id": "okKCUjcYHEfA"
      },
      "outputs": [],
      "source": [
        "# dataloader = DataLoader(data_list, batch_size=32, shuffle=True)\n",
        "# torch.save(dataloader, '/content/drive/MyDrive/retweets_loader2.pth')"
      ]
    },
    {
      "cell_type": "markdown",
      "metadata": {
        "id": "Vfcx62gl3SVO"
      },
      "source": [
        "# Creating the model:"
      ]
    },
    {
      "cell_type": "markdown",
      "metadata": {
        "id": "13kEe-yZN5d6"
      },
      "source": [
        "# Representation learning block:"
      ]
    },
    {
      "cell_type": "code",
      "source": [
        "import torch\n",
        "from torch_geometric.nn import MessagePassing\n",
        "from torch.nn import Linear, Dropout, ReLU, ModuleList\n",
        "from torch_geometric.nn import GATConv, TransformerConv, GCNConv, BatchNorm\n",
        "\n",
        "class MultiHeadGAT(MessagePassing):\n",
        "    def __init__(self, in_channels, out_channels, heads, dropout=0.5):\n",
        "        super(MultiHeadGAT, self).__init__(aggr='add')\n",
        "        self.heads = heads\n",
        "        self.dropout = dropout\n",
        "        self.gat_layers = ModuleList()\n",
        "        for i in range(heads):\n",
        "            self.gat_layers.append(GATConv(in_channels, out_channels // heads))\n",
        "\n",
        "        self.linear = Linear(out_channels, out_channels)\n",
        "        self.activation = ReLU()\n",
        "\n",
        "    def forward(self, x, edge_index):\n",
        "        xs = []\n",
        "        for i in range(self.heads):\n",
        "            xs.append(self.gat_layers[i](x, edge_index))\n",
        "        x = torch.cat(xs, dim=1)\n",
        "        x = self.linear(x)\n",
        "        x = self.activation(x)\n",
        "        x = F.dropout(x, p=self.dropout, training=self.training)\n",
        "        return x\n",
        "\n",
        "class GNNClassifier(torch.nn.Module):\n",
        "    def __init__(self, output_dim, input_dim=768, hidden_dim=256, dropout=0.5):\n",
        "        super(GNNClassifier, self).__init__()\n",
        "        torch.manual_seed(12345)\n",
        "        self.gat1 = GATConv(input_dim, hidden_dim)\n",
        "        self.gat2 = GATConv(hidden_dim, hidden_dim)\n",
        "        self.gat3 = GATConv(hidden_dim, hidden_dim)\n",
        "        self.conv_mu = GCNConv(hidden_dim, hidden_dim)\n",
        "        self.lin = torch.nn.Linear(hidden_dim, hidden_dim)\n",
        "        self.lin2 = torch.nn.Linear(hidden_dim, 3)\n",
        "        self.bn1 = BatchNorm(hidden_dim)\n",
        "        self.bn2 = BatchNorm(hidden_dim)\n",
        "        self.bn3 = BatchNorm(hidden_dim)\n",
        "\n",
        "    def forward(self, data):\n",
        "        x, edge_index = data.x, data.edge_index\n",
        "        x = self.gat1(x, edge_index)\n",
        "        x = F.elu(self.bn1(x))\n",
        "        x = F.dropout(x, p=0.4, training=self.training)\n",
        "\n",
        "        x = self.gat2(x, edge_index)\n",
        "        x = F.elu(self.bn2(x))\n",
        "        x = F.dropout(x, p=0.4, training=self.training)\n",
        "\n",
        "        x = self.gat3(x, edge_index)\n",
        "        x = F.elu(self.bn3(x))\n",
        "        x = F.dropout(x, p=0.4, training=self.training)\n",
        "        \n",
        "        x = self.conv_mu(x, edge_index)\n",
        "\n",
        "        x = F.dropout(x, p=0.4, training=self.training)\n",
        "        x = global_mean_pool(x, data.batch)\n",
        "        # x = self.global_pool(x)\n",
        "        x = self.lin(x)\n",
        "        x = self.lin2(x)\n",
        "        x = F.softmax(x, dim=1)\n",
        "\n",
        "        return x"
      ],
      "metadata": {
        "id": "2n0m7no6kdLp"
      },
      "execution_count": null,
      "outputs": []
    },
    {
      "cell_type": "code",
      "source": [
        "# zzz = model(batch)\n",
        "print(target_data[1000:1700])"
      ],
      "metadata": {
        "id": "mSH1LMBwBK1r"
      },
      "execution_count": null,
      "outputs": []
    },
    {
      "cell_type": "markdown",
      "source": [
        "# Training:"
      ],
      "metadata": {
        "id": "qb5hudlnkj7r"
      }
    },
    {
      "cell_type": "code",
      "source": [
        "!pip install -q pytorch-ignite"
      ],
      "metadata": {
        "colab": {
          "base_uri": "https://localhost:8080/"
        },
        "id": "oVP9CA-yDCy_",
        "outputId": "cd5c7b39-06f8-4e58-b21b-c22940b7cc83"
      },
      "execution_count": null,
      "outputs": [
        {
          "output_type": "stream",
          "name": "stdout",
          "text": [
            "\u001b[?25l     \u001b[90m━━━━━━━━━━━━━━━━━━━━━━━━━━━━━━━━━━━━━━━━\u001b[0m \u001b[32m0.0/266.8 kB\u001b[0m \u001b[31m?\u001b[0m eta \u001b[36m-:--:--\u001b[0m\r\u001b[2K     \u001b[91m━━━━━━━━━━━━━━━━━━━━━━━━━━━━━\u001b[0m\u001b[91m╸\u001b[0m\u001b[90m━━━━━━━━━\u001b[0m \u001b[32m204.8/266.8 kB\u001b[0m \u001b[31m6.8 MB/s\u001b[0m eta \u001b[36m0:00:01\u001b[0m\r\u001b[2K     \u001b[90m━━━━━━━━━━━━━━━━━━━━━━━━━━━━━━━━━━━━━━━\u001b[0m \u001b[32m266.8/266.8 kB\u001b[0m \u001b[31m5.2 MB/s\u001b[0m eta \u001b[36m0:00:00\u001b[0m\n",
            "\u001b[?25h"
          ]
        }
      ]
    },
    {
      "cell_type": "code",
      "source": [
        "def train(model, device, train_loader, optimizer, criterion, epoch):\n",
        "    model.train()\n",
        "    for data in train_loader:\n",
        "        data = data.to(device)\n",
        "        optimizer.zero_grad()\n",
        "        out = model(data)\n",
        "        loss = criterion(out, data.y)\n",
        "        loss.backward()\n",
        "        optimizer.step()\n",
        "    print(f'Training Epoch {epoch+1}: Loss={loss.item()}')\n",
        "    return loss\n",
        "\n",
        "def evaluate(model, device, loader, criterion):\n",
        "    model.eval()\n",
        "    loss = 0\n",
        "    correct = 0\n",
        "    with torch.no_grad():\n",
        "        for data in loader:\n",
        "            data = data.to(device)\n",
        "            out = model(data)\n",
        "            loss += criterion(out, data.y).item()\n",
        "            pred = out.max(1)[1]\n",
        "            correct += pred.eq(data.y).sum().item()\n",
        "    loss /= len(loader)\n",
        "    accuracy = 100. * correct / len(loader.dataset)\n",
        "    print(f'Evaluation: Average Loss={loss:.4f}, Accuracy={accuracy:.2f}%')\n",
        "    return loss, accuracy\n",
        "\n",
        "def run_validation(engine, val_loader):\n",
        "    engine.eval()\n",
        "    with torch.no_grad():\n",
        "        val_metrics = {name: 0.0 for name in val_metrics}\n",
        "        for data in tqdm(val_loader, desc='Validation'):\n",
        "            data = data.to(device)\n",
        "            output = model(data.x, data.edge_index)\n",
        "            loss = criterion(output, data.y)\n",
        "            for name, metric in val_metrics.items():\n",
        "                val_metrics[name] += metric(output, data.y).item() * data.num_graphs\n",
        "        for name in val_metrics:\n",
        "            val_metrics[name] /= len(val_loader.dataset)\n",
        "    return val_metrics\n",
        "\n",
        "\n",
        "def validate_one_epoch(model, validation_loader, criterion, device):\n",
        "    model.eval()\n",
        "    validation_loss = 0.0\n",
        "    with torch.no_grad():\n",
        "        for batch in validation_loader:\n",
        "            inputs, targets = batch.to(device), batch.y\n",
        "            inputs, targets = inputs.to(device), targets.to(device)\n",
        "            outputs = model(inputs)\n",
        "            loss = criterion(outputs, targets)\n",
        "            validation_loss += loss.item() * inputs.size(0)\n",
        "    validation_loss /= len(validation_loader.dataset)\n",
        "    print(f'Evaluation: Average Loss={validation_loss:.4f}')\n",
        "    return validation_loss"
      ],
      "metadata": {
        "id": "d1ZRc0qUD8bR"
      },
      "execution_count": null,
      "outputs": []
    },
    {
      "cell_type": "code",
      "source": [
        "class EarlyStopper:\n",
        "    def __init__(self, patience=5, min_delta=0):\n",
        "        self.patience = patience\n",
        "        self.min_delta = min_delta\n",
        "        self.counter = 0\n",
        "        self.min_validation_loss = np.inf\n",
        "\n",
        "    def early_stop(self, validation_loss):\n",
        "        if validation_loss < self.min_validation_loss:\n",
        "            self.min_validation_loss = validation_loss\n",
        "            self.counter = 0\n",
        "        elif validation_loss > (self.min_validation_loss + self.min_delta):\n",
        "            self.counter += 1\n",
        "            if self.counter >= self.patience:\n",
        "                return True\n",
        "        return False"
      ],
      "metadata": {
        "id": "08oIUhG9PL_y"
      },
      "execution_count": null,
      "outputs": []
    },
    {
      "cell_type": "code",
      "source": [
        "from torch_geometric.data import DataLoader\n",
        "from torch.optim import Adam\n",
        "from torch.nn import CrossEntropyLoss\n",
        "from ignite.engine import Events, create_supervised_trainer, create_supervised_evaluator\n",
        "from ignite.metrics import Accuracy, Loss\n",
        "from ignite.handlers import EarlyStopping\n",
        "from ignite.engine import Engine, Events\n",
        "from tqdm import tqdm\n",
        "from torch.optim.lr_scheduler import StepLR\n",
        "from sklearn.model_selection import train_test_split\n",
        "import matplotlib.pyplot as plt\n",
        "\n",
        "\n",
        "device = torch.device('cuda' if torch.cuda.is_available() else 'cpu')\n",
        "model = GNNClassifier(3).to(device)\n",
        "optimizer = Adam(model.parameters(), lr=0.002)\n",
        "criterion = CrossEntropyLoss()\n",
        "loss_fn = criterion\n",
        "\n",
        "\n",
        "\n",
        "random_seed = 100\n",
        "num_epochs = 100\n",
        "\n",
        "\n",
        "train_data, test_data = train_test_split(graph_list, test_size=0.3, random_state=random_seed)\n",
        "val_data, test_data = train_test_split(test_data, test_size=0.5, random_state=random_seed)\n",
        "\n",
        "\n",
        "train_loader = DataLoader(train_data, batch_size=32, shuffle=True)\n",
        "test_loader = DataLoader(test_data, batch_size=32, shuffle=True)\n",
        "val_loader = DataLoader(val_data, batch_size=32, shuffle=True)\n",
        "\n",
        "early_stopper = EarlyStopper(patience=2, min_delta=10)\n",
        "\n",
        "\n",
        "train_losses = []\n",
        "val_losses = []\n",
        "early_stopper = EarlyStopper(patience=3, min_delta=10)\n",
        "\n",
        "\n",
        "# plt.ion()\n",
        "\n",
        "train_losses = []\n",
        "val_losses = []\n",
        "# fig, ax = plt.subplots()\n",
        "\n",
        "#     train_loss = 0\n",
        "#     for batch in train_loader:\n",
        "#         optimizer.zero_grad()\n",
        "#         out = model(batch.to(device))\n",
        "#         loss = criterion(out, batch.y)\n",
        "#         loss.backward()\n",
        "#         optimizer.step()\n",
        "#         train_loss += loss.item() * len(batch)\n",
        "#     train_loss /= len(train_data)\n",
        "#     train_losses.append(train_loss)\n",
        "\n",
        "#     val_loss = 0\n",
        "#     for batch in val_loader:\n",
        "#         out = model(batch.to(device))\n",
        "#         loss = criterion(out, batch.y)\n",
        "#         val_loss += loss.item() * len(batch)\n",
        "#     val_loss /= len(val_data)\n",
        "#     val_losses.append(val_loss)\n",
        "\n",
        "#     ax.clear()\n",
        "#     ax.plot(train_losses, label='Train')\n",
        "#     ax.plot(val_losses, label='Validation')\n",
        "#     ax.legend()\n",
        "#     ax.set_title(f'Epoch {epoch+1}/{num_epochs}')\n",
        "#     ax.set_xlabel('Epoch')\n",
        "#     ax.set_ylabel('Loss')\n",
        "#     plt.show()\n",
        "    \n",
        "#     print(f'Epoch {epoch+1}/{num_epochs}: Loss={loss.item()}, Val Loss={val_loss}')\n",
        "#     if early_stopper.early_stop(val_loss):\n",
        "#         print('Early stopping criterion met!')\n",
        "#         break\n",
        "\n",
        "\n",
        "# plt.ioff()\n",
        "# plt.show()\n",
        "\n",
        "\n",
        "for epoch in range(num_epochs):\n",
        "    for batch in train_loader:\n",
        "        optimizer.zero_grad()\n",
        "        out = model(batch.to(device))\n",
        "        loss = criterion(out, batch.y)\n",
        "        loss.backward()\n",
        "        optimizer.step()\n",
        "\n",
        "    train_loss = 0\n",
        "    for batch in train_loader:\n",
        "        out = model(batch.to(device))\n",
        "        train_loss += criterion(out, batch.y).item() * 32\n",
        "    train_loss /= len(train_data)\n",
        "    train_losses.append(train_loss)\n",
        "\n",
        "    val_loss = 0\n",
        "    for batch in val_loader:\n",
        "        out = model(batch.to(device))\n",
        "        val_loss += criterion(out, batch.y).item() * 32\n",
        "    val_loss /= len(val_data)\n",
        "    val_losses.append(val_loss)\n",
        "\n",
        "    print(f'Epoch {epoch+1}/{num_epochs}: Loss={loss.item()}, Val Loss={val_loss}')\n",
        "    if early_stopper.early_stop(val_loss):             \n",
        "        break\n",
        "\n",
        "# plt.plot(train_losses, label='Training Loss')\n",
        "# plt.plot(val_losses, label='Validation Loss')\n",
        "# plt.xlabel('Epoch')\n",
        "# plt.ylabel('Loss')\n",
        "# plt.legend()\n",
        "# plt.show()\n",
        "    \n",
        "    # Evaluate the model\n",
        "\n",
        "\n",
        "# for epoch in np.arange(num_epochs):\n",
        "#     train_loss = train(model, device, train_loader, optimizer, criterion, epoch)\n",
        "#     validation_loss = validate_one_epoch(model, val_loader, criterion, device)\n",
        "#     if early_stopper.early_stop(validation_loss):             \n",
        "#         break"
      ],
      "metadata": {
        "id": "kzYqz-M1PNJM"
      },
      "execution_count": null,
      "outputs": []
    },
    {
      "cell_type": "code",
      "source": [
        "from torch_geometric.data import DataLoader\n",
        "from torch.optim import Adam\n",
        "from torch.nn import CrossEntropyLoss\n",
        "from ignite.engine import Events, create_supervised_trainer, create_supervised_evaluator\n",
        "from ignite.metrics import Accuracy, Loss\n",
        "from ignite.handlers import EarlyStopping\n",
        "from ignite.engine import Engine, Events\n",
        "from tqdm import tqdm\n",
        "from torch.optim.lr_scheduler import StepLR\n",
        "\n",
        "# Initialize the model and optimizer\n",
        "device = torch.device('cuda' if torch.cuda.is_available() else 'cpu')\n",
        "model = GNNClassifier(num_classes=3).to(device)\n",
        "optimizer = Adam(model.parameters(), lr=0.001)\n",
        "criterion = CrossEntropyLoss()\n",
        "loss_fn = criterion\n",
        "\n",
        "# create the trainer and evaluator\n",
        "trainer = create_supervised_trainer(model, optimizer, loss_fn, device=device)\n",
        "evaluator = create_supervised_evaluator(model, metrics={'accuracy': Accuracy(), 'loss': Loss(loss_fn)}, device=device)\n",
        "validator = create_supervised_evaluator(model, metrics={'accuracy': Accuracy(), 'loss': Loss(loss_fn)}, device=device)\n",
        "\n",
        "# define the EarlyStopping handler\n",
        "early_stopping = EarlyStopping(patience=5, score_function=lambda engine: engine.state.metrics['accuracy'], trainer=trainer)\n",
        "\n",
        "# attach the EarlyStopping handler to the trainer\n",
        "trainer.add_event_handler(Events.EPOCH_COMPLETED, early_stopping)\n",
        "\n",
        "# Load the data into a DataLoader\n",
        "from sklearn.model_selection import train_test_split\n",
        "\n",
        "# set the random seed for reproducibility\n",
        "random_seed = 42\n",
        "num_epochs = 5\n",
        "\n",
        "# split the data into train and test subsets\n",
        "train_data, test_data = train_test_split(graph_list, test_size=0.3, random_state=random_seed)\n",
        "val_data, test_data = train_test_split(test_data, test_size=0.5, random_state=random_seed)\n",
        "\n",
        "# split the train data into train and validation subsets\n",
        "# train_data, val_data = train_test_split(train_data, test_size=0.2, random_state=random_seed)\n",
        "\n",
        "train_loader = DataLoader(train_data, batch_size=32, shuffle=True)\n",
        "test_loader = DataLoader(test_data, batch_size=32, shuffle=True)\n",
        "val_loader = DataLoader(val_data, batch_size=32, shuffle=False)\n",
        "\n",
        "# # Train the model\n",
        "# for epoch in range(num_epochs):\n",
        "#     for batch in train_loader:\n",
        "#         optimizer.zero_grad()\n",
        "#         out = model(batch)\n",
        "#         loss = criterion(out, batch.y)\n",
        "#         loss.backward()\n",
        "#         optimizer.step()\n",
        "#     print(f'Epoch {epoch+1}/{num_epochs}: Loss={loss.item()}')\n",
        "#     # Evaluate the model\n",
        "\n",
        "def train(engin, batch):\n",
        "    model.train()\n",
        "    optimizer.zero_grad()\n",
        "    out = model(batch.to(device))\n",
        "    loss = criterion(out, batch.y)\n",
        "    loss.backward()\n",
        "    optimizer.step()\n",
        "    # print(f'Training Epoch {epoch+1}: Loss={loss.item()}')\n",
        "    return loss.item()\n",
        "    \n",
        "\n",
        "def run_validation(engine, batch):\n",
        "    model.eval()\n",
        "    with torch.no_grad():\n",
        "        out = model(batch.to(device))\n",
        "        loss = criterion(out, batch.y)\n",
        "        return {'loss': loss.item()}\n",
        "\n",
        "scheduler = StepLR(optimizer, step_size=30, gamma=0.1)\n",
        "\n",
        "trainer = Engine(train)\n",
        "# validator = Engine(run_validation)\n",
        "\n",
        "\n",
        "for epoch in range(num_epochs):\n",
        "    trainer.run(train_loader)\n",
        "    validator.run(val_loader)\n",
        "    train_loss = trainer.state.output\n",
        "    val_loss = validator.state.metrics['loss']\n",
        "    print(f'Epoch {epoch+1}/{num_epochs}: Train Loss={train_loss:.4f}, Val Loss={val_loss:.4f}')\n",
        "    scheduler.step(val_loss)\n",
        "    \n",
        "    # Check if early stopping criterion is met\n",
        "    if early_stopping is not None:\n",
        "        if early_stopping.step(val_loss):\n",
        "            print(\"Early stopping triggered!\")\n",
        "            break\n"
      ],
      "metadata": {
        "id": "8meYqwf4kmOp"
      },
      "execution_count": null,
      "outputs": []
    },
    {
      "cell_type": "code",
      "source": [
        "from sklearn.metrics import accuracy_score, f1_score\n",
        "\n",
        "def evaluate(model, loader, criterion):\n",
        "    model.eval()\n",
        "    eval_loss = 0\n",
        "    eval_acc = 0\n",
        "    eval_f1 = 0\n",
        "    with torch.no_grad():\n",
        "        for data in loader:\n",
        "            data = data.to(device)\n",
        "            out = model(data)\n",
        "            loss = criterion(out, data.y)\n",
        "            print(out, data.y)\n",
        "            eval_loss += loss.item()\n",
        "            eval_acc += accuracy_score(torch.argmax(out.cpu().detach(), axis=1), data.y.cpu())\n",
        "            eval_f1 += f1_score(torch.argmax(out.cpu().detach(), axis=1), data.y.cpu(), average='weighted')\n",
        "    eval_loss /= len(loader)\n",
        "    eval_acc /= len(loader)\n",
        "    eval_f1 /= len(loader)\n",
        "    return eval_loss, eval_acc, eval_f1"
      ],
      "metadata": {
        "id": "sMD_KnAVqlYv"
      },
      "execution_count": null,
      "outputs": []
    },
    {
      "cell_type": "code",
      "source": [
        "test_loss, test_acc, eval_f1 = evaluate(model, test_loader, criterion)\n",
        "print(f'test F1 score: {eval_f1:.4f}, Test Loss: {test_loss:.4f}, Test Accuracy: {test_acc:.4f}')"
      ],
      "metadata": {
        "id": "U2sJoJ6pqmRT"
      },
      "execution_count": null,
      "outputs": []
    },
    {
      "cell_type": "code",
      "source": [
        "loss = criterion(out, data.y)\n",
        "print(loss)"
      ],
      "metadata": {
        "id": "OB7ljGiGO0W1"
      },
      "execution_count": null,
      "outputs": []
    },
    {
      "cell_type": "code",
      "execution_count": null,
      "metadata": {
        "colab": {
          "base_uri": "https://localhost:8080/"
        },
        "id": "K0rsuI6Ybx5X",
        "outputId": "6f253658-4490-4847-dd67-c9b49eca7e9d"
      },
      "outputs": [
        {
          "name": "stdout",
          "output_type": "stream",
          "text": [
            "Epoch 1/100: Loss=0.3399708867073059\n",
            "Epoch 2/100: Loss=0.30594226717948914\n",
            "Epoch 3/100: Loss=0.27572205662727356\n",
            "Epoch 4/100: Loss=0.2728796899318695\n",
            "Epoch 5/100: Loss=0.2628888487815857\n",
            "Epoch 6/100: Loss=0.24702832102775574\n",
            "Epoch 7/100: Loss=0.24677079916000366\n",
            "Epoch 8/100: Loss=0.23996798694133759\n",
            "Epoch 9/100: Loss=0.25310689210891724\n",
            "Epoch 10/100: Loss=0.23860761523246765\n",
            "Epoch 11/100: Loss=0.24289673566818237\n",
            "Epoch 12/100: Loss=0.2468884289264679\n",
            "Epoch 13/100: Loss=0.2524784207344055\n",
            "Epoch 14/100: Loss=0.2519073784351349\n",
            "Epoch 15/100: Loss=0.2421337068080902\n",
            "Epoch 16/100: Loss=0.2394917756319046\n",
            "Epoch 17/100: Loss=0.24272757768630981\n",
            "Epoch 18/100: Loss=0.24628682434558868\n",
            "Epoch 19/100: Loss=0.25697118043899536\n",
            "Epoch 20/100: Loss=0.243623748421669\n",
            "Epoch 21/100: Loss=0.22602272033691406\n",
            "Epoch 22/100: Loss=0.24247007071971893\n",
            "Epoch 23/100: Loss=0.24273967742919922\n",
            "Epoch 24/100: Loss=0.24658086895942688\n",
            "Epoch 25/100: Loss=0.23415136337280273\n",
            "Epoch 26/100: Loss=0.23663316667079926\n",
            "Epoch 27/100: Loss=0.23985666036605835\n",
            "Epoch 28/100: Loss=0.23642252385616302\n",
            "Epoch 29/100: Loss=0.23900523781776428\n",
            "Epoch 30/100: Loss=0.24367642402648926\n",
            "Epoch 31/100: Loss=0.23219218850135803\n",
            "Epoch 32/100: Loss=0.24434754252433777\n",
            "Epoch 33/100: Loss=0.24609491229057312\n",
            "Epoch 34/100: Loss=0.25055667757987976\n",
            "Epoch 35/100: Loss=0.23715317249298096\n",
            "Epoch 36/100: Loss=0.24461571872234344\n",
            "Epoch 37/100: Loss=0.24634616076946259\n",
            "Epoch 38/100: Loss=0.24839352071285248\n",
            "Epoch 39/100: Loss=0.2526903748512268\n",
            "Epoch 40/100: Loss=0.23517537117004395\n",
            "Epoch 41/100: Loss=0.2483276128768921\n",
            "Epoch 42/100: Loss=0.2545754313468933\n",
            "Epoch 43/100: Loss=0.24113713204860687\n",
            "Epoch 44/100: Loss=0.2388352006673813\n",
            "Epoch 45/100: Loss=0.2436111718416214\n",
            "Epoch 46/100: Loss=0.23482544720172882\n",
            "Epoch 47/100: Loss=0.2435547262430191\n",
            "Epoch 48/100: Loss=0.22913514077663422\n",
            "Epoch 49/100: Loss=0.2394964098930359\n",
            "Epoch 50/100: Loss=0.24062399566173553\n",
            "Epoch 51/100: Loss=0.24261070787906647\n",
            "Epoch 52/100: Loss=0.2484184056520462\n",
            "Epoch 53/100: Loss=0.24124863743782043\n",
            "Epoch 54/100: Loss=0.24412737786769867\n",
            "Epoch 55/100: Loss=0.23984360694885254\n",
            "Epoch 56/100: Loss=0.2368701994419098\n",
            "Epoch 57/100: Loss=0.24943333864212036\n",
            "Epoch 58/100: Loss=0.2510063350200653\n",
            "Epoch 59/100: Loss=0.24417079985141754\n",
            "Epoch 60/100: Loss=0.24564209580421448\n",
            "Epoch 61/100: Loss=0.23449823260307312\n",
            "Epoch 62/100: Loss=0.2466394007205963\n",
            "Epoch 63/100: Loss=0.2418902963399887\n",
            "Epoch 64/100: Loss=0.25198894739151\n",
            "Epoch 65/100: Loss=0.24257014691829681\n",
            "Epoch 66/100: Loss=0.24812567234039307\n",
            "Epoch 67/100: Loss=0.2369011640548706\n",
            "Epoch 68/100: Loss=0.24340257048606873\n",
            "Epoch 69/100: Loss=0.23695620894432068\n",
            "Epoch 70/100: Loss=0.24749374389648438\n",
            "Epoch 71/100: Loss=0.24136298894882202\n",
            "Epoch 72/100: Loss=0.2458701878786087\n",
            "Epoch 73/100: Loss=0.24139945209026337\n",
            "Epoch 74/100: Loss=0.2447541356086731\n",
            "Epoch 75/100: Loss=0.24558216333389282\n",
            "Epoch 76/100: Loss=0.2476041465997696\n",
            "Epoch 77/100: Loss=0.2491973638534546\n",
            "Epoch 78/100: Loss=0.22986215353012085\n",
            "Epoch 79/100: Loss=0.24002906680107117\n",
            "Epoch 80/100: Loss=0.23527009785175323\n",
            "Epoch 81/100: Loss=0.2436225563287735\n",
            "Epoch 82/100: Loss=0.24567745625972748\n",
            "Epoch 83/100: Loss=0.24359393119812012\n",
            "Epoch 84/100: Loss=0.24619106948375702\n",
            "Epoch 85/100: Loss=0.25300756096839905\n",
            "Epoch 86/100: Loss=0.23576344549655914\n",
            "Epoch 87/100: Loss=0.24044086039066315\n",
            "Epoch 88/100: Loss=0.2411452680826187\n",
            "Epoch 89/100: Loss=0.24306783080101013\n",
            "Epoch 90/100: Loss=0.2454822063446045\n",
            "Epoch 91/100: Loss=0.24088916182518005\n",
            "Epoch 92/100: Loss=0.24570897221565247\n",
            "Epoch 93/100: Loss=0.24837392568588257\n",
            "Epoch 94/100: Loss=0.24857161939144135\n",
            "Epoch 95/100: Loss=0.24288396537303925\n",
            "Epoch 96/100: Loss=0.24185267090797424\n",
            "Epoch 97/100: Loss=0.238028883934021\n",
            "Epoch 98/100: Loss=0.24159088730812073\n",
            "Epoch 99/100: Loss=0.2488163411617279\n",
            "Epoch 100/100: Loss=0.2335500419139862\n"
          ]
        }
      ],
      "source": [
        "import torch_geometric.utils as utils\n",
        "\n",
        "train_losses = []\n",
        "val_losses = []\n",
        "train_accs = []\n",
        "val_accs = []\n",
        "loss_list = []\n",
        "\n",
        "input_dim, hidden_dim, output_dim = 768, 1000, 240\n",
        "\n",
        "dataloader = DataLoader(context_graph_list, batch_size=batch_size, shuffle=True)\n",
        "\n",
        "# Initialize the attentional graph autoencoder model and move it to the device\n",
        "model = ContextAE(input_dim, hidden_dim, output_dim).to(device)\n",
        "\n",
        "# Define the optimizer for the VAE\n",
        "optimizer = torch.optim.Adam(model.parameters(), lr=1e-3)\n",
        "\n",
        "# Train the VAE model\n",
        "for epoch in range(num_epochs):\n",
        "    train_loss = 0.0\n",
        "    train_acc = 0.0\n",
        "    val_loss = 0.0\n",
        "    val_acc = 0.0\n",
        "\n",
        "    for batch in dataloader:\n",
        "        batch = batch.to(device)\n",
        "        optimizer.zero_grad()\n",
        "        # edge_index = utils.batched_edge_indices(batch.edge_index, batch.batch).to(device)\n",
        "        x_hat, z_mean, z_log_std = model(batch.x, batch.edge_index.long(), batch.batch)\n",
        "        # loss = loss_function(x_hat, z_mean, batch.x, z_log_std)\n",
        "        # loss = loss_function(x_hat, batch.x, z_mean, z_log_std, alpha)\n",
        "        loss = F.mse_loss(x_hat, batch.x)\n",
        "        # print(loss)\n",
        "        # print(kl_loss(z_mean, z_log_std))\n",
        "        loss = loss + 0.1 * kl_loss(z_mean, z_log_std)\n",
        "\n",
        "        loss.backward()\n",
        "        optimizer.step()\n",
        "\n",
        "        train_loss += loss.item() * batch.num_graphs\n",
        "    train_loss /= len(context_graph_list)\n",
        "    train_losses.append(train_loss)\n",
        "    print(f'Epoch {epoch+1}/{num_epochs}: Loss={loss.item()}')\n",
        "    loss_list.append(loss.item())"
      ]
    },
    {
      "cell_type": "markdown",
      "metadata": {
        "id": "f5mpbEmRztuQ"
      },
      "source": [
        "* save the model:"
      ]
    },
    {
      "cell_type": "code",
      "execution_count": null,
      "metadata": {
        "id": "UF6a6Y32zv-M"
      },
      "outputs": [],
      "source": [
        "state_dict = model.state_dict()\n",
        "\n",
        "# Save the state dictionary to a file\n",
        "torch.save(state_dict, '/content/drive/MyDrive/retweet_cascade/cont_embedder_model.pt')"
      ]
    },
    {
      "cell_type": "markdown",
      "metadata": {
        "id": "-9uW_cQzzw2f"
      },
      "source": [
        "* embed the data:"
      ]
    },
    {
      "cell_type": "code",
      "execution_count": null,
      "metadata": {
        "id": "4l-PoNgUzy1_"
      },
      "outputs": [],
      "source": [
        "# Embed the input graphs using the trained VAE\n",
        "cont_embeddings = []\n",
        "cont_embedder_model = model\n",
        "\n",
        "for graph in context_graph_list:\n",
        "    graph = graph.to(device)\n",
        "    with torch.no_grad():\n",
        "        output = model.encoder(graph.x, graph.edge_index.long(), graph.batch)\n",
        "    cont_embeddings.append(output[0].cpu().numpy())"
      ]
    },
    {
      "cell_type": "code",
      "execution_count": null,
      "metadata": {
        "id": "JwYrxyrv0GmY"
      },
      "outputs": [],
      "source": [
        "cont_embeddings = np.array(cont_embeddings[:,0,:])\n",
        "np.save('/content/drive/MyDrive/retweet_cascade/cont_embeddings.npy', cont_embeddings)"
      ]
    },
    {
      "cell_type": "markdown",
      "metadata": {
        "id": "RN1GCwIr0tvQ"
      },
      "source": [
        "* Save the model:"
      ]
    },
    {
      "cell_type": "markdown",
      "metadata": {
        "id": "0KBME6R30xJ2"
      },
      "source": [
        "embed the data:"
      ]
    },
    {
      "cell_type": "markdown",
      "metadata": {
        "id": "NC0qMU523ZwX"
      },
      "source": [
        "* some more imports:"
      ]
    },
    {
      "cell_type": "code",
      "execution_count": null,
      "metadata": {
        "id": "GeJbZXIC3PVu"
      },
      "outputs": [],
      "source": [
        "import torch\n",
        "import torch.nn as nn\n",
        "import numpy as np\n",
        "import torch.nn.functional as F\n",
        "from torch_geometric.nn import GCNConv, GATConv, VGAE\n",
        "from torch_geometric.data import Data, DataLoader\n",
        "from torch_geometric.nn import GAE, VGAE, GCNConv\n",
        "from torch_geometric.utils import to_dense_batch\n",
        "from torch_geometric.nn import global_mean_pool\n",
        "\n",
        "from torch_geometric.data import DataLoader\n",
        "from torch_geometric.datasets import Planetoid\n",
        "\n",
        "from sklearn.metrics import f1_score"
      ]
    },
    {
      "cell_type": "code",
      "execution_count": null,
      "metadata": {
        "id": "4Yg_7MG63dJt"
      },
      "outputs": [],
      "source": [
        "class GCNSentiment(torch.nn.Module):\n",
        "    def __init__(self, input_dim, hidden_dim, output_dim, concat=True):\n",
        "      super(GCNSentiment, self).__init__()\n",
        "\n",
        "      self.num_features = input_dim\n",
        "      self.num_classes = output_dim\n",
        "      self.nhid = hidden_dim\n",
        "      self.concat = concat\n",
        "\n",
        "      self.conv1 = GATConv(self.num_features, self.nhid * 2)\n",
        "      self.conv2 = GATConv(self.nhid * 2, self.nhid * 2)\n",
        "\n",
        "      self.fc1 = Linear(self.nhid * 2, self.nhid)\n",
        "\n",
        "      if self.concat:\n",
        "        self.fc0 = Linear(self.num_features, self.nhid)\n",
        "        self.fc1 = Linear(self.nhid * 2, self.nhid)\n",
        "      self.fc2 = Linear(self.nhid, self.num_classes)\n",
        "\n",
        "    def forward(self, data):\n",
        "      x, edge_index, batch = data.x, data.edge_index, data.batch\n",
        "\n",
        "      x = F.selu(self.conv1(x, edge_index))\n",
        "      x = F.selu(self.conv2(x, edge_index))\n",
        "      x = F.selu(global_mean_pool(x, batch))\n",
        "      x = F.selu(self.fc1(x))\n",
        "      x = F.dropout(x, p=0.5, training=self.training)\n",
        "\n",
        "      if self.concat:\n",
        "        news = torch.stack([data.x[(data.batch == idx).nonzero().squeeze()[0]] for idx in range(data.num_graphs)])\n",
        "        news = F.relu(self.fc0(news))\n",
        "        x = torch.cat([x, news], dim=1)\n",
        "        x = F.relu(self.fc1(x))\n",
        "\n",
        "      x = F.log_softmax(self.fc2(x), dim=-1)\n",
        "      return x\n",
        "\n",
        "class CategoricalCrossEntropyLoss(nn.Module):\n",
        "    def __init__(self):\n",
        "        super(CategoricalCrossEntropyLoss, self).__init__()\n",
        "\n",
        "    def forward(self, inputs, targets):\n",
        "        # inputs shape: (batch_size, num_classes)\n",
        "        # targets shape: (batch_size,)\n",
        "        \n",
        "        # Convert targets to one-hot encoding\n",
        "        targets = torch.eye(inputs.size(1))[targets].to(inputs.device)\n",
        "        \n",
        "        # Calculate loss\n",
        "        loss = -torch.sum(targets * torch.log_softmax(inputs, dim=1), dim=1)\n",
        "        \n",
        "        # Average loss over batch\n",
        "        loss = torch.mean(loss)\n",
        "        \n",
        "        return loss\n",
        "\n",
        "def one_hot_ce_loss(outputs, targets):\n",
        "    criterion = nn.CrossEntropyLoss()\n",
        "    _, labels = torch.max(targets, dim=1)\n",
        "    return criterion(outputs, labels)"
      ]
    },
    {
      "cell_type": "code",
      "execution_count": null,
      "metadata": {
        "id": "d3ST3drM7Ker"
      },
      "outputs": [],
      "source": [
        "class ContextEmbedding(torch.nn.Module):\n",
        "    def __init__(self, input_dim, hidden_dim, output_dim):\n",
        "        super(ContextEmbedding, self).__init__()\n",
        "        torch.manual_seed(12345)\n",
        "        self.gat1 = GATConv(input_dim, hidden_dim)\n",
        "        self.gat2 = GATConv(hidden_dim, hidden_dim)\n",
        "        self.gat3 = GATConv(hidden_dim, hidden_dim)\n",
        "\n",
        "        self.conv_mu = GCNConv(hidden_dim, output_dim)\n",
        "        # self.lin = torch.nn.Linear(hidden_dim, output_dim)\n",
        "    \n",
        "    def forward(self, x, edge_index, batch):\n",
        "        # x = batch.x\n",
        "        # edge_index = batch.edge_index\n",
        "\n",
        "        x = self.gat1(x, edge_index)\n",
        "        x = F.elu(x)\n",
        "        x = F.dropout(x, p=0.4, training=self.training)\n",
        "\n",
        "        x = self.gat2(x, edge_index)\n",
        "        x = F.elu(x)\n",
        "        x = F.dropout(x, p=0.4, training=self.training)\n",
        "\n",
        "        x = self.gat3(x, edge_index)\n",
        "        x = F.elu(x)\n",
        "        x = F.dropout(x, p=0.4, training=self.training)\n",
        "\n",
        "        x = self.conv_mu(x)\n",
        "        x = F.dropout(x, p=0.4, training=self.training)\n",
        "        z = global_mean_pool(x, batch)\n",
        "\n",
        "        return x\n",
        "\n",
        "\n",
        "class PropagationEmbedding(torch.nn.Module):\n",
        "    def __init__(self, input_dim, hidden_dim, output_dim, concat=True):\n",
        "      super(PropagationEmbedding, self).__init__()\n",
        "\n",
        "      self.num_features = input_dim\n",
        "      self.num_classes = output_dim\n",
        "      self.nhid = hidden_dim\n",
        "      self.concat = concat\n",
        "\n",
        "      self.conv1 = GATConv(self.num_features, self.nhid * 2)\n",
        "      self.conv2 = GATConv(self.nhid * 2, self.nhid * 2)\n",
        "\n",
        "      self.fc1 = Linear(self.nhid * 2, self.nhid)\n",
        "\n",
        "      if self.concat:\n",
        "        self.fc0 = Linear(self.num_features, self.nhid)\n",
        "        self.fc1 = Linear(self.nhid * 2, self.nhid)\n",
        "      self.fc2 = Linear(self.nhid, self.num_classes)\n",
        "\n",
        "    def forward(self, x, edge_index, batch):\n",
        "      # x, edge_index, batch = data.x, data.edge_index, data.batch\n",
        "\n",
        "      x = F.selu(self.conv1(x, edge_index))\n",
        "      x = F.selu(self.conv2(x, edge_index))\n",
        "      x = F.selu(global_mean_pool(x, batch))\n",
        "      x = F.selu(self.fc1(x))\n",
        "      x = F.dropout(x, p=0.5, training=self.training)\n",
        "\n",
        "      if self.concat:\n",
        "        news = torch.stack([data.x[(data.batch == idx).nonzero().squeeze()[0]] for idx in range(data.num_graphs)])\n",
        "        news = F.relu(self.fc0(news))\n",
        "        x = torch.cat([x, news], dim=1)\n",
        "        x = F.relu(self.fc1(x))\n",
        "\n",
        "      # x = F.log_softmax(self.fc2(x), dim=-1)\n",
        "      return x\n",
        "\n",
        "class AGCNSent(torch.nn.Module):\n",
        "    def __init__(self, output_dim):\n",
        "      super(AGCNSent, self).__init__()\n",
        "      self.propagationEmb = PropagationEmbedding(1, 8, output_dim, concat=True)\n",
        "      self.contextEmb = ContextEmbedding(768, 1000, output_dim)\n",
        "      self.fc1 = Linear(output_dim * 2, 2*output_dim)\n",
        "      self.fc2 = Linear(output_dim * 2, 3)\n",
        "\n",
        "    def forward(self, data):\n",
        "      x1 = self.propagationEmb(data.x_prop, data.edge_index_prop, data)\n",
        "      x2 = self.contextEmb(data.x_cont, data.edge_index_cont, data)\n",
        "      x = torch.cat([x1, x2], dim=-1)\n",
        "      x = self.fc1(x)\n",
        "      x = self.fc2(x)\n",
        "      x = F.log_softmax(x, dim=-1)\n",
        "\n",
        "      return x"
      ]
    },
    {
      "cell_type": "code",
      "execution_count": null,
      "metadata": {
        "colab": {
          "base_uri": "https://localhost:8080/"
        },
        "id": "LG2KNsSf-iGT",
        "outputId": "ae1ffa9a-bfec-476e-ccbf-e5384eb76ef5"
      },
      "outputs": [
        {
          "name": "stdout",
          "output_type": "stream",
          "text": [
            "Data(x=[120, 1], edge_index=[2, 119], y=1, id='522684367647559681')\n"
          ]
        }
      ],
      "source": [
        "print(dataset.propagation_graphs[10])"
      ]
    },
    {
      "cell_type": "markdown",
      "metadata": {
        "id": "cTjFKyxP3drK"
      },
      "source": [
        "# Training the model:"
      ]
    },
    {
      "cell_type": "code",
      "execution_count": null,
      "metadata": {
        "id": "IHvEvDzjIIP8"
      },
      "outputs": [],
      "source": [
        "from torch_geometric.data import Batch\n",
        "\n",
        "def my_collate(batch):\n",
        "    return Batch.from_data_list(batch)"
      ]
    },
    {
      "cell_type": "code",
      "execution_count": null,
      "metadata": {
        "id": "gOWaWWAZ3hGx"
      },
      "outputs": [],
      "source": [
        "device = torch.device('cuda' if torch.cuda.is_available() else 'cpu')\n",
        "\n",
        "input_dim = 1\n",
        "hidden_dim = 16\n",
        "output_dim = 16\n",
        "batch_size = 16\n",
        "epoch_num = 200\n",
        "\n",
        "# os.environ['CUDA_LAUNCH_BLOCKING'] = '1'\n",
        "\n",
        "dataloader = DataLoader(data_list, batch_size=batch_size, shuffle=True)\n",
        "# dataloader = DataLoader(data_list, batch_size=batch_size, shuffle=True, collate_fn=my_collate)\n",
        "\n",
        "model = AGCNSent(output_dim).to(device)\n",
        "optimizer = torch.optim.Adam(model.parameters(), lr=0.01)\n",
        "\n",
        "criterion = CategoricalCrossEntropyLoss().to(device)\n",
        "\n",
        "model.train()\n",
        "for epoch in range(epoch_num):\n",
        "    total_loss = 0\n",
        "    total_correct = 0\n",
        "    total_samples = 0\n",
        "\n",
        "    # for batch in dataloader:\n",
        "    for batch in data_list:\n",
        "        batch = batch.to(device)\n",
        "        optimizer.zero_grad()\n",
        "        out = model(batch).to(device)\n",
        "\n",
        "        m = nn.Sigmoid()\n",
        "\n",
        "        loss = nn.CrossEntropyLoss()(out, batch.y)\n",
        "\n",
        "        loss.backward()\n",
        "        optimizer.step()\n",
        "\n",
        "        total_loss += loss.item() * batch.num_graphs\n",
        "        total_correct += (out.argmax(dim=-1) == batch.y).sum().item()\n",
        "        total_samples += batch.num_graphs\n",
        "\n",
        "    avg_loss = total_loss / 2316\n",
        "    avg_acc = total_correct / total_samples\n",
        "\n",
        "    print(\"Epoch \", epoch, \" loss: \", avg_loss, \" acc: \", avg_acc)\n",
        "    #     loss.backward()\n",
        "    #     optimizer.step()\n",
        "    #     total_loss += loss.item()\n",
        "    # print(\"Epoch \", epoch, \" loss: \", total_loss / epoch_num) # note!\n",
        "\n",
        "\n",
        "model.eval()\n",
        "pred_y = []\n",
        "true_y = []\n",
        "\n",
        "for batch in dataloader:\n",
        "    batch = batch.to(device)\n",
        "    with torch.no_grad():\n",
        "        out = model(batch)\n",
        "        pred = out.argmax(dim=-1)\n",
        "        pred_y.append(pred.cpu().numpy())\n",
        "        true_y.append(batch.y.cpu().numpy())\n",
        "\n",
        "pred_y = np.concatenate(pred_y, axis=0)\n",
        "true_y = np.concatenate(true_y, axis=0)\n",
        "\n",
        "f1 = f1_score(true_y, pred_y, average='macro')\n",
        "print(\"F1 score: \", f1)"
      ]
    },
    {
      "cell_type": "markdown",
      "metadata": {
        "id": "l8ICm-mT_9BX"
      },
      "source": [
        "# Let's watch the model!"
      ]
    },
    {
      "cell_type": "code",
      "source": [
        "y_list = np.load('/content/drive/MyDrive/retweet_cascade/y_list.npy')"
      ],
      "metadata": {
        "id": "ngAru-ZKqF5t"
      },
      "execution_count": null,
      "outputs": []
    },
    {
      "cell_type": "code",
      "source": [
        "prop_embeddings = np.load('/content/drive/MyDrive/retweet_cascade/prop_embeddings.npy')\n",
        "cont_embeddings = np.load('/content/drive/MyDrive/retweet_cascade/cont_embeddings.npy')"
      ],
      "metadata": {
        "id": "qQm1RTjmQQIh"
      },
      "execution_count": null,
      "outputs": []
    },
    {
      "cell_type": "code",
      "source": [
        "feature_mat = np.concatenate((prop_embeddings, cont_embeddings), axis=1)"
      ],
      "metadata": {
        "id": "h4txw-7PQQ-K"
      },
      "execution_count": null,
      "outputs": []
    },
    {
      "cell_type": "markdown",
      "source": [],
      "metadata": {
        "id": "cKWDjoWiFBaD"
      }
    }
  ],
  "metadata": {
    "accelerator": "GPU",
    "colab": {
      "provenance": []
    },
    "gpuClass": "standard",
    "kernelspec": {
      "display_name": "Python 3",
      "name": "python3"
    },
    "language_info": {
      "name": "python"
    },
    "widgets": {
      "application/vnd.jupyter.widget-state+json": {
        "0eb4446f34334ae29f945daf7f7ee5be": {
          "model_module": "@jupyter-widgets/controls",
          "model_name": "HBoxModel",
          "model_module_version": "1.5.0",
          "state": {
            "_dom_classes": [],
            "_model_module": "@jupyter-widgets/controls",
            "_model_module_version": "1.5.0",
            "_model_name": "HBoxModel",
            "_view_count": null,
            "_view_module": "@jupyter-widgets/controls",
            "_view_module_version": "1.5.0",
            "_view_name": "HBoxView",
            "box_style": "",
            "children": [
              "IPY_MODEL_e72d88130b284161964c1ea5bf37fb9c",
              "IPY_MODEL_4585e685d11e411ea2f4afb8834d8eee",
              "IPY_MODEL_f4ae2328ae8c45269a3888d4579f53e6"
            ],
            "layout": "IPY_MODEL_ef9628c3aec9445aaa2cdb02837234f6"
          }
        },
        "e72d88130b284161964c1ea5bf37fb9c": {
          "model_module": "@jupyter-widgets/controls",
          "model_name": "HTMLModel",
          "model_module_version": "1.5.0",
          "state": {
            "_dom_classes": [],
            "_model_module": "@jupyter-widgets/controls",
            "_model_module_version": "1.5.0",
            "_model_name": "HTMLModel",
            "_view_count": null,
            "_view_module": "@jupyter-widgets/controls",
            "_view_module_version": "1.5.0",
            "_view_name": "HTMLView",
            "description": "",
            "description_tooltip": null,
            "layout": "IPY_MODEL_59bb82bc0165425482eada08c39ba125",
            "placeholder": "​",
            "style": "IPY_MODEL_d1999709aeab43cbb1b45889dab22aaa",
            "value": "Downloading (…)okenizer_config.json: 100%"
          }
        },
        "4585e685d11e411ea2f4afb8834d8eee": {
          "model_module": "@jupyter-widgets/controls",
          "model_name": "FloatProgressModel",
          "model_module_version": "1.5.0",
          "state": {
            "_dom_classes": [],
            "_model_module": "@jupyter-widgets/controls",
            "_model_module_version": "1.5.0",
            "_model_name": "FloatProgressModel",
            "_view_count": null,
            "_view_module": "@jupyter-widgets/controls",
            "_view_module_version": "1.5.0",
            "_view_name": "ProgressView",
            "bar_style": "success",
            "description": "",
            "description_tooltip": null,
            "layout": "IPY_MODEL_8e6a3ef4ed45428fb8bdef066352989e",
            "max": 28,
            "min": 0,
            "orientation": "horizontal",
            "style": "IPY_MODEL_43dbf63d5d6040a68ce193db82e6c949",
            "value": 28
          }
        },
        "f4ae2328ae8c45269a3888d4579f53e6": {
          "model_module": "@jupyter-widgets/controls",
          "model_name": "HTMLModel",
          "model_module_version": "1.5.0",
          "state": {
            "_dom_classes": [],
            "_model_module": "@jupyter-widgets/controls",
            "_model_module_version": "1.5.0",
            "_model_name": "HTMLModel",
            "_view_count": null,
            "_view_module": "@jupyter-widgets/controls",
            "_view_module_version": "1.5.0",
            "_view_name": "HTMLView",
            "description": "",
            "description_tooltip": null,
            "layout": "IPY_MODEL_f7c419a59e7844ceba9b0095537caa6c",
            "placeholder": "​",
            "style": "IPY_MODEL_1c7b559989964bef8f0bae94f92ee867",
            "value": " 28.0/28.0 [00:00&lt;00:00, 990B/s]"
          }
        },
        "ef9628c3aec9445aaa2cdb02837234f6": {
          "model_module": "@jupyter-widgets/base",
          "model_name": "LayoutModel",
          "model_module_version": "1.2.0",
          "state": {
            "_model_module": "@jupyter-widgets/base",
            "_model_module_version": "1.2.0",
            "_model_name": "LayoutModel",
            "_view_count": null,
            "_view_module": "@jupyter-widgets/base",
            "_view_module_version": "1.2.0",
            "_view_name": "LayoutView",
            "align_content": null,
            "align_items": null,
            "align_self": null,
            "border": null,
            "bottom": null,
            "display": null,
            "flex": null,
            "flex_flow": null,
            "grid_area": null,
            "grid_auto_columns": null,
            "grid_auto_flow": null,
            "grid_auto_rows": null,
            "grid_column": null,
            "grid_gap": null,
            "grid_row": null,
            "grid_template_areas": null,
            "grid_template_columns": null,
            "grid_template_rows": null,
            "height": null,
            "justify_content": null,
            "justify_items": null,
            "left": null,
            "margin": null,
            "max_height": null,
            "max_width": null,
            "min_height": null,
            "min_width": null,
            "object_fit": null,
            "object_position": null,
            "order": null,
            "overflow": null,
            "overflow_x": null,
            "overflow_y": null,
            "padding": null,
            "right": null,
            "top": null,
            "visibility": null,
            "width": null
          }
        },
        "59bb82bc0165425482eada08c39ba125": {
          "model_module": "@jupyter-widgets/base",
          "model_name": "LayoutModel",
          "model_module_version": "1.2.0",
          "state": {
            "_model_module": "@jupyter-widgets/base",
            "_model_module_version": "1.2.0",
            "_model_name": "LayoutModel",
            "_view_count": null,
            "_view_module": "@jupyter-widgets/base",
            "_view_module_version": "1.2.0",
            "_view_name": "LayoutView",
            "align_content": null,
            "align_items": null,
            "align_self": null,
            "border": null,
            "bottom": null,
            "display": null,
            "flex": null,
            "flex_flow": null,
            "grid_area": null,
            "grid_auto_columns": null,
            "grid_auto_flow": null,
            "grid_auto_rows": null,
            "grid_column": null,
            "grid_gap": null,
            "grid_row": null,
            "grid_template_areas": null,
            "grid_template_columns": null,
            "grid_template_rows": null,
            "height": null,
            "justify_content": null,
            "justify_items": null,
            "left": null,
            "margin": null,
            "max_height": null,
            "max_width": null,
            "min_height": null,
            "min_width": null,
            "object_fit": null,
            "object_position": null,
            "order": null,
            "overflow": null,
            "overflow_x": null,
            "overflow_y": null,
            "padding": null,
            "right": null,
            "top": null,
            "visibility": null,
            "width": null
          }
        },
        "d1999709aeab43cbb1b45889dab22aaa": {
          "model_module": "@jupyter-widgets/controls",
          "model_name": "DescriptionStyleModel",
          "model_module_version": "1.5.0",
          "state": {
            "_model_module": "@jupyter-widgets/controls",
            "_model_module_version": "1.5.0",
            "_model_name": "DescriptionStyleModel",
            "_view_count": null,
            "_view_module": "@jupyter-widgets/base",
            "_view_module_version": "1.2.0",
            "_view_name": "StyleView",
            "description_width": ""
          }
        },
        "8e6a3ef4ed45428fb8bdef066352989e": {
          "model_module": "@jupyter-widgets/base",
          "model_name": "LayoutModel",
          "model_module_version": "1.2.0",
          "state": {
            "_model_module": "@jupyter-widgets/base",
            "_model_module_version": "1.2.0",
            "_model_name": "LayoutModel",
            "_view_count": null,
            "_view_module": "@jupyter-widgets/base",
            "_view_module_version": "1.2.0",
            "_view_name": "LayoutView",
            "align_content": null,
            "align_items": null,
            "align_self": null,
            "border": null,
            "bottom": null,
            "display": null,
            "flex": null,
            "flex_flow": null,
            "grid_area": null,
            "grid_auto_columns": null,
            "grid_auto_flow": null,
            "grid_auto_rows": null,
            "grid_column": null,
            "grid_gap": null,
            "grid_row": null,
            "grid_template_areas": null,
            "grid_template_columns": null,
            "grid_template_rows": null,
            "height": null,
            "justify_content": null,
            "justify_items": null,
            "left": null,
            "margin": null,
            "max_height": null,
            "max_width": null,
            "min_height": null,
            "min_width": null,
            "object_fit": null,
            "object_position": null,
            "order": null,
            "overflow": null,
            "overflow_x": null,
            "overflow_y": null,
            "padding": null,
            "right": null,
            "top": null,
            "visibility": null,
            "width": null
          }
        },
        "43dbf63d5d6040a68ce193db82e6c949": {
          "model_module": "@jupyter-widgets/controls",
          "model_name": "ProgressStyleModel",
          "model_module_version": "1.5.0",
          "state": {
            "_model_module": "@jupyter-widgets/controls",
            "_model_module_version": "1.5.0",
            "_model_name": "ProgressStyleModel",
            "_view_count": null,
            "_view_module": "@jupyter-widgets/base",
            "_view_module_version": "1.2.0",
            "_view_name": "StyleView",
            "bar_color": null,
            "description_width": ""
          }
        },
        "f7c419a59e7844ceba9b0095537caa6c": {
          "model_module": "@jupyter-widgets/base",
          "model_name": "LayoutModel",
          "model_module_version": "1.2.0",
          "state": {
            "_model_module": "@jupyter-widgets/base",
            "_model_module_version": "1.2.0",
            "_model_name": "LayoutModel",
            "_view_count": null,
            "_view_module": "@jupyter-widgets/base",
            "_view_module_version": "1.2.0",
            "_view_name": "LayoutView",
            "align_content": null,
            "align_items": null,
            "align_self": null,
            "border": null,
            "bottom": null,
            "display": null,
            "flex": null,
            "flex_flow": null,
            "grid_area": null,
            "grid_auto_columns": null,
            "grid_auto_flow": null,
            "grid_auto_rows": null,
            "grid_column": null,
            "grid_gap": null,
            "grid_row": null,
            "grid_template_areas": null,
            "grid_template_columns": null,
            "grid_template_rows": null,
            "height": null,
            "justify_content": null,
            "justify_items": null,
            "left": null,
            "margin": null,
            "max_height": null,
            "max_width": null,
            "min_height": null,
            "min_width": null,
            "object_fit": null,
            "object_position": null,
            "order": null,
            "overflow": null,
            "overflow_x": null,
            "overflow_y": null,
            "padding": null,
            "right": null,
            "top": null,
            "visibility": null,
            "width": null
          }
        },
        "1c7b559989964bef8f0bae94f92ee867": {
          "model_module": "@jupyter-widgets/controls",
          "model_name": "DescriptionStyleModel",
          "model_module_version": "1.5.0",
          "state": {
            "_model_module": "@jupyter-widgets/controls",
            "_model_module_version": "1.5.0",
            "_model_name": "DescriptionStyleModel",
            "_view_count": null,
            "_view_module": "@jupyter-widgets/base",
            "_view_module_version": "1.2.0",
            "_view_name": "StyleView",
            "description_width": ""
          }
        },
        "1e683f99368b4405b68237eabdd9f8a9": {
          "model_module": "@jupyter-widgets/controls",
          "model_name": "HBoxModel",
          "model_module_version": "1.5.0",
          "state": {
            "_dom_classes": [],
            "_model_module": "@jupyter-widgets/controls",
            "_model_module_version": "1.5.0",
            "_model_name": "HBoxModel",
            "_view_count": null,
            "_view_module": "@jupyter-widgets/controls",
            "_view_module_version": "1.5.0",
            "_view_name": "HBoxView",
            "box_style": "",
            "children": [
              "IPY_MODEL_fac8d9eaec4844088e10776c2e774fca",
              "IPY_MODEL_cd171ed832414a269c69ecf9fa839827",
              "IPY_MODEL_0c00416474ad4772b1c14453b817f0f8"
            ],
            "layout": "IPY_MODEL_858158ad96c847d690875a5b1b75c060"
          }
        },
        "fac8d9eaec4844088e10776c2e774fca": {
          "model_module": "@jupyter-widgets/controls",
          "model_name": "HTMLModel",
          "model_module_version": "1.5.0",
          "state": {
            "_dom_classes": [],
            "_model_module": "@jupyter-widgets/controls",
            "_model_module_version": "1.5.0",
            "_model_name": "HTMLModel",
            "_view_count": null,
            "_view_module": "@jupyter-widgets/controls",
            "_view_module_version": "1.5.0",
            "_view_name": "HTMLView",
            "description": "",
            "description_tooltip": null,
            "layout": "IPY_MODEL_f7761b0025174dd3b27c19ad137971f4",
            "placeholder": "​",
            "style": "IPY_MODEL_c7269a2dfd7342aab02d94596a539ee7",
            "value": "Downloading (…)lve/main/config.json: 100%"
          }
        },
        "cd171ed832414a269c69ecf9fa839827": {
          "model_module": "@jupyter-widgets/controls",
          "model_name": "FloatProgressModel",
          "model_module_version": "1.5.0",
          "state": {
            "_dom_classes": [],
            "_model_module": "@jupyter-widgets/controls",
            "_model_module_version": "1.5.0",
            "_model_name": "FloatProgressModel",
            "_view_count": null,
            "_view_module": "@jupyter-widgets/controls",
            "_view_module_version": "1.5.0",
            "_view_name": "ProgressView",
            "bar_style": "success",
            "description": "",
            "description_tooltip": null,
            "layout": "IPY_MODEL_79fecd4a4a3b4dbea8178306c642e15c",
            "max": 570,
            "min": 0,
            "orientation": "horizontal",
            "style": "IPY_MODEL_49ef93e56fe14dcc98a181db45da657a",
            "value": 570
          }
        },
        "0c00416474ad4772b1c14453b817f0f8": {
          "model_module": "@jupyter-widgets/controls",
          "model_name": "HTMLModel",
          "model_module_version": "1.5.0",
          "state": {
            "_dom_classes": [],
            "_model_module": "@jupyter-widgets/controls",
            "_model_module_version": "1.5.0",
            "_model_name": "HTMLModel",
            "_view_count": null,
            "_view_module": "@jupyter-widgets/controls",
            "_view_module_version": "1.5.0",
            "_view_name": "HTMLView",
            "description": "",
            "description_tooltip": null,
            "layout": "IPY_MODEL_55a18de5b51045a0ad43956abaa47a64",
            "placeholder": "​",
            "style": "IPY_MODEL_f29d944a18a84b95bd7832d4b9468f6f",
            "value": " 570/570 [00:00&lt;00:00, 13.4kB/s]"
          }
        },
        "858158ad96c847d690875a5b1b75c060": {
          "model_module": "@jupyter-widgets/base",
          "model_name": "LayoutModel",
          "model_module_version": "1.2.0",
          "state": {
            "_model_module": "@jupyter-widgets/base",
            "_model_module_version": "1.2.0",
            "_model_name": "LayoutModel",
            "_view_count": null,
            "_view_module": "@jupyter-widgets/base",
            "_view_module_version": "1.2.0",
            "_view_name": "LayoutView",
            "align_content": null,
            "align_items": null,
            "align_self": null,
            "border": null,
            "bottom": null,
            "display": null,
            "flex": null,
            "flex_flow": null,
            "grid_area": null,
            "grid_auto_columns": null,
            "grid_auto_flow": null,
            "grid_auto_rows": null,
            "grid_column": null,
            "grid_gap": null,
            "grid_row": null,
            "grid_template_areas": null,
            "grid_template_columns": null,
            "grid_template_rows": null,
            "height": null,
            "justify_content": null,
            "justify_items": null,
            "left": null,
            "margin": null,
            "max_height": null,
            "max_width": null,
            "min_height": null,
            "min_width": null,
            "object_fit": null,
            "object_position": null,
            "order": null,
            "overflow": null,
            "overflow_x": null,
            "overflow_y": null,
            "padding": null,
            "right": null,
            "top": null,
            "visibility": null,
            "width": null
          }
        },
        "f7761b0025174dd3b27c19ad137971f4": {
          "model_module": "@jupyter-widgets/base",
          "model_name": "LayoutModel",
          "model_module_version": "1.2.0",
          "state": {
            "_model_module": "@jupyter-widgets/base",
            "_model_module_version": "1.2.0",
            "_model_name": "LayoutModel",
            "_view_count": null,
            "_view_module": "@jupyter-widgets/base",
            "_view_module_version": "1.2.0",
            "_view_name": "LayoutView",
            "align_content": null,
            "align_items": null,
            "align_self": null,
            "border": null,
            "bottom": null,
            "display": null,
            "flex": null,
            "flex_flow": null,
            "grid_area": null,
            "grid_auto_columns": null,
            "grid_auto_flow": null,
            "grid_auto_rows": null,
            "grid_column": null,
            "grid_gap": null,
            "grid_row": null,
            "grid_template_areas": null,
            "grid_template_columns": null,
            "grid_template_rows": null,
            "height": null,
            "justify_content": null,
            "justify_items": null,
            "left": null,
            "margin": null,
            "max_height": null,
            "max_width": null,
            "min_height": null,
            "min_width": null,
            "object_fit": null,
            "object_position": null,
            "order": null,
            "overflow": null,
            "overflow_x": null,
            "overflow_y": null,
            "padding": null,
            "right": null,
            "top": null,
            "visibility": null,
            "width": null
          }
        },
        "c7269a2dfd7342aab02d94596a539ee7": {
          "model_module": "@jupyter-widgets/controls",
          "model_name": "DescriptionStyleModel",
          "model_module_version": "1.5.0",
          "state": {
            "_model_module": "@jupyter-widgets/controls",
            "_model_module_version": "1.5.0",
            "_model_name": "DescriptionStyleModel",
            "_view_count": null,
            "_view_module": "@jupyter-widgets/base",
            "_view_module_version": "1.2.0",
            "_view_name": "StyleView",
            "description_width": ""
          }
        },
        "79fecd4a4a3b4dbea8178306c642e15c": {
          "model_module": "@jupyter-widgets/base",
          "model_name": "LayoutModel",
          "model_module_version": "1.2.0",
          "state": {
            "_model_module": "@jupyter-widgets/base",
            "_model_module_version": "1.2.0",
            "_model_name": "LayoutModel",
            "_view_count": null,
            "_view_module": "@jupyter-widgets/base",
            "_view_module_version": "1.2.0",
            "_view_name": "LayoutView",
            "align_content": null,
            "align_items": null,
            "align_self": null,
            "border": null,
            "bottom": null,
            "display": null,
            "flex": null,
            "flex_flow": null,
            "grid_area": null,
            "grid_auto_columns": null,
            "grid_auto_flow": null,
            "grid_auto_rows": null,
            "grid_column": null,
            "grid_gap": null,
            "grid_row": null,
            "grid_template_areas": null,
            "grid_template_columns": null,
            "grid_template_rows": null,
            "height": null,
            "justify_content": null,
            "justify_items": null,
            "left": null,
            "margin": null,
            "max_height": null,
            "max_width": null,
            "min_height": null,
            "min_width": null,
            "object_fit": null,
            "object_position": null,
            "order": null,
            "overflow": null,
            "overflow_x": null,
            "overflow_y": null,
            "padding": null,
            "right": null,
            "top": null,
            "visibility": null,
            "width": null
          }
        },
        "49ef93e56fe14dcc98a181db45da657a": {
          "model_module": "@jupyter-widgets/controls",
          "model_name": "ProgressStyleModel",
          "model_module_version": "1.5.0",
          "state": {
            "_model_module": "@jupyter-widgets/controls",
            "_model_module_version": "1.5.0",
            "_model_name": "ProgressStyleModel",
            "_view_count": null,
            "_view_module": "@jupyter-widgets/base",
            "_view_module_version": "1.2.0",
            "_view_name": "StyleView",
            "bar_color": null,
            "description_width": ""
          }
        },
        "55a18de5b51045a0ad43956abaa47a64": {
          "model_module": "@jupyter-widgets/base",
          "model_name": "LayoutModel",
          "model_module_version": "1.2.0",
          "state": {
            "_model_module": "@jupyter-widgets/base",
            "_model_module_version": "1.2.0",
            "_model_name": "LayoutModel",
            "_view_count": null,
            "_view_module": "@jupyter-widgets/base",
            "_view_module_version": "1.2.0",
            "_view_name": "LayoutView",
            "align_content": null,
            "align_items": null,
            "align_self": null,
            "border": null,
            "bottom": null,
            "display": null,
            "flex": null,
            "flex_flow": null,
            "grid_area": null,
            "grid_auto_columns": null,
            "grid_auto_flow": null,
            "grid_auto_rows": null,
            "grid_column": null,
            "grid_gap": null,
            "grid_row": null,
            "grid_template_areas": null,
            "grid_template_columns": null,
            "grid_template_rows": null,
            "height": null,
            "justify_content": null,
            "justify_items": null,
            "left": null,
            "margin": null,
            "max_height": null,
            "max_width": null,
            "min_height": null,
            "min_width": null,
            "object_fit": null,
            "object_position": null,
            "order": null,
            "overflow": null,
            "overflow_x": null,
            "overflow_y": null,
            "padding": null,
            "right": null,
            "top": null,
            "visibility": null,
            "width": null
          }
        },
        "f29d944a18a84b95bd7832d4b9468f6f": {
          "model_module": "@jupyter-widgets/controls",
          "model_name": "DescriptionStyleModel",
          "model_module_version": "1.5.0",
          "state": {
            "_model_module": "@jupyter-widgets/controls",
            "_model_module_version": "1.5.0",
            "_model_name": "DescriptionStyleModel",
            "_view_count": null,
            "_view_module": "@jupyter-widgets/base",
            "_view_module_version": "1.2.0",
            "_view_name": "StyleView",
            "description_width": ""
          }
        },
        "7a005c9ecaea481b933dd12d575eb9e3": {
          "model_module": "@jupyter-widgets/controls",
          "model_name": "HBoxModel",
          "model_module_version": "1.5.0",
          "state": {
            "_dom_classes": [],
            "_model_module": "@jupyter-widgets/controls",
            "_model_module_version": "1.5.0",
            "_model_name": "HBoxModel",
            "_view_count": null,
            "_view_module": "@jupyter-widgets/controls",
            "_view_module_version": "1.5.0",
            "_view_name": "HBoxView",
            "box_style": "",
            "children": [
              "IPY_MODEL_125ae44a3be04ce5b8ccb54371d68245",
              "IPY_MODEL_23fd5d11e4c94cd6b9f6251d397f1882",
              "IPY_MODEL_802f643604c6494ebec57140cd2ea1b1"
            ],
            "layout": "IPY_MODEL_8d23e62fc4c345b69960996deb2be432"
          }
        },
        "125ae44a3be04ce5b8ccb54371d68245": {
          "model_module": "@jupyter-widgets/controls",
          "model_name": "HTMLModel",
          "model_module_version": "1.5.0",
          "state": {
            "_dom_classes": [],
            "_model_module": "@jupyter-widgets/controls",
            "_model_module_version": "1.5.0",
            "_model_name": "HTMLModel",
            "_view_count": null,
            "_view_module": "@jupyter-widgets/controls",
            "_view_module_version": "1.5.0",
            "_view_name": "HTMLView",
            "description": "",
            "description_tooltip": null,
            "layout": "IPY_MODEL_0c8d24809fd64785944919bc1af7f97a",
            "placeholder": "​",
            "style": "IPY_MODEL_89bf48c39d844825b0315b2b13da0161",
            "value": "Downloading (…)solve/main/vocab.txt: 100%"
          }
        },
        "23fd5d11e4c94cd6b9f6251d397f1882": {
          "model_module": "@jupyter-widgets/controls",
          "model_name": "FloatProgressModel",
          "model_module_version": "1.5.0",
          "state": {
            "_dom_classes": [],
            "_model_module": "@jupyter-widgets/controls",
            "_model_module_version": "1.5.0",
            "_model_name": "FloatProgressModel",
            "_view_count": null,
            "_view_module": "@jupyter-widgets/controls",
            "_view_module_version": "1.5.0",
            "_view_name": "ProgressView",
            "bar_style": "success",
            "description": "",
            "description_tooltip": null,
            "layout": "IPY_MODEL_79a081ed804f42c3927a19068fdfdc8b",
            "max": 231508,
            "min": 0,
            "orientation": "horizontal",
            "style": "IPY_MODEL_ebbc917fb2674df7af52592b08d7789d",
            "value": 231508
          }
        },
        "802f643604c6494ebec57140cd2ea1b1": {
          "model_module": "@jupyter-widgets/controls",
          "model_name": "HTMLModel",
          "model_module_version": "1.5.0",
          "state": {
            "_dom_classes": [],
            "_model_module": "@jupyter-widgets/controls",
            "_model_module_version": "1.5.0",
            "_model_name": "HTMLModel",
            "_view_count": null,
            "_view_module": "@jupyter-widgets/controls",
            "_view_module_version": "1.5.0",
            "_view_name": "HTMLView",
            "description": "",
            "description_tooltip": null,
            "layout": "IPY_MODEL_387e9098b62e4c25b8546a603d57e5ea",
            "placeholder": "​",
            "style": "IPY_MODEL_a3711e5b2f4645ec8ee3a6d03f4273ac",
            "value": " 232k/232k [00:00&lt;00:00, 4.67MB/s]"
          }
        },
        "8d23e62fc4c345b69960996deb2be432": {
          "model_module": "@jupyter-widgets/base",
          "model_name": "LayoutModel",
          "model_module_version": "1.2.0",
          "state": {
            "_model_module": "@jupyter-widgets/base",
            "_model_module_version": "1.2.0",
            "_model_name": "LayoutModel",
            "_view_count": null,
            "_view_module": "@jupyter-widgets/base",
            "_view_module_version": "1.2.0",
            "_view_name": "LayoutView",
            "align_content": null,
            "align_items": null,
            "align_self": null,
            "border": null,
            "bottom": null,
            "display": null,
            "flex": null,
            "flex_flow": null,
            "grid_area": null,
            "grid_auto_columns": null,
            "grid_auto_flow": null,
            "grid_auto_rows": null,
            "grid_column": null,
            "grid_gap": null,
            "grid_row": null,
            "grid_template_areas": null,
            "grid_template_columns": null,
            "grid_template_rows": null,
            "height": null,
            "justify_content": null,
            "justify_items": null,
            "left": null,
            "margin": null,
            "max_height": null,
            "max_width": null,
            "min_height": null,
            "min_width": null,
            "object_fit": null,
            "object_position": null,
            "order": null,
            "overflow": null,
            "overflow_x": null,
            "overflow_y": null,
            "padding": null,
            "right": null,
            "top": null,
            "visibility": null,
            "width": null
          }
        },
        "0c8d24809fd64785944919bc1af7f97a": {
          "model_module": "@jupyter-widgets/base",
          "model_name": "LayoutModel",
          "model_module_version": "1.2.0",
          "state": {
            "_model_module": "@jupyter-widgets/base",
            "_model_module_version": "1.2.0",
            "_model_name": "LayoutModel",
            "_view_count": null,
            "_view_module": "@jupyter-widgets/base",
            "_view_module_version": "1.2.0",
            "_view_name": "LayoutView",
            "align_content": null,
            "align_items": null,
            "align_self": null,
            "border": null,
            "bottom": null,
            "display": null,
            "flex": null,
            "flex_flow": null,
            "grid_area": null,
            "grid_auto_columns": null,
            "grid_auto_flow": null,
            "grid_auto_rows": null,
            "grid_column": null,
            "grid_gap": null,
            "grid_row": null,
            "grid_template_areas": null,
            "grid_template_columns": null,
            "grid_template_rows": null,
            "height": null,
            "justify_content": null,
            "justify_items": null,
            "left": null,
            "margin": null,
            "max_height": null,
            "max_width": null,
            "min_height": null,
            "min_width": null,
            "object_fit": null,
            "object_position": null,
            "order": null,
            "overflow": null,
            "overflow_x": null,
            "overflow_y": null,
            "padding": null,
            "right": null,
            "top": null,
            "visibility": null,
            "width": null
          }
        },
        "89bf48c39d844825b0315b2b13da0161": {
          "model_module": "@jupyter-widgets/controls",
          "model_name": "DescriptionStyleModel",
          "model_module_version": "1.5.0",
          "state": {
            "_model_module": "@jupyter-widgets/controls",
            "_model_module_version": "1.5.0",
            "_model_name": "DescriptionStyleModel",
            "_view_count": null,
            "_view_module": "@jupyter-widgets/base",
            "_view_module_version": "1.2.0",
            "_view_name": "StyleView",
            "description_width": ""
          }
        },
        "79a081ed804f42c3927a19068fdfdc8b": {
          "model_module": "@jupyter-widgets/base",
          "model_name": "LayoutModel",
          "model_module_version": "1.2.0",
          "state": {
            "_model_module": "@jupyter-widgets/base",
            "_model_module_version": "1.2.0",
            "_model_name": "LayoutModel",
            "_view_count": null,
            "_view_module": "@jupyter-widgets/base",
            "_view_module_version": "1.2.0",
            "_view_name": "LayoutView",
            "align_content": null,
            "align_items": null,
            "align_self": null,
            "border": null,
            "bottom": null,
            "display": null,
            "flex": null,
            "flex_flow": null,
            "grid_area": null,
            "grid_auto_columns": null,
            "grid_auto_flow": null,
            "grid_auto_rows": null,
            "grid_column": null,
            "grid_gap": null,
            "grid_row": null,
            "grid_template_areas": null,
            "grid_template_columns": null,
            "grid_template_rows": null,
            "height": null,
            "justify_content": null,
            "justify_items": null,
            "left": null,
            "margin": null,
            "max_height": null,
            "max_width": null,
            "min_height": null,
            "min_width": null,
            "object_fit": null,
            "object_position": null,
            "order": null,
            "overflow": null,
            "overflow_x": null,
            "overflow_y": null,
            "padding": null,
            "right": null,
            "top": null,
            "visibility": null,
            "width": null
          }
        },
        "ebbc917fb2674df7af52592b08d7789d": {
          "model_module": "@jupyter-widgets/controls",
          "model_name": "ProgressStyleModel",
          "model_module_version": "1.5.0",
          "state": {
            "_model_module": "@jupyter-widgets/controls",
            "_model_module_version": "1.5.0",
            "_model_name": "ProgressStyleModel",
            "_view_count": null,
            "_view_module": "@jupyter-widgets/base",
            "_view_module_version": "1.2.0",
            "_view_name": "StyleView",
            "bar_color": null,
            "description_width": ""
          }
        },
        "387e9098b62e4c25b8546a603d57e5ea": {
          "model_module": "@jupyter-widgets/base",
          "model_name": "LayoutModel",
          "model_module_version": "1.2.0",
          "state": {
            "_model_module": "@jupyter-widgets/base",
            "_model_module_version": "1.2.0",
            "_model_name": "LayoutModel",
            "_view_count": null,
            "_view_module": "@jupyter-widgets/base",
            "_view_module_version": "1.2.0",
            "_view_name": "LayoutView",
            "align_content": null,
            "align_items": null,
            "align_self": null,
            "border": null,
            "bottom": null,
            "display": null,
            "flex": null,
            "flex_flow": null,
            "grid_area": null,
            "grid_auto_columns": null,
            "grid_auto_flow": null,
            "grid_auto_rows": null,
            "grid_column": null,
            "grid_gap": null,
            "grid_row": null,
            "grid_template_areas": null,
            "grid_template_columns": null,
            "grid_template_rows": null,
            "height": null,
            "justify_content": null,
            "justify_items": null,
            "left": null,
            "margin": null,
            "max_height": null,
            "max_width": null,
            "min_height": null,
            "min_width": null,
            "object_fit": null,
            "object_position": null,
            "order": null,
            "overflow": null,
            "overflow_x": null,
            "overflow_y": null,
            "padding": null,
            "right": null,
            "top": null,
            "visibility": null,
            "width": null
          }
        },
        "a3711e5b2f4645ec8ee3a6d03f4273ac": {
          "model_module": "@jupyter-widgets/controls",
          "model_name": "DescriptionStyleModel",
          "model_module_version": "1.5.0",
          "state": {
            "_model_module": "@jupyter-widgets/controls",
            "_model_module_version": "1.5.0",
            "_model_name": "DescriptionStyleModel",
            "_view_count": null,
            "_view_module": "@jupyter-widgets/base",
            "_view_module_version": "1.2.0",
            "_view_name": "StyleView",
            "description_width": ""
          }
        },
        "13cb4b89384d4f089c02c59772de791c": {
          "model_module": "@jupyter-widgets/controls",
          "model_name": "HBoxModel",
          "model_module_version": "1.5.0",
          "state": {
            "_dom_classes": [],
            "_model_module": "@jupyter-widgets/controls",
            "_model_module_version": "1.5.0",
            "_model_name": "HBoxModel",
            "_view_count": null,
            "_view_module": "@jupyter-widgets/controls",
            "_view_module_version": "1.5.0",
            "_view_name": "HBoxView",
            "box_style": "",
            "children": [
              "IPY_MODEL_84a39c4b70ec4e83b4d5363f7fd1bfa8",
              "IPY_MODEL_3c27e9dae5a942bc8ba5ceb1f468432b",
              "IPY_MODEL_84bc1232cc384d67a4dfb97e0cf2b99b"
            ],
            "layout": "IPY_MODEL_34c6164030354261904ecaa258fbaaae"
          }
        },
        "84a39c4b70ec4e83b4d5363f7fd1bfa8": {
          "model_module": "@jupyter-widgets/controls",
          "model_name": "HTMLModel",
          "model_module_version": "1.5.0",
          "state": {
            "_dom_classes": [],
            "_model_module": "@jupyter-widgets/controls",
            "_model_module_version": "1.5.0",
            "_model_name": "HTMLModel",
            "_view_count": null,
            "_view_module": "@jupyter-widgets/controls",
            "_view_module_version": "1.5.0",
            "_view_name": "HTMLView",
            "description": "",
            "description_tooltip": null,
            "layout": "IPY_MODEL_b5653cdc652b4336aecb5d2094faaaf6",
            "placeholder": "​",
            "style": "IPY_MODEL_50b1e6caf3e940e1b8ddc706bd0276ab",
            "value": "Downloading (…)/main/tokenizer.json: 100%"
          }
        },
        "3c27e9dae5a942bc8ba5ceb1f468432b": {
          "model_module": "@jupyter-widgets/controls",
          "model_name": "FloatProgressModel",
          "model_module_version": "1.5.0",
          "state": {
            "_dom_classes": [],
            "_model_module": "@jupyter-widgets/controls",
            "_model_module_version": "1.5.0",
            "_model_name": "FloatProgressModel",
            "_view_count": null,
            "_view_module": "@jupyter-widgets/controls",
            "_view_module_version": "1.5.0",
            "_view_name": "ProgressView",
            "bar_style": "success",
            "description": "",
            "description_tooltip": null,
            "layout": "IPY_MODEL_67457fadcfcf4643ae25539ddc12bda8",
            "max": 466062,
            "min": 0,
            "orientation": "horizontal",
            "style": "IPY_MODEL_ab0588d9134e4410a46daeec2d0c6d4f",
            "value": 466062
          }
        },
        "84bc1232cc384d67a4dfb97e0cf2b99b": {
          "model_module": "@jupyter-widgets/controls",
          "model_name": "HTMLModel",
          "model_module_version": "1.5.0",
          "state": {
            "_dom_classes": [],
            "_model_module": "@jupyter-widgets/controls",
            "_model_module_version": "1.5.0",
            "_model_name": "HTMLModel",
            "_view_count": null,
            "_view_module": "@jupyter-widgets/controls",
            "_view_module_version": "1.5.0",
            "_view_name": "HTMLView",
            "description": "",
            "description_tooltip": null,
            "layout": "IPY_MODEL_ddc1d861001a4890b47d1f4c8accd1b1",
            "placeholder": "​",
            "style": "IPY_MODEL_79a666105c944f0db92cc9cb5c0809bb",
            "value": " 466k/466k [00:00&lt;00:00, 10.4MB/s]"
          }
        },
        "34c6164030354261904ecaa258fbaaae": {
          "model_module": "@jupyter-widgets/base",
          "model_name": "LayoutModel",
          "model_module_version": "1.2.0",
          "state": {
            "_model_module": "@jupyter-widgets/base",
            "_model_module_version": "1.2.0",
            "_model_name": "LayoutModel",
            "_view_count": null,
            "_view_module": "@jupyter-widgets/base",
            "_view_module_version": "1.2.0",
            "_view_name": "LayoutView",
            "align_content": null,
            "align_items": null,
            "align_self": null,
            "border": null,
            "bottom": null,
            "display": null,
            "flex": null,
            "flex_flow": null,
            "grid_area": null,
            "grid_auto_columns": null,
            "grid_auto_flow": null,
            "grid_auto_rows": null,
            "grid_column": null,
            "grid_gap": null,
            "grid_row": null,
            "grid_template_areas": null,
            "grid_template_columns": null,
            "grid_template_rows": null,
            "height": null,
            "justify_content": null,
            "justify_items": null,
            "left": null,
            "margin": null,
            "max_height": null,
            "max_width": null,
            "min_height": null,
            "min_width": null,
            "object_fit": null,
            "object_position": null,
            "order": null,
            "overflow": null,
            "overflow_x": null,
            "overflow_y": null,
            "padding": null,
            "right": null,
            "top": null,
            "visibility": null,
            "width": null
          }
        },
        "b5653cdc652b4336aecb5d2094faaaf6": {
          "model_module": "@jupyter-widgets/base",
          "model_name": "LayoutModel",
          "model_module_version": "1.2.0",
          "state": {
            "_model_module": "@jupyter-widgets/base",
            "_model_module_version": "1.2.0",
            "_model_name": "LayoutModel",
            "_view_count": null,
            "_view_module": "@jupyter-widgets/base",
            "_view_module_version": "1.2.0",
            "_view_name": "LayoutView",
            "align_content": null,
            "align_items": null,
            "align_self": null,
            "border": null,
            "bottom": null,
            "display": null,
            "flex": null,
            "flex_flow": null,
            "grid_area": null,
            "grid_auto_columns": null,
            "grid_auto_flow": null,
            "grid_auto_rows": null,
            "grid_column": null,
            "grid_gap": null,
            "grid_row": null,
            "grid_template_areas": null,
            "grid_template_columns": null,
            "grid_template_rows": null,
            "height": null,
            "justify_content": null,
            "justify_items": null,
            "left": null,
            "margin": null,
            "max_height": null,
            "max_width": null,
            "min_height": null,
            "min_width": null,
            "object_fit": null,
            "object_position": null,
            "order": null,
            "overflow": null,
            "overflow_x": null,
            "overflow_y": null,
            "padding": null,
            "right": null,
            "top": null,
            "visibility": null,
            "width": null
          }
        },
        "50b1e6caf3e940e1b8ddc706bd0276ab": {
          "model_module": "@jupyter-widgets/controls",
          "model_name": "DescriptionStyleModel",
          "model_module_version": "1.5.0",
          "state": {
            "_model_module": "@jupyter-widgets/controls",
            "_model_module_version": "1.5.0",
            "_model_name": "DescriptionStyleModel",
            "_view_count": null,
            "_view_module": "@jupyter-widgets/base",
            "_view_module_version": "1.2.0",
            "_view_name": "StyleView",
            "description_width": ""
          }
        },
        "67457fadcfcf4643ae25539ddc12bda8": {
          "model_module": "@jupyter-widgets/base",
          "model_name": "LayoutModel",
          "model_module_version": "1.2.0",
          "state": {
            "_model_module": "@jupyter-widgets/base",
            "_model_module_version": "1.2.0",
            "_model_name": "LayoutModel",
            "_view_count": null,
            "_view_module": "@jupyter-widgets/base",
            "_view_module_version": "1.2.0",
            "_view_name": "LayoutView",
            "align_content": null,
            "align_items": null,
            "align_self": null,
            "border": null,
            "bottom": null,
            "display": null,
            "flex": null,
            "flex_flow": null,
            "grid_area": null,
            "grid_auto_columns": null,
            "grid_auto_flow": null,
            "grid_auto_rows": null,
            "grid_column": null,
            "grid_gap": null,
            "grid_row": null,
            "grid_template_areas": null,
            "grid_template_columns": null,
            "grid_template_rows": null,
            "height": null,
            "justify_content": null,
            "justify_items": null,
            "left": null,
            "margin": null,
            "max_height": null,
            "max_width": null,
            "min_height": null,
            "min_width": null,
            "object_fit": null,
            "object_position": null,
            "order": null,
            "overflow": null,
            "overflow_x": null,
            "overflow_y": null,
            "padding": null,
            "right": null,
            "top": null,
            "visibility": null,
            "width": null
          }
        },
        "ab0588d9134e4410a46daeec2d0c6d4f": {
          "model_module": "@jupyter-widgets/controls",
          "model_name": "ProgressStyleModel",
          "model_module_version": "1.5.0",
          "state": {
            "_model_module": "@jupyter-widgets/controls",
            "_model_module_version": "1.5.0",
            "_model_name": "ProgressStyleModel",
            "_view_count": null,
            "_view_module": "@jupyter-widgets/base",
            "_view_module_version": "1.2.0",
            "_view_name": "StyleView",
            "bar_color": null,
            "description_width": ""
          }
        },
        "ddc1d861001a4890b47d1f4c8accd1b1": {
          "model_module": "@jupyter-widgets/base",
          "model_name": "LayoutModel",
          "model_module_version": "1.2.0",
          "state": {
            "_model_module": "@jupyter-widgets/base",
            "_model_module_version": "1.2.0",
            "_model_name": "LayoutModel",
            "_view_count": null,
            "_view_module": "@jupyter-widgets/base",
            "_view_module_version": "1.2.0",
            "_view_name": "LayoutView",
            "align_content": null,
            "align_items": null,
            "align_self": null,
            "border": null,
            "bottom": null,
            "display": null,
            "flex": null,
            "flex_flow": null,
            "grid_area": null,
            "grid_auto_columns": null,
            "grid_auto_flow": null,
            "grid_auto_rows": null,
            "grid_column": null,
            "grid_gap": null,
            "grid_row": null,
            "grid_template_areas": null,
            "grid_template_columns": null,
            "grid_template_rows": null,
            "height": null,
            "justify_content": null,
            "justify_items": null,
            "left": null,
            "margin": null,
            "max_height": null,
            "max_width": null,
            "min_height": null,
            "min_width": null,
            "object_fit": null,
            "object_position": null,
            "order": null,
            "overflow": null,
            "overflow_x": null,
            "overflow_y": null,
            "padding": null,
            "right": null,
            "top": null,
            "visibility": null,
            "width": null
          }
        },
        "79a666105c944f0db92cc9cb5c0809bb": {
          "model_module": "@jupyter-widgets/controls",
          "model_name": "DescriptionStyleModel",
          "model_module_version": "1.5.0",
          "state": {
            "_model_module": "@jupyter-widgets/controls",
            "_model_module_version": "1.5.0",
            "_model_name": "DescriptionStyleModel",
            "_view_count": null,
            "_view_module": "@jupyter-widgets/base",
            "_view_module_version": "1.2.0",
            "_view_name": "StyleView",
            "description_width": ""
          }
        },
        "4234be8c57dd4a78a95cb27886a38d8f": {
          "model_module": "@jupyter-widgets/controls",
          "model_name": "HBoxModel",
          "model_module_version": "1.5.0",
          "state": {
            "_dom_classes": [],
            "_model_module": "@jupyter-widgets/controls",
            "_model_module_version": "1.5.0",
            "_model_name": "HBoxModel",
            "_view_count": null,
            "_view_module": "@jupyter-widgets/controls",
            "_view_module_version": "1.5.0",
            "_view_name": "HBoxView",
            "box_style": "",
            "children": [
              "IPY_MODEL_8e73ceb10218468aa4dc83a8873d51a2",
              "IPY_MODEL_8590acac3628477ea4a70556c146c984",
              "IPY_MODEL_0886adec1c6c4db1aea5c10c375c2a8f"
            ],
            "layout": "IPY_MODEL_7ed8576b19614ec8a2148cb0373652b3"
          }
        },
        "8e73ceb10218468aa4dc83a8873d51a2": {
          "model_module": "@jupyter-widgets/controls",
          "model_name": "HTMLModel",
          "model_module_version": "1.5.0",
          "state": {
            "_dom_classes": [],
            "_model_module": "@jupyter-widgets/controls",
            "_model_module_version": "1.5.0",
            "_model_name": "HTMLModel",
            "_view_count": null,
            "_view_module": "@jupyter-widgets/controls",
            "_view_module_version": "1.5.0",
            "_view_name": "HTMLView",
            "description": "",
            "description_tooltip": null,
            "layout": "IPY_MODEL_8b272870a5fd4534bf98b993ca3f3ee0",
            "placeholder": "​",
            "style": "IPY_MODEL_cc4bddf32dd647b6a231700760e2d397",
            "value": "Downloading pytorch_model.bin: 100%"
          }
        },
        "8590acac3628477ea4a70556c146c984": {
          "model_module": "@jupyter-widgets/controls",
          "model_name": "FloatProgressModel",
          "model_module_version": "1.5.0",
          "state": {
            "_dom_classes": [],
            "_model_module": "@jupyter-widgets/controls",
            "_model_module_version": "1.5.0",
            "_model_name": "FloatProgressModel",
            "_view_count": null,
            "_view_module": "@jupyter-widgets/controls",
            "_view_module_version": "1.5.0",
            "_view_name": "ProgressView",
            "bar_style": "success",
            "description": "",
            "description_tooltip": null,
            "layout": "IPY_MODEL_706783c679914d9eb9274af4884392ff",
            "max": 440473133,
            "min": 0,
            "orientation": "horizontal",
            "style": "IPY_MODEL_85ce66fb0ee546f5bc0e13290775e2bf",
            "value": 440473133
          }
        },
        "0886adec1c6c4db1aea5c10c375c2a8f": {
          "model_module": "@jupyter-widgets/controls",
          "model_name": "HTMLModel",
          "model_module_version": "1.5.0",
          "state": {
            "_dom_classes": [],
            "_model_module": "@jupyter-widgets/controls",
            "_model_module_version": "1.5.0",
            "_model_name": "HTMLModel",
            "_view_count": null,
            "_view_module": "@jupyter-widgets/controls",
            "_view_module_version": "1.5.0",
            "_view_name": "HTMLView",
            "description": "",
            "description_tooltip": null,
            "layout": "IPY_MODEL_01fd7fe9e4da40b1830ada28086fa716",
            "placeholder": "​",
            "style": "IPY_MODEL_b174388490b5439499b19e185d997dd2",
            "value": " 440M/440M [00:02&lt;00:00, 165MB/s]"
          }
        },
        "7ed8576b19614ec8a2148cb0373652b3": {
          "model_module": "@jupyter-widgets/base",
          "model_name": "LayoutModel",
          "model_module_version": "1.2.0",
          "state": {
            "_model_module": "@jupyter-widgets/base",
            "_model_module_version": "1.2.0",
            "_model_name": "LayoutModel",
            "_view_count": null,
            "_view_module": "@jupyter-widgets/base",
            "_view_module_version": "1.2.0",
            "_view_name": "LayoutView",
            "align_content": null,
            "align_items": null,
            "align_self": null,
            "border": null,
            "bottom": null,
            "display": null,
            "flex": null,
            "flex_flow": null,
            "grid_area": null,
            "grid_auto_columns": null,
            "grid_auto_flow": null,
            "grid_auto_rows": null,
            "grid_column": null,
            "grid_gap": null,
            "grid_row": null,
            "grid_template_areas": null,
            "grid_template_columns": null,
            "grid_template_rows": null,
            "height": null,
            "justify_content": null,
            "justify_items": null,
            "left": null,
            "margin": null,
            "max_height": null,
            "max_width": null,
            "min_height": null,
            "min_width": null,
            "object_fit": null,
            "object_position": null,
            "order": null,
            "overflow": null,
            "overflow_x": null,
            "overflow_y": null,
            "padding": null,
            "right": null,
            "top": null,
            "visibility": null,
            "width": null
          }
        },
        "8b272870a5fd4534bf98b993ca3f3ee0": {
          "model_module": "@jupyter-widgets/base",
          "model_name": "LayoutModel",
          "model_module_version": "1.2.0",
          "state": {
            "_model_module": "@jupyter-widgets/base",
            "_model_module_version": "1.2.0",
            "_model_name": "LayoutModel",
            "_view_count": null,
            "_view_module": "@jupyter-widgets/base",
            "_view_module_version": "1.2.0",
            "_view_name": "LayoutView",
            "align_content": null,
            "align_items": null,
            "align_self": null,
            "border": null,
            "bottom": null,
            "display": null,
            "flex": null,
            "flex_flow": null,
            "grid_area": null,
            "grid_auto_columns": null,
            "grid_auto_flow": null,
            "grid_auto_rows": null,
            "grid_column": null,
            "grid_gap": null,
            "grid_row": null,
            "grid_template_areas": null,
            "grid_template_columns": null,
            "grid_template_rows": null,
            "height": null,
            "justify_content": null,
            "justify_items": null,
            "left": null,
            "margin": null,
            "max_height": null,
            "max_width": null,
            "min_height": null,
            "min_width": null,
            "object_fit": null,
            "object_position": null,
            "order": null,
            "overflow": null,
            "overflow_x": null,
            "overflow_y": null,
            "padding": null,
            "right": null,
            "top": null,
            "visibility": null,
            "width": null
          }
        },
        "cc4bddf32dd647b6a231700760e2d397": {
          "model_module": "@jupyter-widgets/controls",
          "model_name": "DescriptionStyleModel",
          "model_module_version": "1.5.0",
          "state": {
            "_model_module": "@jupyter-widgets/controls",
            "_model_module_version": "1.5.0",
            "_model_name": "DescriptionStyleModel",
            "_view_count": null,
            "_view_module": "@jupyter-widgets/base",
            "_view_module_version": "1.2.0",
            "_view_name": "StyleView",
            "description_width": ""
          }
        },
        "706783c679914d9eb9274af4884392ff": {
          "model_module": "@jupyter-widgets/base",
          "model_name": "LayoutModel",
          "model_module_version": "1.2.0",
          "state": {
            "_model_module": "@jupyter-widgets/base",
            "_model_module_version": "1.2.0",
            "_model_name": "LayoutModel",
            "_view_count": null,
            "_view_module": "@jupyter-widgets/base",
            "_view_module_version": "1.2.0",
            "_view_name": "LayoutView",
            "align_content": null,
            "align_items": null,
            "align_self": null,
            "border": null,
            "bottom": null,
            "display": null,
            "flex": null,
            "flex_flow": null,
            "grid_area": null,
            "grid_auto_columns": null,
            "grid_auto_flow": null,
            "grid_auto_rows": null,
            "grid_column": null,
            "grid_gap": null,
            "grid_row": null,
            "grid_template_areas": null,
            "grid_template_columns": null,
            "grid_template_rows": null,
            "height": null,
            "justify_content": null,
            "justify_items": null,
            "left": null,
            "margin": null,
            "max_height": null,
            "max_width": null,
            "min_height": null,
            "min_width": null,
            "object_fit": null,
            "object_position": null,
            "order": null,
            "overflow": null,
            "overflow_x": null,
            "overflow_y": null,
            "padding": null,
            "right": null,
            "top": null,
            "visibility": null,
            "width": null
          }
        },
        "85ce66fb0ee546f5bc0e13290775e2bf": {
          "model_module": "@jupyter-widgets/controls",
          "model_name": "ProgressStyleModel",
          "model_module_version": "1.5.0",
          "state": {
            "_model_module": "@jupyter-widgets/controls",
            "_model_module_version": "1.5.0",
            "_model_name": "ProgressStyleModel",
            "_view_count": null,
            "_view_module": "@jupyter-widgets/base",
            "_view_module_version": "1.2.0",
            "_view_name": "StyleView",
            "bar_color": null,
            "description_width": ""
          }
        },
        "01fd7fe9e4da40b1830ada28086fa716": {
          "model_module": "@jupyter-widgets/base",
          "model_name": "LayoutModel",
          "model_module_version": "1.2.0",
          "state": {
            "_model_module": "@jupyter-widgets/base",
            "_model_module_version": "1.2.0",
            "_model_name": "LayoutModel",
            "_view_count": null,
            "_view_module": "@jupyter-widgets/base",
            "_view_module_version": "1.2.0",
            "_view_name": "LayoutView",
            "align_content": null,
            "align_items": null,
            "align_self": null,
            "border": null,
            "bottom": null,
            "display": null,
            "flex": null,
            "flex_flow": null,
            "grid_area": null,
            "grid_auto_columns": null,
            "grid_auto_flow": null,
            "grid_auto_rows": null,
            "grid_column": null,
            "grid_gap": null,
            "grid_row": null,
            "grid_template_areas": null,
            "grid_template_columns": null,
            "grid_template_rows": null,
            "height": null,
            "justify_content": null,
            "justify_items": null,
            "left": null,
            "margin": null,
            "max_height": null,
            "max_width": null,
            "min_height": null,
            "min_width": null,
            "object_fit": null,
            "object_position": null,
            "order": null,
            "overflow": null,
            "overflow_x": null,
            "overflow_y": null,
            "padding": null,
            "right": null,
            "top": null,
            "visibility": null,
            "width": null
          }
        },
        "b174388490b5439499b19e185d997dd2": {
          "model_module": "@jupyter-widgets/controls",
          "model_name": "DescriptionStyleModel",
          "model_module_version": "1.5.0",
          "state": {
            "_model_module": "@jupyter-widgets/controls",
            "_model_module_version": "1.5.0",
            "_model_name": "DescriptionStyleModel",
            "_view_count": null,
            "_view_module": "@jupyter-widgets/base",
            "_view_module_version": "1.2.0",
            "_view_name": "StyleView",
            "description_width": ""
          }
        }
      }
    }
  },
  "nbformat": 4,
  "nbformat_minor": 0
}