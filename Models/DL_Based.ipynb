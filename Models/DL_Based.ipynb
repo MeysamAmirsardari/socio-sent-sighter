{
 "nbformat": 4,
 "nbformat_minor": 0,
 "metadata": {
  "colab": {
   "provenance": []
  },
  "kernelspec": {
   "name": "python3",
   "display_name": "Python 3"
  },
  "accelerator": "GPU",
  "gpuClass": "standard"
 },
 "cells": [
  {
   "cell_type": "markdown",
   "metadata": {
    "id": "QthdEc8Cp5Nt"
   },
   "source": [
    "# Requirements"
   ]
  },
  {
   "cell_type": "code",
   "metadata": {
    "id": "YYUgxQ8TQ0RM",
    "colab": {
     "base_uri": "https://localhost:8080/"
    },
    "outputId": "161677e0-8191-4f20-92fe-df86932de465"
   },
   "source": [
    "!pip install matplotlib==3.1.0"
   ],
   "execution_count": 1,
   "outputs": [
    {
     "output_type": "stream",
     "name": "stdout",
     "text": [
      "Looking in indexes: https://pypi.org/simple, https://us-python.pkg.dev/colab-wheels/public/simple/\n",
      "Requirement already satisfied: matplotlib==3.1.0 in /usr/local/lib/python3.8/dist-packages (3.1.0)\n",
      "Requirement already satisfied: python-dateutil>=2.1 in /usr/local/lib/python3.8/dist-packages (from matplotlib==3.1.0) (2.8.2)\n",
      "Requirement already satisfied: numpy>=1.11 in /usr/local/lib/python3.8/dist-packages (from matplotlib==3.1.0) (1.21.6)\n",
      "Requirement already satisfied: pyparsing!=2.0.4,!=2.1.2,!=2.1.6,>=2.0.1 in /usr/local/lib/python3.8/dist-packages (from matplotlib==3.1.0) (3.0.9)\n",
      "Requirement already satisfied: kiwisolver>=1.0.1 in /usr/local/lib/python3.8/dist-packages (from matplotlib==3.1.0) (1.4.4)\n",
      "Requirement already satisfied: cycler>=0.10 in /usr/local/lib/python3.8/dist-packages (from matplotlib==3.1.0) (0.11.0)\n",
      "Requirement already satisfied: six>=1.5 in /usr/local/lib/python3.8/dist-packages (from python-dateutil>=2.1->matplotlib==3.1.0) (1.15.0)\n"
     ]
    }
   ]
  },
  {
   "cell_type": "code",
   "metadata": {
    "id": "0yHgWvqWBAqS",
    "outputId": "8d4c2434-8ac5-4989-d397-1f891bacd39a",
    "colab": {
     "base_uri": "https://localhost:8080/"
    }
   },
   "source": [
    "!pip install hazm\n",
    "!pip install stopwords_guilannlp"
   ],
   "execution_count": 2,
   "outputs": [
    {
     "output_type": "stream",
     "name": "stdout",
     "text": [
      "Looking in indexes: https://pypi.org/simple, https://us-python.pkg.dev/colab-wheels/public/simple/\n",
      "Collecting hazm\n",
      "  Downloading hazm-0.7.0-py3-none-any.whl (316 kB)\n",
      "\u001B[K     |████████████████████████████████| 316 kB 16.6 MB/s \n",
      "\u001B[?25hCollecting nltk==3.3\n",
      "  Downloading nltk-3.3.0.zip (1.4 MB)\n",
      "\u001B[K     |████████████████████████████████| 1.4 MB 54.3 MB/s \n",
      "\u001B[?25hCollecting libwapiti>=0.2.1\n",
      "  Downloading libwapiti-0.2.1.tar.gz (233 kB)\n",
      "\u001B[K     |████████████████████████████████| 233 kB 36.5 MB/s \n",
      "\u001B[?25hRequirement already satisfied: six in /usr/local/lib/python3.8/dist-packages (from nltk==3.3->hazm) (1.15.0)\n",
      "Building wheels for collected packages: nltk, libwapiti\n",
      "  Building wheel for nltk (setup.py) ... \u001B[?25l\u001B[?25hdone\n",
      "  Created wheel for nltk: filename=nltk-3.3-py3-none-any.whl size=1394486 sha256=a265031f2b1f9e5c1fb743f8b606ebf88858c210cb741ebfaef12335cd16c922\n",
      "  Stored in directory: /root/.cache/pip/wheels/19/1d/3a/0a8c14c30132b4f9ffd796efbb6746f15b3d6bcfc1055a9346\n",
      "  Building wheel for libwapiti (setup.py) ... \u001B[?25l\u001B[?25hdone\n",
      "  Created wheel for libwapiti: filename=libwapiti-0.2.1-cp38-cp38-linux_x86_64.whl size=154929 sha256=e3f1b7d2522d7672ce3df8f0936603fad6ca6c81f71e7876d2e35474b918c06d\n",
      "  Stored in directory: /root/.cache/pip/wheels/3c/d8/9f/59fd78b2b7d1e9ffcb68fb6de80c2e7c20b804c8cbc4d8fc23\n",
      "Successfully built nltk libwapiti\n",
      "Installing collected packages: nltk, libwapiti, hazm\n",
      "  Attempting uninstall: nltk\n",
      "    Found existing installation: nltk 3.7\n",
      "    Uninstalling nltk-3.7:\n",
      "      Successfully uninstalled nltk-3.7\n",
      "Successfully installed hazm-0.7.0 libwapiti-0.2.1 nltk-3.3\n",
      "Looking in indexes: https://pypi.org/simple, https://us-python.pkg.dev/colab-wheels/public/simple/\n",
      "Collecting stopwords_guilannlp\n",
      "  Downloading stopwords_guilannlp-13.2019.3.5-py3-none-any.whl (8.2 kB)\n",
      "Installing collected packages: stopwords-guilannlp\n",
      "Successfully installed stopwords-guilannlp-13.2019.3.5\n"
     ]
    }
   ]
  },
  {
   "cell_type": "code",
   "source": [
    "from google.colab import drive\n",
    "drive.mount('/content/drive')"
   ],
   "metadata": {
    "colab": {
     "base_uri": "https://localhost:8080/"
    },
    "id": "YtTBQFCBr5-y",
    "outputId": "69221d37-5e3a-4c41-b7aa-50008394207e"
   },
   "execution_count": 80,
   "outputs": [
    {
     "output_type": "stream",
     "name": "stdout",
     "text": [
      "Mounted at /content/drive\n"
     ]
    }
   ]
  },
  {
   "cell_type": "markdown",
   "metadata": {
    "id": "CcZrLDljhnub"
   },
   "source": [
    "## Get FastText"
   ]
  },
  {
   "cell_type": "markdown",
   "metadata": {
    "id": "nki6x2MGbEF-"
   },
   "source": [
    "Download FastText word vectors file for Persian\n",
    "\n",
    "(The list of all model vector files are available [here](https://fasttext.cc/docs/en/pretrained-vectors.html))"
   ]
  },
  {
   "cell_type": "code",
   "metadata": {
    "id": "4wCOcr1ao1VX",
    "outputId": "cc7bbb83-c387-4e11-e10d-f2a84a2887f2",
    "colab": {
     "base_uri": "https://localhost:8080/"
    }
   },
   "source": [
    "!wget https://dl.fbaipublicfiles.com/fasttext/vectors-wiki/wiki.fa.vec"
   ],
   "execution_count": 3,
   "outputs": [
    {
     "output_type": "stream",
     "name": "stdout",
     "text": [
      "--2022-12-27 20:46:48--  https://dl.fbaipublicfiles.com/fasttext/vectors-wiki/wiki.fa.vec\n",
      "Resolving dl.fbaipublicfiles.com (dl.fbaipublicfiles.com)... 172.67.9.4, 104.22.75.142, 104.22.74.142, ...\n",
      "Connecting to dl.fbaipublicfiles.com (dl.fbaipublicfiles.com)|172.67.9.4|:443... connected.\n",
      "HTTP request sent, awaiting response... 200 OK\n",
      "Length: 1105157170 (1.0G) [binary/octet-stream]\n",
      "Saving to: ‘wiki.fa.vec’\n",
      "\n",
      "wiki.fa.vec         100%[===================>]   1.03G  17.1MB/s    in 65s     \n",
      "\n",
      "2022-12-27 20:47:53 (16.3 MB/s) - ‘wiki.fa.vec’ saved [1105157170/1105157170]\n",
      "\n"
     ]
    }
   ]
  },
  {
   "cell_type": "code",
   "metadata": {
    "id": "DyJ0hqR8nku1"
   },
   "source": [
    "import numpy as np\n",
    "import pandas as pd\n",
    "import codecs\n",
    "from google.colab import files\n",
    "\n",
    "from gensim.models import KeyedVectors\n",
    "import gensim\n",
    "\n",
    "from keras import optimizers\n",
    "from keras.models import Model, Sequential\n",
    "from keras.layers import Dense, Input, Embedding, Dropout\n",
    "from keras.layers import GlobalMaxPool1D, MaxPooling1D, GlobalMaxPooling1D\n",
    "from keras.layers import CuDNNLSTM, LSTM, Bidirectional\n",
    "from keras.layers.convolutional import Conv1D\n",
    "from keras.utils.np_utils import to_categorical\n",
    "from keras.metrics import categorical_accuracy\n",
    "from keras.utils import plot_model\n",
    "from keras.preprocessing.text import Tokenizer\n",
    "from keras_preprocessing.sequence import pad_sequences\n",
    "\n",
    "from stopwords_guilannlp import stopwords_output\n",
    "from hazm import *\n",
    "\n",
    "import matplotlib.pyplot as plt\n",
    "from keras.utils import plot_model\n",
    "\n",
    "from sklearn.metrics import f1_score"
   ],
   "execution_count": 25,
   "outputs": []
  },
  {
   "cell_type": "code",
   "metadata": {
    "id": "VvTYlRzbuwcd",
    "outputId": "1050d381-a07d-41db-92d9-2c333643369d",
    "colab": {
     "base_uri": "https://localhost:8080/",
     "height": 74
    }
   },
   "source": [
    "uploaded = files.upload()"
   ],
   "execution_count": 8,
   "outputs": [
    {
     "output_type": "display_data",
     "data": {
      "text/plain": [
       "<IPython.core.display.HTML object>"
      ],
      "text/html": [
       "\n",
       "     <input type=\"file\" id=\"files-83dfefcd-e9a0-4758-9015-d35697bcc497\" name=\"files[]\" multiple disabled\n",
       "        style=\"border:none\" />\n",
       "     <output id=\"result-83dfefcd-e9a0-4758-9015-d35697bcc497\">\n",
       "      Upload widget is only available when the cell has been executed in the\n",
       "      current browser session. Please rerun this cell to enable.\n",
       "      </output>\n",
       "      <script>// Copyright 2017 Google LLC\n",
       "//\n",
       "// Licensed under the Apache License, Version 2.0 (the \"License\");\n",
       "// you may not use this file except in compliance with the License.\n",
       "// You may obtain a copy of the License at\n",
       "//\n",
       "//      http://www.apache.org/licenses/LICENSE-2.0\n",
       "//\n",
       "// Unless required by applicable law or agreed to in writing, software\n",
       "// distributed under the License is distributed on an \"AS IS\" BASIS,\n",
       "// WITHOUT WARRANTIES OR CONDITIONS OF ANY KIND, either express or implied.\n",
       "// See the License for the specific language governing permissions and\n",
       "// limitations under the License.\n",
       "\n",
       "/**\n",
       " * @fileoverview Helpers for google.colab Python module.\n",
       " */\n",
       "(function(scope) {\n",
       "function span(text, styleAttributes = {}) {\n",
       "  const element = document.createElement('span');\n",
       "  element.textContent = text;\n",
       "  for (const key of Object.keys(styleAttributes)) {\n",
       "    element.style[key] = styleAttributes[key];\n",
       "  }\n",
       "  return element;\n",
       "}\n",
       "\n",
       "// Max number of bytes which will be uploaded at a time.\n",
       "const MAX_PAYLOAD_SIZE = 100 * 1024;\n",
       "\n",
       "function _uploadFiles(inputId, outputId) {\n",
       "  const steps = uploadFilesStep(inputId, outputId);\n",
       "  const outputElement = document.getElementById(outputId);\n",
       "  // Cache steps on the outputElement to make it available for the next call\n",
       "  // to uploadFilesContinue from Python.\n",
       "  outputElement.steps = steps;\n",
       "\n",
       "  return _uploadFilesContinue(outputId);\n",
       "}\n",
       "\n",
       "// This is roughly an async generator (not supported in the browser yet),\n",
       "// where there are multiple asynchronous steps and the Python side is going\n",
       "// to poll for completion of each step.\n",
       "// This uses a Promise to block the python side on completion of each step,\n",
       "// then passes the result of the previous step as the input to the next step.\n",
       "function _uploadFilesContinue(outputId) {\n",
       "  const outputElement = document.getElementById(outputId);\n",
       "  const steps = outputElement.steps;\n",
       "\n",
       "  const next = steps.next(outputElement.lastPromiseValue);\n",
       "  return Promise.resolve(next.value.promise).then((value) => {\n",
       "    // Cache the last promise value to make it available to the next\n",
       "    // step of the generator.\n",
       "    outputElement.lastPromiseValue = value;\n",
       "    return next.value.response;\n",
       "  });\n",
       "}\n",
       "\n",
       "/**\n",
       " * Generator function which is called between each async step of the upload\n",
       " * process.\n",
       " * @param {string} inputId Element ID of the input file picker element.\n",
       " * @param {string} outputId Element ID of the output display.\n",
       " * @return {!Iterable<!Object>} Iterable of next steps.\n",
       " */\n",
       "function* uploadFilesStep(inputId, outputId) {\n",
       "  const inputElement = document.getElementById(inputId);\n",
       "  inputElement.disabled = false;\n",
       "\n",
       "  const outputElement = document.getElementById(outputId);\n",
       "  outputElement.innerHTML = '';\n",
       "\n",
       "  const pickedPromise = new Promise((resolve) => {\n",
       "    inputElement.addEventListener('change', (e) => {\n",
       "      resolve(e.target.files);\n",
       "    });\n",
       "  });\n",
       "\n",
       "  const cancel = document.createElement('button');\n",
       "  inputElement.parentElement.appendChild(cancel);\n",
       "  cancel.textContent = 'Cancel upload';\n",
       "  const cancelPromise = new Promise((resolve) => {\n",
       "    cancel.onclick = () => {\n",
       "      resolve(null);\n",
       "    };\n",
       "  });\n",
       "\n",
       "  // Wait for the user to pick the files.\n",
       "  const files = yield {\n",
       "    promise: Promise.race([pickedPromise, cancelPromise]),\n",
       "    response: {\n",
       "      action: 'starting',\n",
       "    }\n",
       "  };\n",
       "\n",
       "  cancel.remove();\n",
       "\n",
       "  // Disable the input element since further picks are not allowed.\n",
       "  inputElement.disabled = true;\n",
       "\n",
       "  if (!files) {\n",
       "    return {\n",
       "      response: {\n",
       "        action: 'complete',\n",
       "      }\n",
       "    };\n",
       "  }\n",
       "\n",
       "  for (const file of files) {\n",
       "    const li = document.createElement('li');\n",
       "    li.append(span(file.name, {fontWeight: 'bold'}));\n",
       "    li.append(span(\n",
       "        `(${file.type || 'n/a'}) - ${file.size} bytes, ` +\n",
       "        `last modified: ${\n",
       "            file.lastModifiedDate ? file.lastModifiedDate.toLocaleDateString() :\n",
       "                                    'n/a'} - `));\n",
       "    const percent = span('0% done');\n",
       "    li.appendChild(percent);\n",
       "\n",
       "    outputElement.appendChild(li);\n",
       "\n",
       "    const fileDataPromise = new Promise((resolve) => {\n",
       "      const reader = new FileReader();\n",
       "      reader.onload = (e) => {\n",
       "        resolve(e.target.result);\n",
       "      };\n",
       "      reader.readAsArrayBuffer(file);\n",
       "    });\n",
       "    // Wait for the data to be ready.\n",
       "    let fileData = yield {\n",
       "      promise: fileDataPromise,\n",
       "      response: {\n",
       "        action: 'continue',\n",
       "      }\n",
       "    };\n",
       "\n",
       "    // Use a chunked sending to avoid message size limits. See b/62115660.\n",
       "    let position = 0;\n",
       "    do {\n",
       "      const length = Math.min(fileData.byteLength - position, MAX_PAYLOAD_SIZE);\n",
       "      const chunk = new Uint8Array(fileData, position, length);\n",
       "      position += length;\n",
       "\n",
       "      const base64 = btoa(String.fromCharCode.apply(null, chunk));\n",
       "      yield {\n",
       "        response: {\n",
       "          action: 'append',\n",
       "          file: file.name,\n",
       "          data: base64,\n",
       "        },\n",
       "      };\n",
       "\n",
       "      let percentDone = fileData.byteLength === 0 ?\n",
       "          100 :\n",
       "          Math.round((position / fileData.byteLength) * 100);\n",
       "      percent.textContent = `${percentDone}% done`;\n",
       "\n",
       "    } while (position < fileData.byteLength);\n",
       "  }\n",
       "\n",
       "  // All done.\n",
       "  yield {\n",
       "    response: {\n",
       "      action: 'complete',\n",
       "    }\n",
       "  };\n",
       "}\n",
       "\n",
       "scope.google = scope.google || {};\n",
       "scope.google.colab = scope.google.colab || {};\n",
       "scope.google.colab._files = {\n",
       "  _uploadFiles,\n",
       "  _uploadFilesContinue,\n",
       "};\n",
       "})(self);\n",
       "</script> "
      ]
     },
     "metadata": {}
    },
    {
     "output_type": "stream",
     "name": "stdout",
     "text": [
      "Saving df.csv to df.csv\n"
     ]
    }
   ]
  },
  {
   "cell_type": "markdown",
   "metadata": {
    "id": "6FbuK-Gmupe2"
   },
   "source": [
    "\n",
    "# Import & Analyze Dataset"
   ]
  },
  {
   "cell_type": "code",
   "metadata": {
    "id": "nzNz61eOEvE2"
   },
   "source": [
    "df = pd.read_csv('df.csv', index_col=None, header=None, encoding=\"utf-8\")\n",
    "#balanced = pd.read_csv('balanced.csv', index_col=None, header=None, encoding=\"utf-8\")\n",
    "#translation = pd.read_csv('translation.csv', index_col=None, header=None, encoding=\"utf-8\")"
   ],
   "execution_count": 9,
   "outputs": []
  },
  {
   "cell_type": "code",
   "source": [
    "temp = df[[3,1]]\n",
    "temp = temp.drop(temp.index[0])"
   ],
   "metadata": {
    "id": "S1NU803YktNx"
   },
   "execution_count": 10,
   "outputs": []
  },
  {
   "cell_type": "code",
   "metadata": {
    "id": "JFWRuK5VFr8b"
   },
   "source": [
    "temp = temp.sample(frac=1)"
   ],
   "execution_count": 11,
   "outputs": []
  },
  {
   "cell_type": "code",
   "source": [
    "from sklearn.model_selection import train_test_split\n",
    "\n",
    "train, test = train_test_split(temp, test_size=0.1)"
   ],
   "metadata": {
    "id": "Vzo21xm3lsQL"
   },
   "execution_count": 12,
   "outputs": []
  },
  {
   "cell_type": "code",
   "source": [
    "x_test = np.asarray(test[3])\n",
    "y_test = np.asarray(test[1])"
   ],
   "metadata": {
    "id": "PuOzxsfjmSXM"
   },
   "execution_count": 14,
   "outputs": []
  },
  {
   "cell_type": "code",
   "metadata": {
    "id": "1N4yiewpFvrx"
   },
   "source": [
    "train = train.sample(frac=1).reset_index(drop=True)"
   ],
   "execution_count": 15,
   "outputs": []
  },
  {
   "cell_type": "code",
   "metadata": {
    "id": "RXEXLFZoupUr"
   },
   "source": [
    "x_train = train[3]\n",
    "y_train = train[1]"
   ],
   "execution_count": 16,
   "outputs": []
  },
  {
   "cell_type": "code",
   "metadata": {
    "id": "MATiU_eixlin",
    "outputId": "4717cec9-37a0-418c-a06e-638c37cdc57d",
    "colab": {
     "base_uri": "https://localhost:8080/"
    }
   },
   "source": [
    "print('Number of training sentence: ', x_train.shape)\n",
    "print('Number of training label: ', y_train.shape)"
   ],
   "execution_count": 17,
   "outputs": [
    {
     "output_type": "stream",
     "name": "stdout",
     "text": [
      "Number of training sentence:  (8161,)\n",
      "Number of training label:  (8161,)\n"
     ]
    }
   ]
  },
  {
   "cell_type": "code",
   "metadata": {
    "id": "nL5mDIUfzjyG"
   },
   "source": [
    "# Convert dataframes to numpy arrays\n",
    "x_train = np.asarray(x_train)\n",
    "y_train = np.asarray(y_train)"
   ],
   "execution_count": 18,
   "outputs": []
  },
  {
   "cell_type": "code",
   "metadata": {
    "id": "t2oX_KNK4t0p",
    "outputId": "26424297-7dd9-4e65-a29a-ce7c43da98b3",
    "colab": {
     "base_uri": "https://localhost:8080/"
    }
   },
   "source": [
    "# See the data number of sentence in each category \n",
    "from collections import Counter\n",
    "cnt = Counter(y_train)\n",
    "cnt = dict(cnt)\n",
    "print(cnt)"
   ],
   "execution_count": 19,
   "outputs": [
    {
     "output_type": "stream",
     "name": "stdout",
     "text": [
      "{'1': 2720, '0': 2728, '2': 2713}\n"
     ]
    }
   ]
  },
  {
   "cell_type": "code",
   "metadata": {
    "id": "iPDHe3qf3hMC",
    "outputId": "3c905b8e-fff3-48e7-8a94-56014cc899c9",
    "colab": {
     "base_uri": "https://localhost:8080/",
     "height": 300
    }
   },
   "source": [
    "labels = list(cnt.keys())\n",
    "sizes = list(cnt.values())\n",
    "colors = ['#3fba36', '#66b3ff','#ffcc99','#ff9999', '#d44444']\n",
    "fig1, ax1 = plt.subplots()\n",
    "ax1.pie(sizes, labels=labels, colors=colors,\n",
    "        autopct='%1.1f%%', startangle=90)\n",
    "#draw circle\n",
    "centre_circle = plt.Circle((0,0),0.70,fc='white')\n",
    "fig = plt.gcf()\n",
    "fig.gca().add_artist(centre_circle)\n",
    "# Equal aspect ratio ensures that pie is drawn as a circle\n",
    "ax1.axis('equal')  \n",
    "plt.tight_layout()\n",
    "# Decomment following line if you want to save the figure\n",
    "# plt.savefig('distribution.png')\n",
    "plt.show()"
   ],
   "execution_count": 20,
   "outputs": [
    {
     "output_type": "display_data",
     "data": {
      "text/plain": [
       "<Figure size 432x288 with 1 Axes>"
      ],
      "image/png": "[encoded data removed]"
     },
     "metadata": {}
    }
   ]
  },
  {
   "cell_type": "code",
   "metadata": {
    "id": "OBn3mkJKtGgH"
   },
   "source": [
    "# Decomment following line if you want to download dataset figure\n",
    "# files.download('distribution.png')"
   ],
   "execution_count": null,
   "outputs": []
  },
  {
   "cell_type": "markdown",
   "metadata": {
    "id": "2imgOHrg7Pzz"
   },
   "source": [
    "# Preprocess"
   ]
  },
  {
   "cell_type": "code",
   "metadata": {
    "id": "4-XiHjK87VpK"
   },
   "source": [
    "puncs = ['،', '.', ',', ':', ';', '\"']\n",
    "normalizer = Normalizer()\n",
    "lemmatizer = Lemmatizer()\n",
    "\n",
    "# turn a doc into clean tokens\n",
    "def clean_doc(doc):\n",
    "    doc = normalizer.normalize(doc) # Normalize document using Hazm Normalizer\n",
    "    tokenized = word_tokenize(doc)  # Tokenize text\n",
    "    tokens = []\n",
    "    for t in tokenized:\n",
    "      temp = t\n",
    "      for p in puncs:\n",
    "        temp = temp.replace(p, '')\n",
    "      tokens.append(temp)\n",
    "    # tokens = [w for w in tokens if not w in stop_set]    # Remove stop words\n",
    "    tokens = [w for w in tokens if not len(w) <= 1]\n",
    "    tokens = [w for w in tokens if not w.isdigit()]\n",
    "    tokens = [lemmatizer.lemmatize(w) for w in tokens] # Lemmatize sentence words using Hazm Lemmatizer\n",
    "    tokens = ' '.join(tokens)\n",
    "    return tokens"
   ],
   "execution_count": 21,
   "outputs": []
  },
  {
   "cell_type": "markdown",
   "metadata": {
    "id": "S-YylKUoqElV"
   },
   "source": [
    "# FastText Model"
   ]
  },
  {
   "cell_type": "code",
   "metadata": {
    "id": "1F_olE5An-5I"
   },
   "source": [
    "EMBEDDING_FILE = 'wiki.fa.vec'\n",
    "\n",
    "def import_with_gensim(file_address):\n",
    "  # Creating the model\n",
    "  ft_model = KeyedVectors.load_word2vec_format(file_address)\n",
    "  # Getting the tokens\n",
    "  ft_words = []\n",
    "  for ft_word in ft_model.vocab:\n",
    "      ft_words.append(ft_word)\n",
    "  return ft_model, ft_words\n",
    "  \n",
    "ft_model, ft_words = import_with_gensim(EMBEDDING_FILE)"
   ],
   "execution_count": 42,
   "outputs": []
  },
  {
   "cell_type": "code",
   "source": [
    "# Save:\n",
    "df = pd.DataFrame(ft_words)\n",
    "df.to_csv('ft_words.csv')\n",
    "ft_model.save_word2vec_format('ft_model.bin', binary=True)"
   ],
   "metadata": {
    "id": "fT4oMxANm0wI"
   },
   "execution_count": 30,
   "outputs": []
  },
  {
   "cell_type": "code",
   "source": [
    "# Load:\n",
    "ft_words = pd.read_csv('ft_words.csv').values.tolist()\n",
    "ft_moldel2 = gensim.models.KeyedVectors.load_word2vec_format('ft_model.bin', binary=True)"
   ],
   "metadata": {
    "id": "woa5micMm0Xc"
   },
   "execution_count": 35,
   "outputs": []
  },
  {
   "cell_type": "code",
   "metadata": {
    "id": "WbXOKymz-OS1"
   },
   "source": [
    "# FastText embedding dimensionality\n",
    "embed_size = 300"
   ],
   "execution_count": 34,
   "outputs": []
  },
  {
   "cell_type": "code",
   "metadata": {
    "id": "0lraPVp4ptF1"
   },
   "source": [
    "# We get the mean and standard deviation of the embedding weights so that we could maintain the\n",
    "# same statistics for the rest of our own random generated weights.\n",
    "embedding_list = list()\n",
    "for w in ft_words:\n",
    "  embedding_list.append(ft_model[w])\n",
    "\n",
    "all_embedding = np.stack(embedding_list)\n",
    "emb_mean, emb_std = all_embedding.mean(), all_embedding.std()"
   ],
   "execution_count": 43,
   "outputs": []
  },
  {
   "cell_type": "markdown",
   "metadata": {
    "id": "TSEcRKge69NI"
   },
   "source": [
    "## preprocessing:"
   ]
  },
  {
   "cell_type": "code",
   "metadata": {
    "id": "Eaz_5RG90E8D"
   },
   "source": [
    "# Apply preprocessing step to training data\n",
    "train_docs = np.empty_like(x_train)\n",
    "for index, document in enumerate(x_train):\n",
    "  train_docs[index] = clean_doc(document)"
   ],
   "execution_count": 44,
   "outputs": []
  },
  {
   "cell_type": "code",
   "metadata": {
    "id": "ZM1XsKN06BXb"
   },
   "source": [
    "# Applying preprocessing step to test data\n",
    "test_docs = np.empty_like(x_test)\n",
    "for index, document in enumerate(x_test):\n",
    "  test_docs[index] = clean_doc(document)"
   ],
   "execution_count": 45,
   "outputs": []
  },
  {
   "cell_type": "markdown",
   "metadata": {
    "id": "zOVanzfQ7Etd"
   },
   "source": [
    "## Setting tokenizer up:"
   ]
  },
  {
   "cell_type": "code",
   "metadata": {
    "id": "yXOfMkE1yMOG"
   },
   "source": [
    "num_words = 2000\n",
    "\n",
    "# Create the tokenizer\n",
    "tokenizer = Tokenizer(num_words=num_words)\n",
    "\n",
    "# fFt the tokenizer on the training documents\n",
    "tokenizer.fit_on_texts(train_docs)"
   ],
   "execution_count": 46,
   "outputs": []
  },
  {
   "cell_type": "code",
   "metadata": {
    "id": "xp3Hgq8m6gnI"
   },
   "source": [
    "# Find maximum length of training sentences\n",
    "max_length = max([len(s.split()) for s in train_docs])"
   ],
   "execution_count": 47,
   "outputs": []
  },
  {
   "cell_type": "markdown",
   "metadata": {
    "id": "YfKPCiJs7RPS"
   },
   "source": [
    "## Embed sentences:"
   ]
  },
  {
   "cell_type": "code",
   "metadata": {
    "id": "Hl42Ym2W6PeU"
   },
   "source": [
    "# Embed training sequences\n",
    "encoded_docs = tokenizer.texts_to_sequences(train_docs)\n",
    "\n",
    "# Pad embeded training sequences\n",
    "x_train_padded = pad_sequences(encoded_docs, maxlen=max_length, padding='post')"
   ],
   "execution_count": 48,
   "outputs": []
  },
  {
   "cell_type": "code",
   "metadata": {
    "id": "mQ_6Su9L16J9"
   },
   "source": [
    "# Define vocabulary size (largest integer value)\n",
    "vocab_size = len(tokenizer.word_index)"
   ],
   "execution_count": 49,
   "outputs": []
  },
  {
   "cell_type": "code",
   "metadata": {
    "id": "WZnIkLd4rUrb",
    "outputId": "b91d9bfe-20be-42cd-e77a-5f82722c1ea5",
    "colab": {
     "base_uri": "https://localhost:8080/"
    }
   },
   "source": [
    "# We are going to set the embedding size to the pre-trained dimension as we are replicating it\n",
    "nb_words = len(tokenizer.word_index)\n",
    "\n",
    "# the size will be Number of Words in Vocab X Embedding Size\n",
    "embedding_matrix = np.random.normal(emb_mean, emb_std, (nb_words, embed_size))\n",
    "\n",
    "# With the newly created embedding matrix, we'll fill it up with the words that we have in both\n",
    "# our own dictionary and loaded pre-trained embedding.\n",
    "embeddedCount = 0\n",
    "for word, i in tokenizer.word_index.items():\n",
    "    i -= 1\n",
    "    # then we see if this word is in glove's dictionary, if yes, get the corresponding weights\n",
    "    if word in ft_model.vocab:\n",
    "        embedding_vector = ft_model[word]\n",
    "        # and store inside the embedding matrix that we will train later on.\n",
    "        embedding_matrix[i] = embedding_vector\n",
    "        embeddedCount += 1\n",
    "    else:   # Unknown words\n",
    "        embedding_vector = ft_model['subdivision_name']\n",
    "        embedding_matrix[i] = embedding_vector\n",
    "        embeddedCount += 1\n",
    "\n",
    "print('total embedded:', embeddedCount, 'common words')\n",
    "print('Embedding matrix shape:', embedding_matrix.shape)"
   ],
   "execution_count": 50,
   "outputs": [
    {
     "output_type": "stream",
     "name": "stdout",
     "text": [
      "total embedded: 2495 common words\n",
      "Embedding matrix shape: (2495, 300)\n"
     ]
    }
   ]
  },
  {
   "cell_type": "code",
   "metadata": {
    "id": "o8NcUFxQpN1f"
   },
   "source": [
    "# Embed testing sequences\n",
    "encoded_docs = tokenizer.texts_to_sequences(test_docs)\n",
    "# Pad testing sequences\n",
    "x_test_padded = pad_sequences(encoded_docs, maxlen=max_length, padding='post')"
   ],
   "execution_count": 51,
   "outputs": []
  },
  {
   "cell_type": "markdown",
   "metadata": {
    "id": "f8IrxurU7xXB"
   },
   "source": [
    "# Deep Learning Models:"
   ]
  },
  {
   "cell_type": "code",
   "metadata": {
    "id": "Y4WWnDA877aA"
   },
   "source": [
    "# Prepare labels for categorical prediction\n",
    "categorical_y_train = to_categorical(y_train, 3)\n",
    "categorical_y_test = to_categorical(y_test, 3)"
   ],
   "execution_count": 53,
   "outputs": []
  },
  {
   "cell_type": "markdown",
   "metadata": {
    "id": "UGzX4V3J2U9F"
   },
   "source": [
    "## B-LSTM Model:"
   ]
  },
  {
   "cell_type": "code",
   "metadata": {
    "id": "sFdUGLh4-v6P"
   },
   "source": [
    "model_blstm = Sequential()\n",
    "model_blstm.add(Embedding(vocab_size, embedding_matrix.shape[1], weights=[embedding_matrix], trainable=True))\n",
    "model_blstm.add(Bidirectional(CuDNNLSTM(300, return_sequences=True, name='lstm_layer')))\n",
    "model_blstm.add(GlobalMaxPool1D())\n",
    "model_blstm.add(Dropout(0.2))\n",
    "model_blstm.add(Dense(300, activation=\"relu\"))\n",
    "model_blstm.add(Dropout(0.1))\n",
    "model_blstm.add(Dense(3, activation='softmax'))"
   ],
   "execution_count": 55,
   "outputs": []
  },
  {
   "cell_type": "code",
   "metadata": {
    "id": "MadF-98Rufk-",
    "outputId": "18c80b43-3dd6-4801-90f0-cba6d9e5b8cf",
    "colab": {
     "base_uri": "https://localhost:8080/"
    }
   },
   "source": [
    "model_blstm.compile(loss='categorical_crossentropy',\n",
    "              optimizer='adam',\n",
    "              metrics=[categorical_accuracy])\n",
    "\n",
    "model_blstm.summary()\n",
    "batch_size_blstm = 64\n",
    "epochs_blstm = 5"
   ],
   "execution_count": 56,
   "outputs": [
    {
     "output_type": "stream",
     "name": "stdout",
     "text": [
      "Model: \"sequential_1\"\n",
      "_________________________________________________________________\n",
      " Layer (type)                Output Shape              Param #   \n",
      "=================================================================\n",
      " embedding_1 (Embedding)     (None, None, 300)         748500    \n",
      "                                                                 \n",
      " bidirectional_1 (Bidirectio  (None, None, 600)        1444800   \n",
      " nal)                                                            \n",
      "                                                                 \n",
      " global_max_pooling1d_1 (Glo  (None, 600)              0         \n",
      " balMaxPooling1D)                                                \n",
      "                                                                 \n",
      " dropout_2 (Dropout)         (None, 600)               0         \n",
      "                                                                 \n",
      " dense_2 (Dense)             (None, 300)               180300    \n",
      "                                                                 \n",
      " dropout_3 (Dropout)         (None, 300)               0         \n",
      "                                                                 \n",
      " dense_3 (Dense)             (None, 3)                 903       \n",
      "                                                                 \n",
      "=================================================================\n",
      "Total params: 2,374,503\n",
      "Trainable params: 2,374,503\n",
      "Non-trainable params: 0\n",
      "_________________________________________________________________\n"
     ]
    }
   ]
  },
  {
   "cell_type": "code",
   "metadata": {
    "id": "Yvltc4_D8Sjp",
    "outputId": "1b275b59-0e4e-4303-c34a-73ce3d125302",
    "colab": {
     "base_uri": "https://localhost:8080/"
    }
   },
   "source": [
    "# Train model\n",
    "hist_blstm = model_blstm.fit(x_train_padded, categorical_y_train, batch_size=batch_size_blstm, epochs=epochs_blstm, shuffle=True)"
   ],
   "execution_count": 57,
   "outputs": [
    {
     "output_type": "stream",
     "name": "stdout",
     "text": [
      "Epoch 1/5\n",
      "128/128 [==============================] - 9s 17ms/step - loss: 0.7436 - categorical_accuracy: 0.6465\n",
      "Epoch 2/5\n",
      "128/128 [==============================] - 3s 20ms/step - loss: 0.3127 - categorical_accuracy: 0.8852\n",
      "Epoch 3/5\n",
      "128/128 [==============================] - 2s 16ms/step - loss: 0.1922 - categorical_accuracy: 0.9273\n",
      "Epoch 4/5\n",
      "128/128 [==============================] - 2s 14ms/step - loss: 0.1451 - categorical_accuracy: 0.9416\n",
      "Epoch 5/5\n",
      "128/128 [==============================] - 2s 18ms/step - loss: 0.1184 - categorical_accuracy: 0.9533\n"
     ]
    }
   ]
  },
  {
   "cell_type": "code",
   "metadata": {
    "id": "hiqdfnXMKlsZ",
    "outputId": "0f594363-fe06-45d8-ee32-f8d0b76fbe32",
    "colab": {
     "base_uri": "https://localhost:8080/"
    }
   },
   "source": [
    "# Evaluate model\n",
    "loss_blstm, acc_blstm = model_blstm.evaluate(x_test_padded, categorical_y_test, verbose=0)\n",
    "print('Test Accuracy: %f' % (acc_blstm*100))"
   ],
   "execution_count": 66,
   "outputs": [
    {
     "output_type": "stream",
     "name": "stdout",
     "text": [
      "Test Accuracy: 88.092613\n"
     ]
    }
   ]
  },
  {
   "cell_type": "code",
   "source": [
    "# Save the Model:\n",
    "model_blstm.save(\"BLSTM_model.h5\")"
   ],
   "metadata": {
    "id": "f3O0JTDfqZkf"
   },
   "execution_count": 60,
   "outputs": []
  },
  {
   "cell_type": "code",
   "source": [
    "# load the Model:\n",
    "from keras.models import load_model\n",
    "\n",
    "model_blstm = load_model('BLSTM_model.h5')"
   ],
   "metadata": {
    "id": "S2WgCA8gq5AR"
   },
   "execution_count": 65,
   "outputs": []
  },
  {
   "cell_type": "code",
   "metadata": {
    "id": "imptdlcYXZF5",
    "colab": {
     "base_uri": "https://localhost:8080/"
    },
    "outputId": "07c345b0-b241-4e9b-a14e-fd3471e8443d"
   },
   "source": [
    "# Get prediction label\n",
    "preds = model_blstm.predict(x_test_padded)\n",
    "y_pred_blstm = np.argmax(preds, axis=1)"
   ],
   "execution_count": 109,
   "outputs": [
    {
     "output_type": "stream",
     "name": "stdout",
     "text": [
      "29/29 [==============================] - 2s 56ms/step\n"
     ]
    }
   ]
  },
  {
   "cell_type": "markdown",
   "metadata": {
    "id": "mjCMX44DEv-4"
   },
   "source": [
    "## CNN Model:"
   ]
  },
  {
   "cell_type": "code",
   "metadata": {
    "id": "FemjzX3_FJFN"
   },
   "source": [
    "model_cnn = Sequential()\n",
    "model_cnn.add(Embedding(vocab_size, embedding_matrix.shape[1], weights=[embedding_matrix], trainable=True))\n",
    "model_cnn.add(Conv1D(filters=64, kernel_size=4, activation='relu', padding='same'))\n",
    "model_cnn.add(MaxPooling1D(pool_size=2))\n",
    "model_cnn.add(Conv1D(filters=64, kernel_size=8, activation='relu', padding='same'))\n",
    "model_cnn.add(MaxPooling1D(pool_size=2))\n",
    "model_cnn.add(Conv1D(filters=64, kernel_size=16, activation='relu', padding='same'))\n",
    "model_cnn.add(GlobalMaxPooling1D())\n",
    "model_cnn.add(Dropout(0.1))\n",
    "model_cnn.add(Dense(500, activation=\"sigmoid\"))\n",
    "model_cnn.add(Dense(3, activation='softmax'))"
   ],
   "execution_count": 68,
   "outputs": []
  },
  {
   "cell_type": "code",
   "metadata": {
    "outputId": "a93c666b-60d1-4910-bac5-be0be603306f",
    "id": "k79NbUPiFJFT",
    "colab": {
     "base_uri": "https://localhost:8080/"
    }
   },
   "source": [
    "model_cnn.compile(loss='categorical_crossentropy',\n",
    "              optimizer='adam',\n",
    "              metrics=[categorical_accuracy])\n",
    "\n",
    "model_cnn.summary()\n",
    "batch_size_cnn = 64\n",
    "epochs_cnn = 8"
   ],
   "execution_count": 69,
   "outputs": [
    {
     "output_type": "stream",
     "name": "stdout",
     "text": [
      "Model: \"sequential_3\"\n",
      "_________________________________________________________________\n",
      " Layer (type)                Output Shape              Param #   \n",
      "=================================================================\n",
      " embedding_3 (Embedding)     (None, None, 300)         748500    \n",
      "                                                                 \n",
      " conv1d_3 (Conv1D)           (None, None, 64)          76864     \n",
      "                                                                 \n",
      " max_pooling1d_2 (MaxPooling  (None, None, 64)         0         \n",
      " 1D)                                                             \n",
      "                                                                 \n",
      " conv1d_4 (Conv1D)           (None, None, 64)          32832     \n",
      "                                                                 \n",
      " max_pooling1d_3 (MaxPooling  (None, None, 64)         0         \n",
      " 1D)                                                             \n",
      "                                                                 \n",
      " conv1d_5 (Conv1D)           (None, None, 64)          65600     \n",
      "                                                                 \n",
      " global_max_pooling1d_3 (Glo  (None, 64)               0         \n",
      " balMaxPooling1D)                                                \n",
      "                                                                 \n",
      " dropout_5 (Dropout)         (None, 64)                0         \n",
      "                                                                 \n",
      " dense_6 (Dense)             (None, 500)               32500     \n",
      "                                                                 \n",
      " dense_7 (Dense)             (None, 3)                 1503      \n",
      "                                                                 \n",
      "=================================================================\n",
      "Total params: 957,799\n",
      "Trainable params: 957,799\n",
      "Non-trainable params: 0\n",
      "_________________________________________________________________\n"
     ]
    }
   ]
  },
  {
   "cell_type": "code",
   "metadata": {
    "outputId": "6aec3868-b22f-4aab-a5cf-068a45670246",
    "id": "z-k6q09sFJFX",
    "colab": {
     "base_uri": "https://localhost:8080/"
    }
   },
   "source": [
    "# Train model\n",
    "hist_cnn = model_cnn.fit(x_train_padded, categorical_y_train, batch_size=batch_size_cnn, epochs=epochs_cnn, shuffle=True)"
   ],
   "execution_count": 70,
   "outputs": [
    {
     "output_type": "stream",
     "name": "stdout",
     "text": [
      "Epoch 1/8\n",
      "128/128 [==============================] - 9s 33ms/step - loss: 0.9067 - categorical_accuracy: 0.5187\n",
      "Epoch 2/8\n",
      "128/128 [==============================] - 1s 7ms/step - loss: 0.3710 - categorical_accuracy: 0.8587\n",
      "Epoch 3/8\n",
      "128/128 [==============================] - 2s 13ms/step - loss: 0.2004 - categorical_accuracy: 0.9253\n",
      "Epoch 4/8\n",
      "128/128 [==============================] - 4s 32ms/step - loss: 0.1381 - categorical_accuracy: 0.9466\n",
      "Epoch 5/8\n",
      "128/128 [==============================] - 2s 17ms/step - loss: 0.1049 - categorical_accuracy: 0.9561\n",
      "Epoch 6/8\n",
      "128/128 [==============================] - 1s 9ms/step - loss: 0.0922 - categorical_accuracy: 0.9602\n",
      "Epoch 7/8\n",
      "128/128 [==============================] - 1s 8ms/step - loss: 0.0776 - categorical_accuracy: 0.9643\n",
      "Epoch 8/8\n",
      "128/128 [==============================] - 2s 14ms/step - loss: 0.0690 - categorical_accuracy: 0.9684\n"
     ]
    }
   ]
  },
  {
   "cell_type": "code",
   "metadata": {
    "id": "96Sh1kXWFJFa",
    "outputId": "62cc9076-d1f9-4e00-b39b-c2739c871f4b",
    "colab": {
     "base_uri": "https://localhost:8080/"
    }
   },
   "source": [
    "# Evaluate model\n",
    "loss_cnn, acc_cnn = model_cnn.evaluate(x_test_padded, categorical_y_test, verbose=0)\n",
    "print('Test Accuracy: %f' % (acc_cnn*100))"
   ],
   "execution_count": 75,
   "outputs": [
    {
     "output_type": "stream",
     "name": "stdout",
     "text": [
      "Test Accuracy: 89.084893\n"
     ]
    }
   ]
  },
  {
   "cell_type": "code",
   "source": [
    "# Save the Model:\n",
    "model_cnn.save(\"CNN_model.h5\")"
   ],
   "metadata": {
    "id": "VMGab7E5rbhv"
   },
   "execution_count": 72,
   "outputs": []
  },
  {
   "cell_type": "code",
   "source": [
    "# load the Model:\n",
    "from keras.models import load_model\n",
    "\n",
    "model_cnn = load_model('CNN_model.h5')"
   ],
   "metadata": {
    "id": "gF5QEaGgrdND"
   },
   "execution_count": 73,
   "outputs": []
  },
  {
   "cell_type": "code",
   "metadata": {
    "id": "T4BdQvmYFJFd",
    "colab": {
     "base_uri": "https://localhost:8080/"
    },
    "outputId": "aad0edcb-b34b-41fb-930b-3cc2dbcbd0e0"
   },
   "source": [
    "# Get prediction label\n",
    "preds = model_cnn.predict(x_test_padded)\n",
    "y_pred_cnn = np.argmax(preds, axis=1)"
   ],
   "execution_count": 88,
   "outputs": [
    {
     "output_type": "stream",
     "name": "stdout",
     "text": [
      "29/29 [==============================] - 0s 2ms/step\n"
     ]
    }
   ]
  },
  {
   "cell_type": "markdown",
   "metadata": {
    "id": "UmU5nDXelR39"
   },
   "source": [
    "# Confusion Matrix:"
   ]
  },
  {
   "cell_type": "code",
   "source": [
    "import tensorflow as tf\n",
    "\n",
    "confusion = tf.math.confusion_matrix(labels= y_test_label, predictions=y_pred_cnn, num_classes=3)\n",
    "print(confusion)"
   ],
   "metadata": {
    "colab": {
     "base_uri": "https://localhost:8080/"
    },
    "id": "MCM_hBTxsa36",
    "outputId": "58e22fa8-97b1-4b49-f400-7878d97338c0"
   },
   "execution_count": 94,
   "outputs": [
    {
     "output_type": "stream",
     "name": "stdout",
     "text": [
      "tf.Tensor(\n",
      "[[259  26   9]\n",
      " [ 47 247   9]\n",
      " [  3   5 302]], shape=(3, 3), dtype=int32)\n"
     ]
    }
   ]
  },
  {
   "cell_type": "code",
   "source": [
    "!pip install pretty-confusion-matrix"
   ],
   "metadata": {
    "id": "OhVs0fVGvhON"
   },
   "execution_count": null,
   "outputs": []
  },
  {
   "cell_type": "code",
   "source": [
    "from pretty_confusion_matrix import pp_matrix\n",
    "\n",
    "confusion = np.asarray(confusion, np.int32)\n",
    "df_cm = pd.DataFrame(confusion, index=range(3), columns=range(3))\n",
    "# colormap: see this and choose your more dear\n",
    "cmap = 'PuRd'\n",
    "pp_matrix(df_cm, cmap=cmap)"
   ],
   "metadata": {
    "colab": {
     "base_uri": "https://localhost:8080/",
     "height": 779
    },
    "id": "I93O3IuvupUb",
    "outputId": "dfed4338-96be-44cc-9977-b7f72c00ad35"
   },
   "execution_count": 104,
   "outputs": [
    {
     "output_type": "stream",
     "name": "stderr",
     "text": [
      "/usr/local/lib/python3.8/dist-packages/pretty_confusion_matrix/pretty_confusion_matrix.py:200: MatplotlibDeprecationWarning: \n",
      "The tick1On function was deprecated in Matplotlib 3.1 and will be removed in 3.3. Use Tick.tick1line.set_visible instead.\n",
      "  t.tick1On = False\n",
      "/usr/local/lib/python3.8/dist-packages/pretty_confusion_matrix/pretty_confusion_matrix.py:201: MatplotlibDeprecationWarning: \n",
      "The tick2On function was deprecated in Matplotlib 3.1 and will be removed in 3.3. Use Tick.tick2line.set_visible instead.\n",
      "  t.tick2On = False\n",
      "/usr/local/lib/python3.8/dist-packages/pretty_confusion_matrix/pretty_confusion_matrix.py:203: MatplotlibDeprecationWarning: \n",
      "The tick1On function was deprecated in Matplotlib 3.1 and will be removed in 3.3. Use Tick.tick1line.set_visible instead.\n",
      "  t.tick1On = False\n",
      "/usr/local/lib/python3.8/dist-packages/pretty_confusion_matrix/pretty_confusion_matrix.py:204: MatplotlibDeprecationWarning: \n",
      "The tick2On function was deprecated in Matplotlib 3.1 and will be removed in 3.3. Use Tick.tick2line.set_visible instead.\n",
      "  t.tick2On = False\n"
     ]
    },
    {
     "output_type": "display_data",
     "data": {
      "text/plain": [
       "<Figure size 576x576 with 1 Axes>"
      ],
      "image/png": "[encoded data removed]"
     },
     "metadata": {}
    }
   ]
  },
  {
   "cell_type": "code",
   "source": [
    "confusion = tf.math.confusion_matrix(labels= y_test_label, predictions=y_pred_blstm, num_classes=3)\n",
    "print(confusion)"
   ],
   "metadata": {
    "colab": {
     "base_uri": "https://localhost:8080/"
    },
    "id": "BlcsMh1Ow55E",
    "outputId": "8715a860-e9a8-4f1d-dbb9-0227db6d3ab3"
   },
   "execution_count": 110,
   "outputs": [
    {
     "output_type": "stream",
     "name": "stdout",
     "text": [
      "tf.Tensor(\n",
      "[[240  35  19]\n",
      " [ 32 264   7]\n",
      " [  3  12 295]], shape=(3, 3), dtype=int32)\n"
     ]
    }
   ]
  },
  {
   "cell_type": "code",
   "source": [
    "from pretty_confusion_matrix import pp_matrix\n",
    "\n",
    "confusion = np.asarray(confusion, np.int32)\n",
    "df_cm = pd.DataFrame(confusion, index=range(3), columns=range(3))\n",
    "# colormap: see this and choose your more dear\n",
    "cmap = 'PuRd'\n",
    "pp_matrix(df_cm, cmap=cmap)"
   ],
   "metadata": {
    "colab": {
     "base_uri": "https://localhost:8080/",
     "height": 779
    },
    "id": "0Xnb4Msmw5Ey",
    "outputId": "79b0b84b-05c4-4a57-a3dd-e8324b3c0f43"
   },
   "execution_count": 111,
   "outputs": [
    {
     "output_type": "stream",
     "name": "stderr",
     "text": [
      "/usr/local/lib/python3.8/dist-packages/pretty_confusion_matrix/pretty_confusion_matrix.py:200: MatplotlibDeprecationWarning: \n",
      "The tick1On function was deprecated in Matplotlib 3.1 and will be removed in 3.3. Use Tick.tick1line.set_visible instead.\n",
      "  t.tick1On = False\n",
      "/usr/local/lib/python3.8/dist-packages/pretty_confusion_matrix/pretty_confusion_matrix.py:201: MatplotlibDeprecationWarning: \n",
      "The tick2On function was deprecated in Matplotlib 3.1 and will be removed in 3.3. Use Tick.tick2line.set_visible instead.\n",
      "  t.tick2On = False\n",
      "/usr/local/lib/python3.8/dist-packages/pretty_confusion_matrix/pretty_confusion_matrix.py:203: MatplotlibDeprecationWarning: \n",
      "The tick1On function was deprecated in Matplotlib 3.1 and will be removed in 3.3. Use Tick.tick1line.set_visible instead.\n",
      "  t.tick1On = False\n",
      "/usr/local/lib/python3.8/dist-packages/pretty_confusion_matrix/pretty_confusion_matrix.py:204: MatplotlibDeprecationWarning: \n",
      "The tick2On function was deprecated in Matplotlib 3.1 and will be removed in 3.3. Use Tick.tick2line.set_visible instead.\n",
      "  t.tick2On = False\n"
     ]
    },
    {
     "output_type": "display_data",
     "data": {
      "text/plain": [
       "<Figure size 576x576 with 1 Axes>"
      ],
      "image/png": "[encoded data removed]"
     },
     "metadata": {}
    }
   ]
  },
  {
   "cell_type": "markdown",
   "metadata": {
    "id": "ZUCXVkw5acDF"
   },
   "source": [
    "## F1 Score:"
   ]
  },
  {
   "cell_type": "code",
   "metadata": {
    "id": "YJy1sBACadfl",
    "outputId": "267aeb7e-c715-49b2-8959-26233208e58e",
    "colab": {
     "base_uri": "https://localhost:8080/",
     "height": 345
    }
   },
   "source": [
    "print(\"(Weighted) F1 score of FastTextEmb B-LSTM model:\")\n",
    "f1_score(y_test_label, y_pred_blstm, average='weighted')"
   ],
   "execution_count": 105,
   "outputs": [
    {
     "output_type": "stream",
     "name": "stdout",
     "text": [
      "(Weighted) F1 score of FastTextEmb B-LSTM model:\n"
     ]
    },
    {
     "output_type": "error",
     "ename": "ValueError",
     "evalue": "ignored",
     "traceback": [
      "\u001B[0;31m---------------------------------------------------------------------------\u001B[0m",
      "\u001B[0;31mValueError\u001B[0m                                Traceback (most recent call last)",
      "\u001B[0;32m<ipython-input-105-43af02ed8465>\u001B[0m in \u001B[0;36m<module>\u001B[0;34m\u001B[0m\n\u001B[1;32m      1\u001B[0m \u001B[0mprint\u001B[0m\u001B[0;34m(\u001B[0m\u001B[0;34m\"(Weighted) F1 score of FastTextEmb B-LSTM model:\"\u001B[0m\u001B[0;34m)\u001B[0m\u001B[0;34m\u001B[0m\u001B[0;34m\u001B[0m\u001B[0m\n\u001B[0;32m----> 2\u001B[0;31m \u001B[0mf1_score\u001B[0m\u001B[0;34m(\u001B[0m\u001B[0my_test_label\u001B[0m\u001B[0;34m,\u001B[0m \u001B[0my_pred_blstm\u001B[0m\u001B[0;34m,\u001B[0m \u001B[0maverage\u001B[0m\u001B[0;34m=\u001B[0m\u001B[0;34m'weighted'\u001B[0m\u001B[0;34m)\u001B[0m\u001B[0;34m\u001B[0m\u001B[0;34m\u001B[0m\u001B[0m\n\u001B[0m",
      "\u001B[0;32m/usr/local/lib/python3.8/dist-packages/sklearn/metrics/_classification.py\u001B[0m in \u001B[0;36mf1_score\u001B[0;34m(y_true, y_pred, labels, pos_label, average, sample_weight, zero_division)\u001B[0m\n\u001B[1;32m   1121\u001B[0m     \u001B[0mmodified\u001B[0m \u001B[0;32mwith\u001B[0m\u001B[0;31m \u001B[0m\u001B[0;31m`\u001B[0m\u001B[0;31m`\u001B[0m\u001B[0mzero_division\u001B[0m\u001B[0;31m`\u001B[0m\u001B[0;31m`\u001B[0m\u001B[0;34m.\u001B[0m\u001B[0;34m\u001B[0m\u001B[0;34m\u001B[0m\u001B[0m\n\u001B[1;32m   1122\u001B[0m     \"\"\"\n\u001B[0;32m-> 1123\u001B[0;31m     return fbeta_score(\n\u001B[0m\u001B[1;32m   1124\u001B[0m         \u001B[0my_true\u001B[0m\u001B[0;34m,\u001B[0m\u001B[0;34m\u001B[0m\u001B[0;34m\u001B[0m\u001B[0m\n\u001B[1;32m   1125\u001B[0m         \u001B[0my_pred\u001B[0m\u001B[0;34m,\u001B[0m\u001B[0;34m\u001B[0m\u001B[0;34m\u001B[0m\u001B[0m\n",
      "\u001B[0;32m/usr/local/lib/python3.8/dist-packages/sklearn/metrics/_classification.py\u001B[0m in \u001B[0;36mfbeta_score\u001B[0;34m(y_true, y_pred, beta, labels, pos_label, average, sample_weight, zero_division)\u001B[0m\n\u001B[1;32m   1259\u001B[0m     \"\"\"\n\u001B[1;32m   1260\u001B[0m \u001B[0;34m\u001B[0m\u001B[0m\n\u001B[0;32m-> 1261\u001B[0;31m     _, _, f, _ = precision_recall_fscore_support(\n\u001B[0m\u001B[1;32m   1262\u001B[0m         \u001B[0my_true\u001B[0m\u001B[0;34m,\u001B[0m\u001B[0;34m\u001B[0m\u001B[0;34m\u001B[0m\u001B[0m\n\u001B[1;32m   1263\u001B[0m         \u001B[0my_pred\u001B[0m\u001B[0;34m,\u001B[0m\u001B[0;34m\u001B[0m\u001B[0;34m\u001B[0m\u001B[0m\n",
      "\u001B[0;32m/usr/local/lib/python3.8/dist-packages/sklearn/metrics/_classification.py\u001B[0m in \u001B[0;36mprecision_recall_fscore_support\u001B[0;34m(y_true, y_pred, beta, labels, pos_label, average, warn_for, sample_weight, zero_division)\u001B[0m\n\u001B[1;32m   1542\u001B[0m     \u001B[0;32mif\u001B[0m \u001B[0mbeta\u001B[0m \u001B[0;34m<\u001B[0m \u001B[0;36m0\u001B[0m\u001B[0;34m:\u001B[0m\u001B[0;34m\u001B[0m\u001B[0;34m\u001B[0m\u001B[0m\n\u001B[1;32m   1543\u001B[0m         \u001B[0;32mraise\u001B[0m \u001B[0mValueError\u001B[0m\u001B[0;34m(\u001B[0m\u001B[0;34m\"beta should be >=0 in the F-beta score\"\u001B[0m\u001B[0;34m)\u001B[0m\u001B[0;34m\u001B[0m\u001B[0;34m\u001B[0m\u001B[0m\n\u001B[0;32m-> 1544\u001B[0;31m     \u001B[0mlabels\u001B[0m \u001B[0;34m=\u001B[0m \u001B[0m_check_set_wise_labels\u001B[0m\u001B[0;34m(\u001B[0m\u001B[0my_true\u001B[0m\u001B[0;34m,\u001B[0m \u001B[0my_pred\u001B[0m\u001B[0;34m,\u001B[0m \u001B[0maverage\u001B[0m\u001B[0;34m,\u001B[0m \u001B[0mlabels\u001B[0m\u001B[0;34m,\u001B[0m \u001B[0mpos_label\u001B[0m\u001B[0;34m)\u001B[0m\u001B[0;34m\u001B[0m\u001B[0;34m\u001B[0m\u001B[0m\n\u001B[0m\u001B[1;32m   1545\u001B[0m \u001B[0;34m\u001B[0m\u001B[0m\n\u001B[1;32m   1546\u001B[0m     \u001B[0;31m# Calculate tp_sum, pred_sum, true_sum ###\u001B[0m\u001B[0;34m\u001B[0m\u001B[0;34m\u001B[0m\u001B[0;34m\u001B[0m\u001B[0m\n",
      "\u001B[0;32m/usr/local/lib/python3.8/dist-packages/sklearn/metrics/_classification.py\u001B[0m in \u001B[0;36m_check_set_wise_labels\u001B[0;34m(y_true, y_pred, average, labels, pos_label)\u001B[0m\n\u001B[1;32m   1346\u001B[0m         \u001B[0;32mraise\u001B[0m \u001B[0mValueError\u001B[0m\u001B[0;34m(\u001B[0m\u001B[0;34m\"average has to be one of \"\u001B[0m \u001B[0;34m+\u001B[0m \u001B[0mstr\u001B[0m\u001B[0;34m(\u001B[0m\u001B[0maverage_options\u001B[0m\u001B[0;34m)\u001B[0m\u001B[0;34m)\u001B[0m\u001B[0;34m\u001B[0m\u001B[0;34m\u001B[0m\u001B[0m\n\u001B[1;32m   1347\u001B[0m \u001B[0;34m\u001B[0m\u001B[0m\n\u001B[0;32m-> 1348\u001B[0;31m     \u001B[0my_type\u001B[0m\u001B[0;34m,\u001B[0m \u001B[0my_true\u001B[0m\u001B[0;34m,\u001B[0m \u001B[0my_pred\u001B[0m \u001B[0;34m=\u001B[0m \u001B[0m_check_targets\u001B[0m\u001B[0;34m(\u001B[0m\u001B[0my_true\u001B[0m\u001B[0;34m,\u001B[0m \u001B[0my_pred\u001B[0m\u001B[0;34m)\u001B[0m\u001B[0;34m\u001B[0m\u001B[0;34m\u001B[0m\u001B[0m\n\u001B[0m\u001B[1;32m   1349\u001B[0m     \u001B[0;31m# Convert to Python primitive type to avoid NumPy type / Python str\u001B[0m\u001B[0;34m\u001B[0m\u001B[0;34m\u001B[0m\u001B[0;34m\u001B[0m\u001B[0m\n\u001B[1;32m   1350\u001B[0m     \u001B[0;31m# comparison. See https://github.com/numpy/numpy/issues/6784\u001B[0m\u001B[0;34m\u001B[0m\u001B[0;34m\u001B[0m\u001B[0;34m\u001B[0m\u001B[0m\n",
      "\u001B[0;32m/usr/local/lib/python3.8/dist-packages/sklearn/metrics/_classification.py\u001B[0m in \u001B[0;36m_check_targets\u001B[0;34m(y_true, y_pred)\u001B[0m\n\u001B[1;32m     91\u001B[0m \u001B[0;34m\u001B[0m\u001B[0m\n\u001B[1;32m     92\u001B[0m     \u001B[0;32mif\u001B[0m \u001B[0mlen\u001B[0m\u001B[0;34m(\u001B[0m\u001B[0my_type\u001B[0m\u001B[0;34m)\u001B[0m \u001B[0;34m>\u001B[0m \u001B[0;36m1\u001B[0m\u001B[0;34m:\u001B[0m\u001B[0;34m\u001B[0m\u001B[0;34m\u001B[0m\u001B[0m\n\u001B[0;32m---> 93\u001B[0;31m         raise ValueError(\n\u001B[0m\u001B[1;32m     94\u001B[0m             \"Classification metrics can't handle a mix of {0} and {1} targets\".format(\n\u001B[1;32m     95\u001B[0m                 \u001B[0mtype_true\u001B[0m\u001B[0;34m,\u001B[0m \u001B[0mtype_pred\u001B[0m\u001B[0;34m\u001B[0m\u001B[0;34m\u001B[0m\u001B[0m\n",
      "\u001B[0;31mValueError\u001B[0m: Classification metrics can't handle a mix of multiclass and continuous-multioutput targets"
     ]
    }
   ]
  },
  {
   "cell_type": "code",
   "metadata": {
    "id": "dMRJQcoiampM",
    "outputId": "9294e236-fdf2-4b77-d765-53a49dddb096",
    "colab": {
     "base_uri": "https://localhost:8080/",
     "height": 107
    },
    "pycharm": {
     "name": "#%%\n"
    }
   },
   "source": [
    "print(\"(Weighted) F1 score of FastTextEmb CNN model:\")\n",
    "f1_score(y_test_label, y_pred_cnn, average='weighted')\n",
    "\n"
   ],
   "execution_count": null,
   "outputs": [
    {
     "output_type": "stream",
     "text": [
      "(Weighted) F1 score of FastTextEmb CNN model:\n"
     ],
     "name": "stdout"
    },
    {
     "output_type": "stream",
     "text": [
      "/usr/local/lib/python3.6/dist-packages/sklearn/metrics/classification.py:1437: UndefinedMetricWarning: F-score is ill-defined and being set to 0.0 in labels with no predicted samples.\n",
      "  'precision', 'predicted', average, warn_for)\n"
     ],
     "name": "stderr"
    },
    {
     "output_type": "execute_result",
     "data": {
      "text/plain": [
       "0.6156481328277128"
      ]
     },
     "metadata": {
      "tags": []
     },
     "execution_count": 493
    }
   ]
  }
 ]
}