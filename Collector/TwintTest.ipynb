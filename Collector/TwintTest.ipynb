{
  "nbformat": 4,
  "nbformat_minor": 0,
  "metadata": {
    "colab": {
      "provenance": []
    },
    "kernelspec": {
      "name": "python3",
      "display_name": "Python 3"
    },
    "accelerator": "GPU",
    "gpuClass": "standard"
  },
  "cells": [
    {
      "cell_type": "markdown",
      "metadata": {
        "id": "wszoTNyeBGyU"
      },
      "source": [
        "To BE\n",
        "\n"
      ]
    },
    {
      "cell_type": "code",
      "metadata": {
        "id": "n7SpTq3oZ_nn",
        "outputId": "1142b49d-b089-4ea1-e75d-6ca327d81dd2",
        "colab": {
          "base_uri": "https://localhost:8080/"
        }
      },
      "source": [
        "!pip install -qq whatthelang\n",
        "!pip3 install -qq twint"
      ],
      "execution_count": 1,
      "outputs": [
        {
          "output_type": "stream",
          "name": "stdout",
          "text": [
            "\u001b[K     |████████████████████████████████| 786 kB 18.1 MB/s \n",
            "\u001b[K     |████████████████████████████████| 970 kB 51.8 MB/s \n",
            "\u001b[K     |████████████████████████████████| 244 kB 71.9 MB/s \n",
            "\u001b[?25h  Building wheel for whatthelang (setup.py) ... \u001b[?25l\u001b[?25hdone\n",
            "  Building wheel for pyfasttext (setup.py) ... \u001b[?25l\u001b[?25hdone\n",
            "\u001b[K     |████████████████████████████████| 265 kB 46.4 MB/s \n",
            "\u001b[K     |████████████████████████████████| 385 kB 52.4 MB/s \n",
            "\u001b[K     |████████████████████████████████| 50 kB 7.7 MB/s \n",
            "\u001b[K     |████████████████████████████████| 288 kB 70.3 MB/s \n",
            "\u001b[K     |████████████████████████████████| 49 kB 6.6 MB/s \n",
            "\u001b[K     |████████████████████████████████| 59 kB 7.7 MB/s \n",
            "\u001b[K     |████████████████████████████████| 140 kB 79.3 MB/s \n",
            "\u001b[K     |████████████████████████████████| 62 kB 1.7 MB/s \n",
            "\u001b[?25h  Building wheel for twint (setup.py) ... \u001b[?25l\u001b[?25hdone\n",
            "  Building wheel for googletransx (setup.py) ... \u001b[?25l\u001b[?25hdone\n"
          ]
        }
      ]
    },
    {
      "cell_type": "code",
      "metadata": {
        "id": "YBUSmvxYBx9l"
      },
      "source": [
        "# Import Library\n",
        "from typing_extensions import Concatenate\n",
        "import twint"
      ],
      "execution_count": 2,
      "outputs": []
    },
    {
      "cell_type": "code",
      "source": [
        "import os\n",
        "from google.colab import output\n",
        "!pip install twint\n",
        "!pip uninstall twint -y\n",
        "!git clone --depth=1 https://github.com/twintproject/twint.git\n",
        "%cd twint/twint/\n",
        "#!sed -i 's/tweet_count = 100/tweet_count = 100 if not config.Limit else config.Limit/g' url.py\n",
        "%cd ..\n",
        "!pip3 install . -r requirements.txt\n",
        "%cd ..\n",
        "output.clear()"
      ],
      "metadata": {
        "id": "i3QyENkNpnaU"
      },
      "execution_count": 88,
      "outputs": []
    },
    {
      "cell_type": "code",
      "source": [
        "!pip install aiohttp==3.7.0"
      ],
      "metadata": {
        "id": "-ZFwa4T_qd5K",
        "outputId": "38b9de65-4932-4fd6-c721-309f10ae3315",
        "colab": {
          "base_uri": "https://localhost:8080/"
        }
      },
      "execution_count": 89,
      "outputs": [
        {
          "output_type": "stream",
          "name": "stdout",
          "text": [
            "Looking in indexes: https://pypi.org/simple, https://us-python.pkg.dev/colab-wheels/public/simple/\n",
            "Requirement already satisfied: aiohttp==3.7.0 in /usr/local/lib/python3.8/dist-packages (3.7.0)\n",
            "Requirement already satisfied: async-timeout<4.0,>=3.0 in /usr/local/lib/python3.8/dist-packages (from aiohttp==3.7.0) (3.0.1)\n",
            "Requirement already satisfied: chardet<4.0,>=2.0 in /usr/local/lib/python3.8/dist-packages (from aiohttp==3.7.0) (3.0.4)\n",
            "Requirement already satisfied: attrs>=17.3.0 in /usr/local/lib/python3.8/dist-packages (from aiohttp==3.7.0) (22.1.0)\n",
            "Requirement already satisfied: multidict<7.0,>=4.5 in /usr/local/lib/python3.8/dist-packages (from aiohttp==3.7.0) (6.0.3)\n",
            "Requirement already satisfied: yarl<2.0,>=1.0 in /usr/local/lib/python3.8/dist-packages (from aiohttp==3.7.0) (1.8.2)\n",
            "Requirement already satisfied: idna>=2.0 in /usr/local/lib/python3.8/dist-packages (from yarl<2.0,>=1.0->aiohttp==3.7.0) (2.10)\n"
          ]
        }
      ]
    },
    {
      "cell_type": "code",
      "source": [
        "import twint"
      ],
      "metadata": {
        "id": "iRW6a9Miptdx"
      },
      "execution_count": 90,
      "outputs": []
    },
    {
      "cell_type": "markdown",
      "metadata": {
        "id": "YDOzHbrnEP0_"
      },
      "source": [
        "## Get tweets\n",
        "\n",
        "In this example you can see, how I got you the lovely #OKBoomer data"
      ]
    },
    {
      "cell_type": "code",
      "source": [
        "!pip install nest-asyncio\n",
        "import nest_asyncio\n",
        "nest_asyncio.apply()"
      ],
      "metadata": {
        "colab": {
          "base_uri": "https://localhost:8080/"
        },
        "id": "-DiMkUyuwowm",
        "outputId": "8ad4fe9b-1d5d-4a7b-8347-be1f77a26c3c"
      },
      "execution_count": 91,
      "outputs": [
        {
          "output_type": "stream",
          "name": "stdout",
          "text": [
            "Looking in indexes: https://pypi.org/simple, https://us-python.pkg.dev/colab-wheels/public/simple/\n",
            "Requirement already satisfied: nest-asyncio in /usr/local/lib/python3.8/dist-packages (1.5.6)\n"
          ]
        }
      ]
    },
    {
      "cell_type": "code",
      "metadata": {
        "id": "bJJWsWNzBbub"
      },
      "source": [
        "# Config for counting:\n",
        "\n",
        "cc = twint.Config()\n",
        "cc.Store_object = True\n",
        "cc.Pandas = True\n",
        "cc.Lang = 'Fa'\n",
        "cc.Search = '#كرج'\n",
        "cc.Store_csv = False\n",
        "#cc.Output = \"Karaj.csv\"\n",
        "#cc.Resume = 'Karaj_resume.csv'\n",
        "cc.Since = \"2022-09-17\"\n",
        "cc.Until = \"2022-09-24\"\n",
        "cc.Filter_retweets = False\n",
        "cc.Retries_count = 10000\n",
        "cc.Count = True\n",
        "cc.Native_retweets = False\n",
        "cc.Limit = 1000\n",
        "cc.Stats = True\n",
        "cc.Hide_output = True"
      ],
      "execution_count": 120,
      "outputs": []
    },
    {
      "cell_type": "code",
      "source": [
        "c = twint.Config()\n",
        "\n",
        "c.Search = '#womensmarch'\n",
        "c.Since = '2017-01-01'\n",
        "c.Until = '2017-01-02'\n",
        "c.Hide_output = True\n",
        "c.Store_json = True\n",
        "c.Output = 'womensmarch_2017.json'\n",
        "c.Resume = 'wm_last.csv'\n",
        "c.Debug = True\n",
        "c.Count = True"
      ],
      "metadata": {
        "id": "SW9Z1dNNE4H0"
      },
      "execution_count": 106,
      "outputs": []
    },
    {
      "cell_type": "code",
      "metadata": {
        "id": "KW02ADNCDosg",
        "colab": {
          "base_uri": "https://localhost:8080/"
        },
        "outputId": "c111f697-9503-42f0-d177-8763fd9bbc03"
      },
      "source": [
        "# Run search\n",
        "twint.run.Search(cc)"
      ],
      "execution_count": 127,
      "outputs": [
        {
          "output_type": "stream",
          "name": "stdout",
          "text": [
            "[!] No more data! Scraping will stop now.\n",
            "found 0 deleted tweets in this search.\n",
            "[+] Finished: Successfully collected 0 Tweets.\n"
          ]
        }
      ]
    },
    {
      "cell_type": "code",
      "metadata": {
        "id": "ZYIuXe58gBY4",
        "outputId": "fe115050-908f-472d-cb00-c0d4f847f02f",
        "colab": {
          "base_uri": "https://localhost:8080/",
          "height": 49
        }
      },
      "source": [
        "# Quick check\n",
        "twint.storage.panda.Tweets_df.head()"
      ],
      "execution_count": 116,
      "outputs": [
        {
          "output_type": "execute_result",
          "data": {
            "text/plain": [
              "Empty DataFrame\n",
              "Columns: []\n",
              "Index: []"
            ],
            "text/html": [
              "\n",
              "  <div id=\"df-0e8f43ab-085e-4668-bc04-4036480e98b1\">\n",
              "    <div class=\"colab-df-container\">\n",
              "      <div>\n",
              "<style scoped>\n",
              "    .dataframe tbody tr th:only-of-type {\n",
              "        vertical-align: middle;\n",
              "    }\n",
              "\n",
              "    .dataframe tbody tr th {\n",
              "        vertical-align: top;\n",
              "    }\n",
              "\n",
              "    .dataframe thead th {\n",
              "        text-align: right;\n",
              "    }\n",
              "</style>\n",
              "<table border=\"1\" class=\"dataframe\">\n",
              "  <thead>\n",
              "    <tr style=\"text-align: right;\">\n",
              "      <th></th>\n",
              "    </tr>\n",
              "  </thead>\n",
              "  <tbody>\n",
              "  </tbody>\n",
              "</table>\n",
              "</div>\n",
              "      <button class=\"colab-df-convert\" onclick=\"convertToInteractive('df-0e8f43ab-085e-4668-bc04-4036480e98b1')\"\n",
              "              title=\"Convert this dataframe to an interactive table.\"\n",
              "              style=\"display:none;\">\n",
              "        \n",
              "  <svg xmlns=\"http://www.w3.org/2000/svg\" height=\"24px\"viewBox=\"0 0 24 24\"\n",
              "       width=\"24px\">\n",
              "    <path d=\"M0 0h24v24H0V0z\" fill=\"none\"/>\n",
              "    <path d=\"M18.56 5.44l.94 2.06.94-2.06 2.06-.94-2.06-.94-.94-2.06-.94 2.06-2.06.94zm-11 1L8.5 8.5l.94-2.06 2.06-.94-2.06-.94L8.5 2.5l-.94 2.06-2.06.94zm10 10l.94 2.06.94-2.06 2.06-.94-2.06-.94-.94-2.06-.94 2.06-2.06.94z\"/><path d=\"M17.41 7.96l-1.37-1.37c-.4-.4-.92-.59-1.43-.59-.52 0-1.04.2-1.43.59L10.3 9.45l-7.72 7.72c-.78.78-.78 2.05 0 2.83L4 21.41c.39.39.9.59 1.41.59.51 0 1.02-.2 1.41-.59l7.78-7.78 2.81-2.81c.8-.78.8-2.07 0-2.86zM5.41 20L4 18.59l7.72-7.72 1.47 1.35L5.41 20z\"/>\n",
              "  </svg>\n",
              "      </button>\n",
              "      \n",
              "  <style>\n",
              "    .colab-df-container {\n",
              "      display:flex;\n",
              "      flex-wrap:wrap;\n",
              "      gap: 12px;\n",
              "    }\n",
              "\n",
              "    .colab-df-convert {\n",
              "      background-color: #E8F0FE;\n",
              "      border: none;\n",
              "      border-radius: 50%;\n",
              "      cursor: pointer;\n",
              "      display: none;\n",
              "      fill: #1967D2;\n",
              "      height: 32px;\n",
              "      padding: 0 0 0 0;\n",
              "      width: 32px;\n",
              "    }\n",
              "\n",
              "    .colab-df-convert:hover {\n",
              "      background-color: #E2EBFA;\n",
              "      box-shadow: 0px 1px 2px rgba(60, 64, 67, 0.3), 0px 1px 3px 1px rgba(60, 64, 67, 0.15);\n",
              "      fill: #174EA6;\n",
              "    }\n",
              "\n",
              "    [theme=dark] .colab-df-convert {\n",
              "      background-color: #3B4455;\n",
              "      fill: #D2E3FC;\n",
              "    }\n",
              "\n",
              "    [theme=dark] .colab-df-convert:hover {\n",
              "      background-color: #434B5C;\n",
              "      box-shadow: 0px 1px 3px 1px rgba(0, 0, 0, 0.15);\n",
              "      filter: drop-shadow(0px 1px 2px rgba(0, 0, 0, 0.3));\n",
              "      fill: #FFFFFF;\n",
              "    }\n",
              "  </style>\n",
              "\n",
              "      <script>\n",
              "        const buttonEl =\n",
              "          document.querySelector('#df-0e8f43ab-085e-4668-bc04-4036480e98b1 button.colab-df-convert');\n",
              "        buttonEl.style.display =\n",
              "          google.colab.kernel.accessAllowed ? 'block' : 'none';\n",
              "\n",
              "        async function convertToInteractive(key) {\n",
              "          const element = document.querySelector('#df-0e8f43ab-085e-4668-bc04-4036480e98b1');\n",
              "          const dataTable =\n",
              "            await google.colab.kernel.invokeFunction('convertToInteractive',\n",
              "                                                     [key], {});\n",
              "          if (!dataTable) return;\n",
              "\n",
              "          const docLinkHtml = 'Like what you see? Visit the ' +\n",
              "            '<a target=\"_blank\" href=https://colab.research.google.com/notebooks/data_table.ipynb>data table notebook</a>'\n",
              "            + ' to learn more about interactive tables.';\n",
              "          element.innerHTML = '';\n",
              "          dataTable['output_type'] = 'display_data';\n",
              "          await google.colab.output.renderOutput(dataTable, element);\n",
              "          const docLink = document.createElement('div');\n",
              "          docLink.innerHTML = docLinkHtml;\n",
              "          element.appendChild(docLink);\n",
              "        }\n",
              "      </script>\n",
              "    </div>\n",
              "  </div>\n",
              "  "
            ]
          },
          "metadata": {},
          "execution_count": 116
        }
      ]
    },
    {
      "cell_type": "markdown",
      "metadata": {
        "id": "nXeXUL_yFilw"
      },
      "source": [
        "### The End\n",
        "the stuff below is just some cleanup..."
      ]
    },
    {
      "cell_type": "code",
      "metadata": {
        "id": "uWmqmKbbiRx6"
      },
      "source": [
        "# Cleanup\n",
        "tweets = twint.storage.panda.Tweets_df.drop_duplicates(subset=['id'])"
      ],
      "execution_count": null,
      "outputs": []
    },
    {
      "cell_type": "code",
      "metadata": {
        "id": "maX3YS-1iYQZ"
      },
      "source": [
        "# Reindex\n",
        "tweets.index = range(len(tweets))"
      ],
      "execution_count": null,
      "outputs": []
    },
    {
      "cell_type": "code",
      "metadata": {
        "id": "fHwamqw4jF6z"
      },
      "source": [
        "# Remove non-english\n",
        "from whatthelang import WhatTheLang\n",
        "wtl = WhatTheLang()"
      ],
      "execution_count": null,
      "outputs": []
    },
    {
      "cell_type": "code",
      "metadata": {
        "id": "zMBEdgFEjLUP"
      },
      "source": [
        "# This function makes easy to handle exceptions (e.g. no text where text should be)\n",
        "# not really needed but can be useful \n",
        "\n",
        "def detect_lang(text):\n",
        "    try: \n",
        "        return wtl.predict_lang(text)\n",
        "    except Exception:\n",
        "        return 'exp'"
      ],
      "execution_count": null,
      "outputs": []
    },
    {
      "cell_type": "code",
      "metadata": {
        "id": "l9rlZgXgjXDw",
        "outputId": "d32a8529-0858-46fd-e8e8-4d8bd4ea1cc5",
        "colab": {
          "base_uri": "https://localhost:8080/"
        }
      },
      "source": [
        "# Added performance measure here...you can leave teh %%time line out\n",
        "\n",
        "%%time\n",
        "\n",
        "tweets['lang'] = tweets['tweet'].map(lambda t: detect_lang(t))"
      ],
      "execution_count": null,
      "outputs": [
        {
          "output_type": "stream",
          "name": "stdout",
          "text": [
            "CPU times: user 30.2 ms, sys: 743 µs, total: 31 ms\n",
            "Wall time: 32.3 ms\n"
          ]
        }
      ]
    },
    {
      "cell_type": "code",
      "metadata": {
        "id": "rCPieQn9j3MV"
      },
      "source": [
        "# keep only english\n",
        "\n",
        "tweets = tweets[tweets.lang == 'fa']"
      ],
      "execution_count": null,
      "outputs": []
    },
    {
      "cell_type": "code",
      "metadata": {
        "id": "w1VSc-YxknvE"
      },
      "source": [
        "# Done\n",
        "\n",
        "tweets.to_json('tweets_boomer.json')"
      ],
      "execution_count": null,
      "outputs": []
    },
    {
      "cell_type": "markdown",
      "metadata": {
        "id": "QywSTKb6ETB1"
      },
      "source": [
        "## Get peoples' connections"
      ]
    },
    {
      "cell_type": "markdown",
      "metadata": {
        "id": "_B-5weE8FJfd"
      },
      "source": [
        "This is a short analysis in which I combine (very) basic scraping with extraction of Twitter networks and network analysis. \n",
        "The purpose was to identify interesting people on Twitter for me to follow...\n",
        "\n",
        "The appropach:\n",
        "\n",
        "- Fet links to all shows\n",
        "- Fetch links to twitter-accounts form the shownotes\n",
        "- Use these URLs to identify users\n",
        "- Scrape all people these people follow\n",
        "\n",
        "Assumption: People that are followed by people that are invited on TwimlAI are people, I should be following...\n",
        "\n"
      ]
    },
    {
      "cell_type": "code",
      "metadata": {
        "id": "0q8OwylNKpoW"
      },
      "source": [
        "# Import libraries\n",
        "import re\n",
        "import pickle # pickle is for storing element...pickling... you can store any kind of python object with that\n",
        "import requests as rq"
      ],
      "execution_count": null,
      "outputs": []
    },
    {
      "cell_type": "code",
      "metadata": {
        "id": "f3mCF_w9K-dy"
      },
      "source": [
        "# Load HTML parser library...yes, that's its name.\n",
        "from bs4 import BeautifulSoup"
      ],
      "execution_count": null,
      "outputs": []
    },
    {
      "cell_type": "code",
      "metadata": {
        "id": "L5_XGrPaK7M5"
      },
      "source": [
        "# Get URLs of all TWIML shows\n",
        "r = rq.get('https://twimlai.com/shows/')"
      ],
      "execution_count": null,
      "outputs": []
    },
    {
      "cell_type": "code",
      "metadata": {
        "id": "8r9j0Q46K_t-"
      },
      "source": [
        "# Parse the HTML\n",
        "soup = BeautifulSoup(r.text)"
      ],
      "execution_count": null,
      "outputs": []
    },
    {
      "cell_type": "code",
      "metadata": {
        "id": "UGNoxJLELbJ4"
      },
      "source": [
        "# Fetch all links from parsed HTML\n",
        "links = soup.find_all('a')"
      ],
      "execution_count": null,
      "outputs": []
    },
    {
      "cell_type": "code",
      "metadata": {
        "id": "ISt5Oe5EMJg6"
      },
      "source": [
        "# Keep only links leading to a twiml-podcast\n",
        "links = [l.attrs['href'] for l in links if l.attrs['href'].startswith('https://twimlai.com/twiml-talk')]"
      ],
      "execution_count": null,
      "outputs": []
    },
    {
      "cell_type": "code",
      "metadata": {
        "id": "HpkIUNL4Mb97"
      },
      "source": [
        "# Drop duplicated links\n",
        "links = list(set(links))"
      ],
      "execution_count": null,
      "outputs": []
    },
    {
      "cell_type": "code",
      "metadata": {
        "id": "JOO05iDkfmA8"
      },
      "source": [
        "# Iterate and fetch show-notes, then extract links leading to twitter. \n",
        "twitter_urls = []\n",
        "for link in links:\n",
        "  show = rq.get(link) # get shownotes \n",
        "  soup = BeautifulSoup(show.text) # parse\n",
        "  show_links = soup.find_all('a') # find links \n",
        "  show_links = [l.attrs['href'] for l in show_links if l.attrs['href'].startswith('https://twitter.com')] # keep only links to twitter\n",
        "  twitter_urls.extend(show_links) # store"
      ],
      "execution_count": null,
      "outputs": []
    },
    {
      "cell_type": "code",
      "metadata": {
        "id": "rd-OhmSuQLrZ"
      },
      "source": [
        "# Store the lovely list of links to twitter profiles\n",
        "pickle.dump(list(set(twitter_urls)), open('twitter-list.p','wb'))"
      ],
      "execution_count": null,
      "outputs": []
    },
    {
      "cell_type": "code",
      "metadata": {
        "id": "1hhFblsXZm0q"
      },
      "source": [
        "# Unless already imported\n",
        "import twint\n",
        "import numpy as np"
      ],
      "execution_count": null,
      "outputs": []
    },
    {
      "cell_type": "code",
      "metadata": {
        "id": "ws0uHEKvlU5Q"
      },
      "source": [
        "# Filter out tooooo long twitter links that are more than likely not profiles\n",
        "usernames = [x.replace('https://twitter.com/','') for x in set(twitter_urls) if len(x) <= 50]"
      ],
      "execution_count": null,
      "outputs": []
    },
    {
      "cell_type": "code",
      "metadata": {
        "id": "AjAc-FD4OwRw"
      },
      "source": [
        "# Profile lookup\n",
        "\n",
        "for username in usernames:\n",
        "  c = twint.Config()\n",
        "  c.Username = username\n",
        "  c.Store_object = True\n",
        "  c.User_full = False\n",
        "  c.Pandas =True\n",
        "  twint.run.Lookup(c)"
      ],
      "execution_count": null,
      "outputs": []
    },
    {
      "cell_type": "code",
      "metadata": {
        "id": "3UdlnGAWJKjU"
      },
      "source": [
        "# Store in a DF\n",
        "user_df = twint.storage.panda.User_df.drop_duplicates(subset=['id'])"
      ],
      "execution_count": null,
      "outputs": []
    },
    {
      "cell_type": "code",
      "metadata": {
        "id": "s7ewsMJAZJQ9"
      },
      "source": [
        "#Store away\n",
        "user_df.to_csv('user_df.csv')"
      ],
      "execution_count": null,
      "outputs": []
    },
    {
      "cell_type": "code",
      "metadata": {
        "id": "1GmoylsTVVWI"
      },
      "source": [
        "# Or like that\n",
        "user_df[['bio','username']].to_csv('short.csv')"
      ],
      "execution_count": null,
      "outputs": []
    },
    {
      "cell_type": "code",
      "metadata": {
        "id": "k0XBKyrAe2nT"
      },
      "source": [
        "# Clean up\n",
        "twint.storage.panda.clean()\n",
        "twint.output.clean_follow_list()"
      ],
      "execution_count": null,
      "outputs": []
    },
    {
      "cell_type": "code",
      "metadata": {
        "id": "rlI6EyXlr-6H",
        "outputId": "f30d84e3-f5c6-436c-926b-3c3d12994d4e",
        "colab": {
          "base_uri": "https://localhost:8080/",
          "height": 122
        }
      },
      "source": [
        "# Connect Google drive\n",
        "from google.colab import drive\n",
        "drive.mount('/content/drive')"
      ],
      "execution_count": null,
      "outputs": [
        {
          "output_type": "stream",
          "text": [
            "Go to this URL in a browser: https://accounts.google.com/o/oauth2/auth?client_id=947318989803-6bn6qk8qdgf4n4g3pfee6491hc0brc4i.apps.googleusercontent.com&redirect_uri=urn%3Aietf%3Awg%3Aoauth%3A2.0%3Aoob&scope=email%20https%3A%2F%2Fwww.googleapis.com%2Fauth%2Fdocs.test%20https%3A%2F%2Fwww.googleapis.com%2Fauth%2Fdrive%20https%3A%2F%2Fwww.googleapis.com%2Fauth%2Fdrive.photos.readonly%20https%3A%2F%2Fwww.googleapis.com%2Fauth%2Fpeopleapi.readonly&response_type=code\n",
            "\n",
            "Enter your authorization code:\n",
            "··········\n",
            "Mounted at /content/drive\n"
          ],
          "name": "stdout"
        }
      ]
    },
    {
      "cell_type": "code",
      "metadata": {
        "id": "R4anxeOYZytq"
      },
      "source": [
        "# we iterate over the different usernames and store follower dataframe\n",
        "for u in user_df['username']:\n",
        "  c = twint.Config()\n",
        "  c.Username = u\n",
        "  c.Store_object = True\n",
        "  c.User_full = False\n",
        "  c.Pandas = True\n",
        "  c.Store_pandas = True\n",
        "  c.Stats = False\n",
        "  c.Hide_output = True\n",
        "\n",
        "  twint.run.Following(c)\n",
        "  twint.storage.panda.Follow_df.to_pickle(\"/content/drive/My Drive/Colab/TWIML-guests/{}.p\".format(u))\n",
        "  twint.storage.panda.clean()\n",
        "  twint.output.clean_follow_list()"
      ],
      "execution_count": null,
      "outputs": []
    },
    {
      "cell_type": "code",
      "metadata": {
        "id": "Scek9Zxf9u6D"
      },
      "source": [
        "# To get the data back we use glob...which will help us dealing with many tiny filed\n",
        "import glob"
      ],
      "execution_count": null,
      "outputs": []
    },
    {
      "cell_type": "code",
      "metadata": {
        "id": "-dpBbfUD9wXH"
      },
      "source": [
        "# Get paths of all stored files\n",
        "paths = glob.glob('/content/drive/My Drive/Colab/TWIML-guests/*.*')"
      ],
      "execution_count": null,
      "outputs": []
    },
    {
      "cell_type": "code",
      "metadata": {
        "id": "7SXO4fPnqb4N"
      },
      "source": [
        "# Create an edgelist\n",
        "# read stored DFs with following, append into long edgelist\n",
        "\n",
        "empty = []\n",
        "edgelist = pd.DataFrame(columns = ['target', 'source'])\n",
        "for path in paths:\n",
        "  df = pd.read_pickle(path)\n",
        "  if len(df) == 1:\n",
        "    name = df.index[0]\n",
        "    edges = pd.DataFrame(df['following'][name], columns=['target'])\n",
        "    edges['source'] = name\n",
        "    edgelist = edgelist.append(edges)\n",
        "  else:\n",
        "    empty.append(path)"
      ],
      "execution_count": null,
      "outputs": []
    },
    {
      "cell_type": "code",
      "metadata": {
        "id": "TBJbG-ww-sL6"
      },
      "source": [
        "# Reindex\n",
        "\n",
        "edgelist.index = range(edgelist.shape[0])"
      ],
      "execution_count": null,
      "outputs": []
    },
    {
      "cell_type": "markdown",
      "metadata": {
        "id": "agpXQRN0KuOJ"
      },
      "source": [
        "### From here: Network analysis 101"
      ]
    },
    {
      "cell_type": "code",
      "metadata": {
        "id": "j7zP0D2V-uxu"
      },
      "source": [
        "import networkx as nx\n",
        "from networkx.algorithms import bipartite "
      ],
      "execution_count": null,
      "outputs": []
    },
    {
      "cell_type": "code",
      "metadata": {
        "id": "XBsbcSlm_Vtj"
      },
      "source": [
        "G = nx.DiGraph()"
      ],
      "execution_count": null,
      "outputs": []
    },
    {
      "cell_type": "code",
      "metadata": {
        "id": "A8a5zmE__V0d"
      },
      "source": [
        "G.add_edges_from([(u,v) for (u,v) in zip(edgelist['source'],edgelist['target'])])"
      ],
      "execution_count": null,
      "outputs": []
    },
    {
      "cell_type": "code",
      "metadata": {
        "id": "hIjvwsFe_V-J",
        "outputId": "f2ac3ccf-fba6-4249-e78d-a2371f9f8840",
        "colab": {
          "base_uri": "https://localhost:8080/",
          "height": 34
        }
      },
      "source": [
        "len(G.nodes)"
      ],
      "execution_count": null,
      "outputs": [
        {
          "output_type": "execute_result",
          "data": {
            "text/plain": [
              "87738"
            ]
          },
          "metadata": {
            "tags": []
          },
          "execution_count": 415
        }
      ]
    },
    {
      "cell_type": "code",
      "metadata": {
        "id": "VF9LRMnc_V8e"
      },
      "source": [
        "eigenvector = nx.eigenvector_centrality(G)"
      ],
      "execution_count": null,
      "outputs": []
    },
    {
      "cell_type": "code",
      "metadata": {
        "id": "A3NTBtld_V4P"
      },
      "source": [
        "nx.set_node_attributes(G, eigenvector, 'eigenvector_centrality')"
      ],
      "execution_count": null,
      "outputs": []
    },
    {
      "cell_type": "code",
      "metadata": {
        "id": "YTsg0ZRDAzXp"
      },
      "source": [
        "import community"
      ],
      "execution_count": null,
      "outputs": []
    },
    {
      "cell_type": "code",
      "metadata": {
        "id": "GRjTFCweA4Hq"
      },
      "source": [
        "G_und = G.to_undirected()"
      ],
      "execution_count": null,
      "outputs": []
    },
    {
      "cell_type": "code",
      "metadata": {
        "id": "bPqvt5X0A4fh"
      },
      "source": [
        "communities = community.best_partition(G_und, resolution = 1)\n",
        "nx.set_node_attributes(G, communities, 'community')"
      ],
      "execution_count": null,
      "outputs": []
    },
    {
      "cell_type": "code",
      "metadata": {
        "id": "JGNNhqv1Hb8Y"
      },
      "source": [
        "perc_filter = np.percentile([v for u,v in eigenvector.items()], 90)"
      ],
      "execution_count": null,
      "outputs": []
    },
    {
      "cell_type": "code",
      "metadata": {
        "id": "EqTrTKviHjZW"
      },
      "source": [
        "nodes_selected = [x for x,y in eigenvector.items() if y >= perc_filter]\n",
        "\n",
        "G_sub = G.subgraph(nodes_selected)"
      ],
      "execution_count": null,
      "outputs": []
    },
    {
      "cell_type": "code",
      "metadata": {
        "id": "KX6na4vFPOcU"
      },
      "source": [
        "communities = community.best_partition(G_sub.to_undirected(), resolution = 1)\n",
        "nx.set_node_attributes(G_sub, communities, 'community_2')"
      ],
      "execution_count": null,
      "outputs": []
    },
    {
      "cell_type": "code",
      "metadata": {
        "id": "IR786gP9Hrzx",
        "outputId": "5a1bccf3-1e49-4aac-d350-86d0aa6cc353",
        "colab": {
          "base_uri": "https://localhost:8080/",
          "height": 34
        }
      },
      "source": [
        "len(G_sub.nodes)"
      ],
      "execution_count": null,
      "outputs": [
        {
          "output_type": "execute_result",
          "data": {
            "text/plain": [
              "6772"
            ]
          },
          "metadata": {
            "tags": []
          },
          "execution_count": 493
        }
      ]
    },
    {
      "cell_type": "code",
      "metadata": {
        "id": "0Y5HhMrgH2kM"
      },
      "source": [
        "nx.write_gexf(G_sub, 'twiml.gexf')"
      ],
      "execution_count": null,
      "outputs": []
    },
    {
      "cell_type": "code",
      "metadata": {
        "id": "izI0DgleC6ce"
      },
      "source": [
        "net_df = pd.DataFrame(dict(G_sub.nodes(data=True))).T"
      ],
      "execution_count": null,
      "outputs": []
    },
    {
      "cell_type": "code",
      "metadata": {
        "id": "z4XK5oX1C6oi"
      },
      "source": [
        "net_df.groupby('community_2').apply(lambda t: t.sort_values(['eigenvector_centrality'],ascending=False)[:10])"
      ],
      "execution_count": null,
      "outputs": []
    },
    {
      "cell_type": "code",
      "metadata": {
        "id": "E_JQLB6nGTWH"
      },
      "source": [
        "nlp_ppl = net_df[net_df.community_2 == 3].sort_values(['eigenvector_centrality'],ascending=False).index"
      ],
      "execution_count": null,
      "outputs": []
    }
  ]
}